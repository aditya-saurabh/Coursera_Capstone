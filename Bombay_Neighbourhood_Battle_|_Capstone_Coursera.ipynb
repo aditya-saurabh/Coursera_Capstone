{
  "nbformat": 4,
  "nbformat_minor": 0,
  "metadata": {
    "colab": {
      "name": "Bombay Neighbourhood Battle | Capstone_Coursera",
      "provenance": [],
      "include_colab_link": true
    },
    "kernelspec": {
      "name": "python3",
      "display_name": "Python 3"
    }
  },
  "cells": [
    {
      "cell_type": "markdown",
      "metadata": {
        "id": "view-in-github",
        "colab_type": "text"
      },
      "source": [
        "<a href=\"https://colab.research.google.com/github/aditya-saurabh/Coursera_Capstone/blob/master/Bombay_Neighbourhood_Battle_%7C_Capstone_Coursera.ipynb\" target=\"_parent\"><img src=\"https://colab.research.google.com/assets/colab-badge.svg\" alt=\"Open In Colab\"/></a>"
      ]
    },
    {
      "cell_type": "markdown",
      "metadata": {
        "id": "dKS1mm19ZYHF",
        "colab_type": "text"
      },
      "source": [
        "# **Battle of Neighbourhood** #\n",
        "#### compare various neighbourhoods of Mumbai and clustering them based on similarity of various localities. This could be pretty useful for someone who is planning to change locality.<br> Key techniques has been listed below: ####\n",
        "#### <ul><li> Neighbourhood data is collected from <a href = https://www.mapsofindia.com/pincode/india/maharashtra/mumbai/>here</a><li> Foursquare API has been used to explore the nearby venue<li>Folium library has been used to generate interactive maps of the city<li>K Means clustering algorithm has been used to cluster data"
      ]
    },
    {
      "cell_type": "code",
      "metadata": {
        "id": "_Z73scCeZV9E",
        "colab_type": "code",
        "colab": {}
      },
      "source": [
        "# Importing libraries"
      ],
      "execution_count": 0,
      "outputs": []
    },
    {
      "cell_type": "code",
      "metadata": {
        "id": "iA1LHOuwLC23",
        "colab_type": "code",
        "colab": {}
      },
      "source": [
        "import pandas as pd\n",
        "from geopy.geocoders import Nominatim\n",
        "import numpy as np\n",
        "import requests\n",
        "import folium\n",
        "from pandas.io.json import json_normalize\n",
        "import matplotlib.pyplot as plt"
      ],
      "execution_count": 0,
      "outputs": []
    },
    {
      "cell_type": "code",
      "metadata": {
        "id": "2fU2sNYU30JO",
        "colab_type": "code",
        "outputId": "1e354e93-21cd-4172-a547-69118f837e52",
        "colab": {
          "base_uri": "https://localhost:8080/",
          "height": 69
        }
      },
      "source": [
        "#For four-square API call\n",
        "CLIENT_ID = 'NXLQWZGXTP2WIFOLL5P3QMROZFNFEC4LE3JJCIVZGLLRNUF5' # your Foursquare ID\n",
        "CLIENT_SECRET = 'H2RZXGB5WGWMMFNPXC3TXSAEETKXRQJCHJ5FBTD4SEZKRX54' # your Foursquare Secret\n",
        "VERSION = '20191012' # Foursquare API version\n",
        "\n",
        "print('Your credentails:')\n",
        "print('CLIENT_ID: ' + CLIENT_ID)\n",
        "print('CLIENT_SECRET:' + CLIENT_SECRET)"
      ],
      "execution_count": 3,
      "outputs": [
        {
          "output_type": "stream",
          "text": [
            "Your credentails:\n",
            "CLIENT_ID: NXLQWZGXTP2WIFOLL5P3QMROZFNFEC4LE3JJCIVZGLLRNUF5\n",
            "CLIENT_SECRET:H2RZXGB5WGWMMFNPXC3TXSAEETKXRQJCHJ5FBTD4SEZKRX54\n"
          ],
          "name": "stdout"
        }
      ]
    },
    {
      "cell_type": "markdown",
      "metadata": {
        "id": "S7UkgrEXcfeD",
        "colab_type": "text"
      },
      "source": [
        "The data of various localities of Mumbai has been taken from the url below. The table is extracted and but into the pandas dataframe for further investigation."
      ]
    },
    {
      "cell_type": "code",
      "metadata": {
        "id": "F2ZmQVms4OFm",
        "colab_type": "code",
        "colab": {}
      },
      "source": [
        "url_loc = 'https://www.mapsofindia.com/pincode/india/maharashtra/mumbai/'\n",
        "neigh_data = pd.read_html(url_loc)"
      ],
      "execution_count": 0,
      "outputs": []
    },
    {
      "cell_type": "code",
      "metadata": {
        "id": "DKRh7048czZr",
        "colab_type": "code",
        "colab": {}
      },
      "source": [
        ""
      ],
      "execution_count": 0,
      "outputs": []
    },
    {
      "cell_type": "markdown",
      "metadata": {
        "id": "6aFt794Jc6ZN",
        "colab_type": "text"
      },
      "source": [
        "## Refining the dataset ##"
      ]
    },
    {
      "cell_type": "code",
      "metadata": {
        "id": "Fe2m5I2i8GAM",
        "colab_type": "code",
        "outputId": "c5ad9cd9-8b04-4dfe-d626-d3bac76903b3",
        "colab": {
          "base_uri": "https://localhost:8080/",
          "height": 34
        }
      },
      "source": [
        "df = neigh_data[0]\n",
        "type(df)"
      ],
      "execution_count": 5,
      "outputs": [
        {
          "output_type": "execute_result",
          "data": {
            "text/plain": [
              "pandas.core.frame.DataFrame"
            ]
          },
          "metadata": {
            "tags": []
          },
          "execution_count": 5
        }
      ]
    },
    {
      "cell_type": "code",
      "metadata": {
        "id": "HvdBwZx78Hj_",
        "colab_type": "code",
        "outputId": "43efe3d6-2ec1-41c5-b280-2e2960428a16",
        "colab": {
          "base_uri": "https://localhost:8080/",
          "height": 34
        }
      },
      "source": [
        "df.shape"
      ],
      "execution_count": 6,
      "outputs": [
        {
          "output_type": "execute_result",
          "data": {
            "text/plain": [
              "(183, 4)"
            ]
          },
          "metadata": {
            "tags": []
          },
          "execution_count": 6
        }
      ]
    },
    {
      "cell_type": "code",
      "metadata": {
        "id": "13ZaySOt8gdN",
        "colab_type": "code",
        "outputId": "d6b3b6e8-35d1-4dfb-e1f2-9c23669f72f4",
        "colab": {
          "base_uri": "https://localhost:8080/",
          "height": 206
        }
      },
      "source": [
        "df.head()"
      ],
      "execution_count": 7,
      "outputs": [
        {
          "output_type": "execute_result",
          "data": {
            "text/html": [
              "<div>\n",
              "<style scoped>\n",
              "    .dataframe tbody tr th:only-of-type {\n",
              "        vertical-align: middle;\n",
              "    }\n",
              "\n",
              "    .dataframe tbody tr th {\n",
              "        vertical-align: top;\n",
              "    }\n",
              "\n",
              "    .dataframe thead th {\n",
              "        text-align: right;\n",
              "    }\n",
              "</style>\n",
              "<table border=\"1\" class=\"dataframe\">\n",
              "  <thead>\n",
              "    <tr style=\"text-align: right;\">\n",
              "      <th></th>\n",
              "      <th>Pincode Details</th>\n",
              "      <th>Pincode Details.1</th>\n",
              "      <th>Pincode Details.2</th>\n",
              "      <th>Pincode Details.3</th>\n",
              "    </tr>\n",
              "  </thead>\n",
              "  <tbody>\n",
              "    <tr>\n",
              "      <th>0</th>\n",
              "      <td>Location</td>\n",
              "      <td>Pincode</td>\n",
              "      <td>State</td>\n",
              "      <td>District</td>\n",
              "    </tr>\n",
              "    <tr>\n",
              "      <th>1</th>\n",
              "      <td>A I staff colony</td>\n",
              "      <td>400029</td>\n",
              "      <td>Maharashtra</td>\n",
              "      <td>Mumbai</td>\n",
              "    </tr>\n",
              "    <tr>\n",
              "      <th>2</th>\n",
              "      <td>Aareymilk Colony</td>\n",
              "      <td>400065</td>\n",
              "      <td>Maharashtra</td>\n",
              "      <td>Mumbai</td>\n",
              "    </tr>\n",
              "    <tr>\n",
              "      <th>3</th>\n",
              "      <td>Agripada</td>\n",
              "      <td>400011</td>\n",
              "      <td>Maharashtra</td>\n",
              "      <td>Mumbai</td>\n",
              "    </tr>\n",
              "    <tr>\n",
              "      <th>4</th>\n",
              "      <td>Airport</td>\n",
              "      <td>400099</td>\n",
              "      <td>Maharashtra</td>\n",
              "      <td>Mumbai</td>\n",
              "    </tr>\n",
              "  </tbody>\n",
              "</table>\n",
              "</div>"
            ],
            "text/plain": [
              "    Pincode Details Pincode Details.1 Pincode Details.2 Pincode Details.3\n",
              "0          Location           Pincode             State          District\n",
              "1  A I staff colony            400029       Maharashtra            Mumbai\n",
              "2  Aareymilk Colony            400065       Maharashtra            Mumbai\n",
              "3          Agripada            400011       Maharashtra            Mumbai\n",
              "4           Airport            400099       Maharashtra            Mumbai"
            ]
          },
          "metadata": {
            "tags": []
          },
          "execution_count": 7
        }
      ]
    },
    {
      "cell_type": "code",
      "metadata": {
        "id": "mm8qI0Ai8iTw",
        "colab_type": "code",
        "outputId": "746b046e-2803-4165-c588-b6fdd37bcbee",
        "colab": {
          "base_uri": "https://localhost:8080/",
          "height": 206
        }
      },
      "source": [
        "# Putting appropriate column heading\n",
        "df.columns = df.loc[0]\n",
        "df.drop(index = 0, axis = 0, inplace = True)\n",
        "df.head()"
      ],
      "execution_count": 8,
      "outputs": [
        {
          "output_type": "execute_result",
          "data": {
            "text/html": [
              "<div>\n",
              "<style scoped>\n",
              "    .dataframe tbody tr th:only-of-type {\n",
              "        vertical-align: middle;\n",
              "    }\n",
              "\n",
              "    .dataframe tbody tr th {\n",
              "        vertical-align: top;\n",
              "    }\n",
              "\n",
              "    .dataframe thead th {\n",
              "        text-align: right;\n",
              "    }\n",
              "</style>\n",
              "<table border=\"1\" class=\"dataframe\">\n",
              "  <thead>\n",
              "    <tr style=\"text-align: right;\">\n",
              "      <th></th>\n",
              "      <th>Location</th>\n",
              "      <th>Pincode</th>\n",
              "      <th>State</th>\n",
              "      <th>District</th>\n",
              "    </tr>\n",
              "  </thead>\n",
              "  <tbody>\n",
              "    <tr>\n",
              "      <th>1</th>\n",
              "      <td>A I staff colony</td>\n",
              "      <td>400029</td>\n",
              "      <td>Maharashtra</td>\n",
              "      <td>Mumbai</td>\n",
              "    </tr>\n",
              "    <tr>\n",
              "      <th>2</th>\n",
              "      <td>Aareymilk Colony</td>\n",
              "      <td>400065</td>\n",
              "      <td>Maharashtra</td>\n",
              "      <td>Mumbai</td>\n",
              "    </tr>\n",
              "    <tr>\n",
              "      <th>3</th>\n",
              "      <td>Agripada</td>\n",
              "      <td>400011</td>\n",
              "      <td>Maharashtra</td>\n",
              "      <td>Mumbai</td>\n",
              "    </tr>\n",
              "    <tr>\n",
              "      <th>4</th>\n",
              "      <td>Airport</td>\n",
              "      <td>400099</td>\n",
              "      <td>Maharashtra</td>\n",
              "      <td>Mumbai</td>\n",
              "    </tr>\n",
              "    <tr>\n",
              "      <th>5</th>\n",
              "      <td>Ambewadi</td>\n",
              "      <td>400004</td>\n",
              "      <td>Maharashtra</td>\n",
              "      <td>Mumbai</td>\n",
              "    </tr>\n",
              "  </tbody>\n",
              "</table>\n",
              "</div>"
            ],
            "text/plain": [
              "0          Location Pincode        State District\n",
              "1  A I staff colony  400029  Maharashtra   Mumbai\n",
              "2  Aareymilk Colony  400065  Maharashtra   Mumbai\n",
              "3          Agripada  400011  Maharashtra   Mumbai\n",
              "4           Airport  400099  Maharashtra   Mumbai\n",
              "5          Ambewadi  400004  Maharashtra   Mumbai"
            ]
          },
          "metadata": {
            "tags": []
          },
          "execution_count": 8
        }
      ]
    },
    {
      "cell_type": "code",
      "metadata": {
        "id": "80s3wTv68swv",
        "colab_type": "code",
        "outputId": "d27fde6f-6586-48ce-8e87-5e7df73be308",
        "colab": {
          "base_uri": "https://localhost:8080/",
          "height": 34
        }
      },
      "source": [
        "df.shape"
      ],
      "execution_count": 9,
      "outputs": [
        {
          "output_type": "execute_result",
          "data": {
            "text/plain": [
              "(182, 4)"
            ]
          },
          "metadata": {
            "tags": []
          },
          "execution_count": 9
        }
      ]
    },
    {
      "cell_type": "code",
      "metadata": {
        "id": "f5FUu5I79TK4",
        "colab_type": "code",
        "outputId": "d022b010-d40b-4a8e-cffb-4a1926ecef09",
        "colab": {
          "base_uri": "https://localhost:8080/",
          "height": 206
        }
      },
      "source": [
        "df.reset_index(inplace = True, drop = True)\n",
        "df.head()"
      ],
      "execution_count": 10,
      "outputs": [
        {
          "output_type": "execute_result",
          "data": {
            "text/html": [
              "<div>\n",
              "<style scoped>\n",
              "    .dataframe tbody tr th:only-of-type {\n",
              "        vertical-align: middle;\n",
              "    }\n",
              "\n",
              "    .dataframe tbody tr th {\n",
              "        vertical-align: top;\n",
              "    }\n",
              "\n",
              "    .dataframe thead th {\n",
              "        text-align: right;\n",
              "    }\n",
              "</style>\n",
              "<table border=\"1\" class=\"dataframe\">\n",
              "  <thead>\n",
              "    <tr style=\"text-align: right;\">\n",
              "      <th></th>\n",
              "      <th>Location</th>\n",
              "      <th>Pincode</th>\n",
              "      <th>State</th>\n",
              "      <th>District</th>\n",
              "    </tr>\n",
              "  </thead>\n",
              "  <tbody>\n",
              "    <tr>\n",
              "      <th>0</th>\n",
              "      <td>A I staff colony</td>\n",
              "      <td>400029</td>\n",
              "      <td>Maharashtra</td>\n",
              "      <td>Mumbai</td>\n",
              "    </tr>\n",
              "    <tr>\n",
              "      <th>1</th>\n",
              "      <td>Aareymilk Colony</td>\n",
              "      <td>400065</td>\n",
              "      <td>Maharashtra</td>\n",
              "      <td>Mumbai</td>\n",
              "    </tr>\n",
              "    <tr>\n",
              "      <th>2</th>\n",
              "      <td>Agripada</td>\n",
              "      <td>400011</td>\n",
              "      <td>Maharashtra</td>\n",
              "      <td>Mumbai</td>\n",
              "    </tr>\n",
              "    <tr>\n",
              "      <th>3</th>\n",
              "      <td>Airport</td>\n",
              "      <td>400099</td>\n",
              "      <td>Maharashtra</td>\n",
              "      <td>Mumbai</td>\n",
              "    </tr>\n",
              "    <tr>\n",
              "      <th>4</th>\n",
              "      <td>Ambewadi</td>\n",
              "      <td>400004</td>\n",
              "      <td>Maharashtra</td>\n",
              "      <td>Mumbai</td>\n",
              "    </tr>\n",
              "  </tbody>\n",
              "</table>\n",
              "</div>"
            ],
            "text/plain": [
              "0          Location Pincode        State District\n",
              "0  A I staff colony  400029  Maharashtra   Mumbai\n",
              "1  Aareymilk Colony  400065  Maharashtra   Mumbai\n",
              "2          Agripada  400011  Maharashtra   Mumbai\n",
              "3           Airport  400099  Maharashtra   Mumbai\n",
              "4          Ambewadi  400004  Maharashtra   Mumbai"
            ]
          },
          "metadata": {
            "tags": []
          },
          "execution_count": 10
        }
      ]
    },
    {
      "cell_type": "code",
      "metadata": {
        "id": "78VMtd169jDh",
        "colab_type": "code",
        "colab": {}
      },
      "source": [
        "df.drop(labels = ['State', 'District'], axis = 1, inplace = True, )"
      ],
      "execution_count": 0,
      "outputs": []
    },
    {
      "cell_type": "code",
      "metadata": {
        "id": "3DdwhyO5-XMh",
        "colab_type": "code",
        "outputId": "7e2e1ad0-b27a-4275-8051-51db2308d739",
        "colab": {
          "base_uri": "https://localhost:8080/",
          "height": 206
        }
      },
      "source": [
        "df.head()"
      ],
      "execution_count": 12,
      "outputs": [
        {
          "output_type": "execute_result",
          "data": {
            "text/html": [
              "<div>\n",
              "<style scoped>\n",
              "    .dataframe tbody tr th:only-of-type {\n",
              "        vertical-align: middle;\n",
              "    }\n",
              "\n",
              "    .dataframe tbody tr th {\n",
              "        vertical-align: top;\n",
              "    }\n",
              "\n",
              "    .dataframe thead th {\n",
              "        text-align: right;\n",
              "    }\n",
              "</style>\n",
              "<table border=\"1\" class=\"dataframe\">\n",
              "  <thead>\n",
              "    <tr style=\"text-align: right;\">\n",
              "      <th></th>\n",
              "      <th>Location</th>\n",
              "      <th>Pincode</th>\n",
              "    </tr>\n",
              "  </thead>\n",
              "  <tbody>\n",
              "    <tr>\n",
              "      <th>0</th>\n",
              "      <td>A I staff colony</td>\n",
              "      <td>400029</td>\n",
              "    </tr>\n",
              "    <tr>\n",
              "      <th>1</th>\n",
              "      <td>Aareymilk Colony</td>\n",
              "      <td>400065</td>\n",
              "    </tr>\n",
              "    <tr>\n",
              "      <th>2</th>\n",
              "      <td>Agripada</td>\n",
              "      <td>400011</td>\n",
              "    </tr>\n",
              "    <tr>\n",
              "      <th>3</th>\n",
              "      <td>Airport</td>\n",
              "      <td>400099</td>\n",
              "    </tr>\n",
              "    <tr>\n",
              "      <th>4</th>\n",
              "      <td>Ambewadi</td>\n",
              "      <td>400004</td>\n",
              "    </tr>\n",
              "  </tbody>\n",
              "</table>\n",
              "</div>"
            ],
            "text/plain": [
              "0          Location Pincode\n",
              "0  A I staff colony  400029\n",
              "1  Aareymilk Colony  400065\n",
              "2          Agripada  400011\n",
              "3           Airport  400099\n",
              "4          Ambewadi  400004"
            ]
          },
          "metadata": {
            "tags": []
          },
          "execution_count": 12
        }
      ]
    },
    {
      "cell_type": "code",
      "metadata": {
        "id": "mxymSIF-dU9E",
        "colab_type": "code",
        "outputId": "9e6fa96a-d85c-4304-e5e5-d2a969ee68fa",
        "colab": {
          "base_uri": "https://localhost:8080/",
          "height": 175
        }
      },
      "source": [
        "df.describe(include='all')"
      ],
      "execution_count": 13,
      "outputs": [
        {
          "output_type": "execute_result",
          "data": {
            "text/html": [
              "<div>\n",
              "<style scoped>\n",
              "    .dataframe tbody tr th:only-of-type {\n",
              "        vertical-align: middle;\n",
              "    }\n",
              "\n",
              "    .dataframe tbody tr th {\n",
              "        vertical-align: top;\n",
              "    }\n",
              "\n",
              "    .dataframe thead th {\n",
              "        text-align: right;\n",
              "    }\n",
              "</style>\n",
              "<table border=\"1\" class=\"dataframe\">\n",
              "  <thead>\n",
              "    <tr style=\"text-align: right;\">\n",
              "      <th></th>\n",
              "      <th>Location</th>\n",
              "      <th>Pincode</th>\n",
              "    </tr>\n",
              "  </thead>\n",
              "  <tbody>\n",
              "    <tr>\n",
              "      <th>count</th>\n",
              "      <td>182</td>\n",
              "      <td>182</td>\n",
              "    </tr>\n",
              "    <tr>\n",
              "      <th>unique</th>\n",
              "      <td>182</td>\n",
              "      <td>67</td>\n",
              "    </tr>\n",
              "    <tr>\n",
              "      <th>top</th>\n",
              "      <td>Hanuman Road</td>\n",
              "      <td>400003</td>\n",
              "    </tr>\n",
              "    <tr>\n",
              "      <th>freq</th>\n",
              "      <td>1</td>\n",
              "      <td>7</td>\n",
              "    </tr>\n",
              "  </tbody>\n",
              "</table>\n",
              "</div>"
            ],
            "text/plain": [
              "0           Location Pincode\n",
              "count            182     182\n",
              "unique           182      67\n",
              "top     Hanuman Road  400003\n",
              "freq               1       7"
            ]
          },
          "metadata": {
            "tags": []
          },
          "execution_count": 13
        }
      ]
    },
    {
      "cell_type": "code",
      "metadata": {
        "id": "8G16Smx_EJp9",
        "colab_type": "code",
        "colab": {}
      },
      "source": [
        "# There are only 67 unique Pin Code, so aggregating Location together and grouping by Pincode\n",
        "df = df.groupby('Pincode').agg(lambda col: ', '.join(col)).reset_index(drop = False)"
      ],
      "execution_count": 0,
      "outputs": []
    },
    {
      "cell_type": "code",
      "metadata": {
        "id": "YT6I-4a2EJ15",
        "colab_type": "code",
        "outputId": "1ed7f1c5-550c-4371-be45-412c472c362a",
        "colab": {
          "base_uri": "https://localhost:8080/",
          "height": 206
        }
      },
      "source": [
        "df.head()"
      ],
      "execution_count": 15,
      "outputs": [
        {
          "output_type": "execute_result",
          "data": {
            "text/html": [
              "<div>\n",
              "<style scoped>\n",
              "    .dataframe tbody tr th:only-of-type {\n",
              "        vertical-align: middle;\n",
              "    }\n",
              "\n",
              "    .dataframe tbody tr th {\n",
              "        vertical-align: top;\n",
              "    }\n",
              "\n",
              "    .dataframe thead th {\n",
              "        text-align: right;\n",
              "    }\n",
              "</style>\n",
              "<table border=\"1\" class=\"dataframe\">\n",
              "  <thead>\n",
              "    <tr style=\"text-align: right;\">\n",
              "      <th></th>\n",
              "      <th>Pincode</th>\n",
              "      <th>Location</th>\n",
              "    </tr>\n",
              "  </thead>\n",
              "  <tbody>\n",
              "    <tr>\n",
              "      <th>0</th>\n",
              "      <td>400001</td>\n",
              "      <td>Bazargate, M.P.t., Mumbai., Stock Exchange, Ta...</td>\n",
              "    </tr>\n",
              "    <tr>\n",
              "      <th>1</th>\n",
              "      <td>400002</td>\n",
              "      <td>Kalbadevi, Ramwadi, S. c. court, Shroff Mahaja...</td>\n",
              "    </tr>\n",
              "    <tr>\n",
              "      <th>2</th>\n",
              "      <td>400003</td>\n",
              "      <td>B P t colony, B.P.lane, Mandvi, Masjid, Noor B...</td>\n",
              "    </tr>\n",
              "    <tr>\n",
              "      <th>3</th>\n",
              "      <td>400004</td>\n",
              "      <td>Ambewadi, Charni Road, Chaupati, Girgaon, Madh...</td>\n",
              "    </tr>\n",
              "    <tr>\n",
              "      <th>4</th>\n",
              "      <td>400005</td>\n",
              "      <td>Asvini, Colaba, Holiday Camp, V.W.t.c.</td>\n",
              "    </tr>\n",
              "  </tbody>\n",
              "</table>\n",
              "</div>"
            ],
            "text/plain": [
              "0 Pincode                                           Location\n",
              "0  400001  Bazargate, M.P.t., Mumbai., Stock Exchange, Ta...\n",
              "1  400002  Kalbadevi, Ramwadi, S. c. court, Shroff Mahaja...\n",
              "2  400003  B P t colony, B.P.lane, Mandvi, Masjid, Noor B...\n",
              "3  400004  Ambewadi, Charni Road, Chaupati, Girgaon, Madh...\n",
              "4  400005             Asvini, Colaba, Holiday Camp, V.W.t.c."
            ]
          },
          "metadata": {
            "tags": []
          },
          "execution_count": 15
        }
      ]
    },
    {
      "cell_type": "code",
      "metadata": {
        "id": "JncJmi30Ddb5",
        "colab_type": "code",
        "colab": {}
      },
      "source": [
        "latitude = []\n",
        "longitude = []\n",
        "geolocation = Nominatim(user_agent= 'four-square')\n",
        "for zipcode in df.Pincode:\n",
        "  location = geolocation.geocode(query = {'country': 'India', 'city' : 'Mumbai', 'postalcode' : str(zipcode)})\n",
        "  \n",
        "  if location:\n",
        "    latitude.append(location.latitude)\n",
        "    longitude.append(location.longitude)\n",
        "  else:\n",
        "    latitude.append('NaN')\n",
        "    longitude.append('NaN')\n",
        "  \n"
      ],
      "execution_count": 0,
      "outputs": []
    },
    {
      "cell_type": "code",
      "metadata": {
        "id": "BsI_yzPsBT6K",
        "colab_type": "code",
        "outputId": "4dc65666-1acc-4212-89f2-d6bfcaa5d4a6",
        "colab": {
          "base_uri": "https://localhost:8080/",
          "height": 206
        }
      },
      "source": [
        "df['Latitude'] = latitude\n",
        "df['Longitude'] = longitude\n",
        "df.head()"
      ],
      "execution_count": 17,
      "outputs": [
        {
          "output_type": "execute_result",
          "data": {
            "text/html": [
              "<div>\n",
              "<style scoped>\n",
              "    .dataframe tbody tr th:only-of-type {\n",
              "        vertical-align: middle;\n",
              "    }\n",
              "\n",
              "    .dataframe tbody tr th {\n",
              "        vertical-align: top;\n",
              "    }\n",
              "\n",
              "    .dataframe thead th {\n",
              "        text-align: right;\n",
              "    }\n",
              "</style>\n",
              "<table border=\"1\" class=\"dataframe\">\n",
              "  <thead>\n",
              "    <tr style=\"text-align: right;\">\n",
              "      <th></th>\n",
              "      <th>Pincode</th>\n",
              "      <th>Location</th>\n",
              "      <th>Latitude</th>\n",
              "      <th>Longitude</th>\n",
              "    </tr>\n",
              "  </thead>\n",
              "  <tbody>\n",
              "    <tr>\n",
              "      <th>0</th>\n",
              "      <td>400001</td>\n",
              "      <td>Bazargate, M.P.t., Mumbai., Stock Exchange, Ta...</td>\n",
              "      <td>18.9388</td>\n",
              "      <td>72.8353</td>\n",
              "    </tr>\n",
              "    <tr>\n",
              "      <th>1</th>\n",
              "      <td>400002</td>\n",
              "      <td>Kalbadevi, Ramwadi, S. c. court, Shroff Mahaja...</td>\n",
              "      <td>18.9388</td>\n",
              "      <td>72.8353</td>\n",
              "    </tr>\n",
              "    <tr>\n",
              "      <th>2</th>\n",
              "      <td>400003</td>\n",
              "      <td>B P t colony, B.P.lane, Mandvi, Masjid, Noor B...</td>\n",
              "      <td>18.9388</td>\n",
              "      <td>72.8353</td>\n",
              "    </tr>\n",
              "    <tr>\n",
              "      <th>3</th>\n",
              "      <td>400004</td>\n",
              "      <td>Ambewadi, Charni Road, Chaupati, Girgaon, Madh...</td>\n",
              "      <td>18.9388</td>\n",
              "      <td>72.8353</td>\n",
              "    </tr>\n",
              "    <tr>\n",
              "      <th>4</th>\n",
              "      <td>400005</td>\n",
              "      <td>Asvini, Colaba, Holiday Camp, V.W.t.c.</td>\n",
              "      <td>18.9388</td>\n",
              "      <td>72.8353</td>\n",
              "    </tr>\n",
              "  </tbody>\n",
              "</table>\n",
              "</div>"
            ],
            "text/plain": [
              "0 Pincode                                           Location Latitude Longitude\n",
              "0  400001  Bazargate, M.P.t., Mumbai., Stock Exchange, Ta...  18.9388   72.8353\n",
              "1  400002  Kalbadevi, Ramwadi, S. c. court, Shroff Mahaja...  18.9388   72.8353\n",
              "2  400003  B P t colony, B.P.lane, Mandvi, Masjid, Noor B...  18.9388   72.8353\n",
              "3  400004  Ambewadi, Charni Road, Chaupati, Girgaon, Madh...  18.9388   72.8353\n",
              "4  400005             Asvini, Colaba, Holiday Camp, V.W.t.c.  18.9388   72.8353"
            ]
          },
          "metadata": {
            "tags": []
          },
          "execution_count": 17
        }
      ]
    },
    {
      "cell_type": "code",
      "metadata": {
        "id": "5uUtW4d6SDcX",
        "colab_type": "code",
        "outputId": "d5c1e643-f17b-4236-ec3e-844990372f4f",
        "colab": {
          "base_uri": "https://localhost:8080/",
          "height": 175
        }
      },
      "source": [
        "df.describe()"
      ],
      "execution_count": 18,
      "outputs": [
        {
          "output_type": "execute_result",
          "data": {
            "text/html": [
              "<div>\n",
              "<style scoped>\n",
              "    .dataframe tbody tr th:only-of-type {\n",
              "        vertical-align: middle;\n",
              "    }\n",
              "\n",
              "    .dataframe tbody tr th {\n",
              "        vertical-align: top;\n",
              "    }\n",
              "\n",
              "    .dataframe thead th {\n",
              "        text-align: right;\n",
              "    }\n",
              "</style>\n",
              "<table border=\"1\" class=\"dataframe\">\n",
              "  <thead>\n",
              "    <tr style=\"text-align: right;\">\n",
              "      <th></th>\n",
              "      <th>Pincode</th>\n",
              "      <th>Location</th>\n",
              "      <th>Latitude</th>\n",
              "      <th>Longitude</th>\n",
              "    </tr>\n",
              "  </thead>\n",
              "  <tbody>\n",
              "    <tr>\n",
              "      <th>count</th>\n",
              "      <td>67</td>\n",
              "      <td>67</td>\n",
              "      <td>67.000000</td>\n",
              "      <td>67.000000</td>\n",
              "    </tr>\n",
              "    <tr>\n",
              "      <th>unique</th>\n",
              "      <td>67</td>\n",
              "      <td>67</td>\n",
              "      <td>37.000000</td>\n",
              "      <td>37.000000</td>\n",
              "    </tr>\n",
              "    <tr>\n",
              "      <th>top</th>\n",
              "      <td>400059</td>\n",
              "      <td>Kidwai Nagar, Wadala, Wadala Rs</td>\n",
              "      <td>18.938771</td>\n",
              "      <td>72.835335</td>\n",
              "    </tr>\n",
              "    <tr>\n",
              "      <th>freq</th>\n",
              "      <td>1</td>\n",
              "      <td>1</td>\n",
              "      <td>28.000000</td>\n",
              "      <td>28.000000</td>\n",
              "    </tr>\n",
              "  </tbody>\n",
              "</table>\n",
              "</div>"
            ],
            "text/plain": [
              "0      Pincode                         Location   Latitude  Longitude\n",
              "count       67                               67  67.000000  67.000000\n",
              "unique      67                               67  37.000000  37.000000\n",
              "top     400059  Kidwai Nagar, Wadala, Wadala Rs  18.938771  72.835335\n",
              "freq         1                                1  28.000000  28.000000"
            ]
          },
          "metadata": {
            "tags": []
          },
          "execution_count": 18
        }
      ]
    },
    {
      "cell_type": "code",
      "metadata": {
        "id": "BBDJCi7bSaQ-",
        "colab_type": "code",
        "colab": {}
      },
      "source": [
        "df = df[df['Latitude'] != 'NaN']"
      ],
      "execution_count": 0,
      "outputs": []
    },
    {
      "cell_type": "code",
      "metadata": {
        "id": "-ASdCqh4sYm_",
        "colab_type": "code",
        "outputId": "10bfb314-491a-41ac-e7f1-2b93b35f6370",
        "colab": {
          "base_uri": "https://localhost:8080/",
          "height": 175
        }
      },
      "source": [
        "df.describe()"
      ],
      "execution_count": 20,
      "outputs": [
        {
          "output_type": "execute_result",
          "data": {
            "text/html": [
              "<div>\n",
              "<style scoped>\n",
              "    .dataframe tbody tr th:only-of-type {\n",
              "        vertical-align: middle;\n",
              "    }\n",
              "\n",
              "    .dataframe tbody tr th {\n",
              "        vertical-align: top;\n",
              "    }\n",
              "\n",
              "    .dataframe thead th {\n",
              "        text-align: right;\n",
              "    }\n",
              "</style>\n",
              "<table border=\"1\" class=\"dataframe\">\n",
              "  <thead>\n",
              "    <tr style=\"text-align: right;\">\n",
              "      <th></th>\n",
              "      <th>Pincode</th>\n",
              "      <th>Location</th>\n",
              "      <th>Latitude</th>\n",
              "      <th>Longitude</th>\n",
              "    </tr>\n",
              "  </thead>\n",
              "  <tbody>\n",
              "    <tr>\n",
              "      <th>count</th>\n",
              "      <td>63</td>\n",
              "      <td>63</td>\n",
              "      <td>63.000000</td>\n",
              "      <td>63.000000</td>\n",
              "    </tr>\n",
              "    <tr>\n",
              "      <th>unique</th>\n",
              "      <td>63</td>\n",
              "      <td>63</td>\n",
              "      <td>36.000000</td>\n",
              "      <td>36.000000</td>\n",
              "    </tr>\n",
              "    <tr>\n",
              "      <th>top</th>\n",
              "      <td>400059</td>\n",
              "      <td>Kidwai Nagar, Wadala, Wadala Rs</td>\n",
              "      <td>18.938771</td>\n",
              "      <td>72.835335</td>\n",
              "    </tr>\n",
              "    <tr>\n",
              "      <th>freq</th>\n",
              "      <td>1</td>\n",
              "      <td>1</td>\n",
              "      <td>28.000000</td>\n",
              "      <td>28.000000</td>\n",
              "    </tr>\n",
              "  </tbody>\n",
              "</table>\n",
              "</div>"
            ],
            "text/plain": [
              "0      Pincode                         Location   Latitude  Longitude\n",
              "count       63                               63  63.000000  63.000000\n",
              "unique      63                               63  36.000000  36.000000\n",
              "top     400059  Kidwai Nagar, Wadala, Wadala Rs  18.938771  72.835335\n",
              "freq         1                                1  28.000000  28.000000"
            ]
          },
          "metadata": {
            "tags": []
          },
          "execution_count": 20
        }
      ]
    },
    {
      "cell_type": "code",
      "metadata": {
        "id": "2woIbwH7vevU",
        "colab_type": "code",
        "colab": {}
      },
      "source": [
        "\n",
        "df.reset_index(drop = True, inplace = True)"
      ],
      "execution_count": 0,
      "outputs": []
    },
    {
      "cell_type": "code",
      "metadata": {
        "id": "gapJNrtYuKvr",
        "colab_type": "code",
        "colab": {}
      },
      "source": [
        "#Removing dublicate co-ordinates and replacing it with the first value\n",
        "bool_data = df.duplicated(subset  = 'Latitude', keep = 'first')"
      ],
      "execution_count": 0,
      "outputs": []
    },
    {
      "cell_type": "code",
      "metadata": {
        "id": "NWguxQ-AvN-2",
        "colab_type": "code",
        "colab": {}
      },
      "source": [
        "df = df[~bool_data]"
      ],
      "execution_count": 0,
      "outputs": []
    },
    {
      "cell_type": "code",
      "metadata": {
        "id": "HRhiMW3Tv3gZ",
        "colab_type": "code",
        "outputId": "cb70e5a5-b198-46f9-ef02-25fb0c29ac53",
        "colab": {
          "base_uri": "https://localhost:8080/",
          "height": 206
        }
      },
      "source": [
        "df.reset_index(inplace = True, drop = True)\n",
        "df.head()"
      ],
      "execution_count": 24,
      "outputs": [
        {
          "output_type": "execute_result",
          "data": {
            "text/html": [
              "<div>\n",
              "<style scoped>\n",
              "    .dataframe tbody tr th:only-of-type {\n",
              "        vertical-align: middle;\n",
              "    }\n",
              "\n",
              "    .dataframe tbody tr th {\n",
              "        vertical-align: top;\n",
              "    }\n",
              "\n",
              "    .dataframe thead th {\n",
              "        text-align: right;\n",
              "    }\n",
              "</style>\n",
              "<table border=\"1\" class=\"dataframe\">\n",
              "  <thead>\n",
              "    <tr style=\"text-align: right;\">\n",
              "      <th></th>\n",
              "      <th>Pincode</th>\n",
              "      <th>Location</th>\n",
              "      <th>Latitude</th>\n",
              "      <th>Longitude</th>\n",
              "    </tr>\n",
              "  </thead>\n",
              "  <tbody>\n",
              "    <tr>\n",
              "      <th>0</th>\n",
              "      <td>400001</td>\n",
              "      <td>Bazargate, M.P.t., Mumbai., Stock Exchange, Ta...</td>\n",
              "      <td>18.9388</td>\n",
              "      <td>72.8353</td>\n",
              "    </tr>\n",
              "    <tr>\n",
              "      <th>1</th>\n",
              "      <td>400011</td>\n",
              "      <td>Agripada, Chinchpokli, Haines Road, Jacob Circle</td>\n",
              "      <td>19.0359</td>\n",
              "      <td>72.8915</td>\n",
              "    </tr>\n",
              "    <tr>\n",
              "      <th>2</th>\n",
              "      <td>400017</td>\n",
              "      <td>Dharavi, Dharavi Road</td>\n",
              "      <td>19.0458</td>\n",
              "      <td>72.8554</td>\n",
              "    </tr>\n",
              "    <tr>\n",
              "      <th>3</th>\n",
              "      <td>400029</td>\n",
              "      <td>A I staff colony, Santacruz P&amp;t colony</td>\n",
              "      <td>19.078</td>\n",
              "      <td>72.8648</td>\n",
              "    </tr>\n",
              "    <tr>\n",
              "      <th>4</th>\n",
              "      <td>400049</td>\n",
              "      <td>Juhu</td>\n",
              "      <td>19.1096</td>\n",
              "      <td>72.834</td>\n",
              "    </tr>\n",
              "  </tbody>\n",
              "</table>\n",
              "</div>"
            ],
            "text/plain": [
              "0 Pincode                                           Location Latitude Longitude\n",
              "0  400001  Bazargate, M.P.t., Mumbai., Stock Exchange, Ta...  18.9388   72.8353\n",
              "1  400011   Agripada, Chinchpokli, Haines Road, Jacob Circle  19.0359   72.8915\n",
              "2  400017                              Dharavi, Dharavi Road  19.0458   72.8554\n",
              "3  400029             A I staff colony, Santacruz P&t colony   19.078   72.8648\n",
              "4  400049                                               Juhu  19.1096    72.834"
            ]
          },
          "metadata": {
            "tags": []
          },
          "execution_count": 24
        }
      ]
    },
    {
      "cell_type": "code",
      "metadata": {
        "id": "rRyY3B7eNKXP",
        "colab_type": "code",
        "outputId": "0c67f3e0-fdb8-4383-c9ac-76cebea8d33e",
        "colab": {
          "base_uri": "https://localhost:8080/",
          "height": 34
        }
      },
      "source": [
        "df.shape"
      ],
      "execution_count": 25,
      "outputs": [
        {
          "output_type": "execute_result",
          "data": {
            "text/plain": [
              "(36, 4)"
            ]
          },
          "metadata": {
            "tags": []
          },
          "execution_count": 25
        }
      ]
    },
    {
      "cell_type": "code",
      "metadata": {
        "id": "F77r7eSreJ9d",
        "colab_type": "code",
        "colab": {}
      },
      "source": [
        ""
      ],
      "execution_count": 0,
      "outputs": []
    },
    {
      "cell_type": "markdown",
      "metadata": {
        "id": "kmgMyDY6eJJx",
        "colab_type": "text"
      },
      "source": [
        "## Exploratory Data Analysis"
      ]
    },
    {
      "cell_type": "code",
      "metadata": {
        "id": "15lJcQiOwRiC",
        "colab_type": "code",
        "outputId": "4ef0f053-d800-4d09-d21a-2baa4fd3616f",
        "colab": {
          "base_uri": "https://localhost:8080/",
          "height": 755
        }
      },
      "source": [
        "#Plotting the various localitites in Mumbai\n",
        "bombay = folium.Map(zoom_start = 10, location= [19.07, 72.87])\n",
        "\n",
        "for loc, lat, lon in zip(df.Location, df.Latitude, df.Longitude):\n",
        "  folium.CircleMarker(\n",
        "      [float(lat), float(lon)],\n",
        "      radius = 10,\n",
        "      popup = str(loc),\n",
        "      color = 'red',\n",
        "      fill_color = True\n",
        "  ).add_to(bombay)\n",
        "\n",
        "bombay"
      ],
      "execution_count": 26,
      "outputs": [
        {
          "output_type": "execute_result",
          "data": {
            "text/html": [
              "<div style=\"width:100%;\"><div style=\"position:relative;width:100%;height:0;padding-bottom:60%;\"><iframe src=\"data:text/html;charset=utf-8;base64,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\" style=\"position:absolute;width:100%;height:100%;left:0;top:0;border:none !important;\" allowfullscreen webkitallowfullscreen mozallowfullscreen></iframe></div></div>"
            ],
            "text/plain": [
              "<folium.folium.Map at 0x7f0802099080>"
            ]
          },
          "metadata": {
            "tags": []
          },
          "execution_count": 26
        }
      ]
    },
    {
      "cell_type": "code",
      "metadata": {
        "id": "8-NHSIT61K6L",
        "colab_type": "code",
        "colab": {}
      },
      "source": [
        "data = df.copy()"
      ],
      "execution_count": 0,
      "outputs": []
    },
    {
      "cell_type": "code",
      "metadata": {
        "id": "uju1vSYH5HbY",
        "colab_type": "code",
        "colab": {}
      },
      "source": [
        "latitude = data['Latitude'][4]\n",
        "longitude = data['Longitude'][4]\n",
        "\n",
        "LIMIT = 100\n",
        "radius = 500\n",
        "\n",
        "url = 'https://api.foursquare.com/v2/venues/explore?&client_id={}&client_secret={}&v={}&ll={},{}&radius={}&limit={}'.format(\n",
        "  CLIENT_ID,\n",
        "  CLIENT_SECRET,\n",
        "  VERSION, latitude, longitude,\n",
        "  radius, LIMIT)\n",
        "  \n",
        "results = requests.get(url).json()"
      ],
      "execution_count": 0,
      "outputs": []
    },
    {
      "cell_type": "code",
      "metadata": {
        "id": "kI6jP0Z75bga",
        "colab_type": "code",
        "colab": {}
      },
      "source": [
        "results = results['response']['groups'][0]['items']"
      ],
      "execution_count": 0,
      "outputs": []
    },
    {
      "cell_type": "code",
      "metadata": {
        "id": "ltYl_PNt5blX",
        "colab_type": "code",
        "colab": {}
      },
      "source": [
        "result = json_normalize(results)"
      ],
      "execution_count": 0,
      "outputs": []
    },
    {
      "cell_type": "code",
      "metadata": {
        "id": "KOc08bIj5bp-",
        "colab_type": "code",
        "outputId": "d803347b-6275-49a8-d6d9-89bcc4c583b1",
        "colab": {
          "base_uri": "https://localhost:8080/",
          "height": 487
        }
      },
      "source": [
        "result.head()"
      ],
      "execution_count": 31,
      "outputs": [
        {
          "output_type": "execute_result",
          "data": {
            "text/html": [
              "<div>\n",
              "<style scoped>\n",
              "    .dataframe tbody tr th:only-of-type {\n",
              "        vertical-align: middle;\n",
              "    }\n",
              "\n",
              "    .dataframe tbody tr th {\n",
              "        vertical-align: top;\n",
              "    }\n",
              "\n",
              "    .dataframe thead th {\n",
              "        text-align: right;\n",
              "    }\n",
              "</style>\n",
              "<table border=\"1\" class=\"dataframe\">\n",
              "  <thead>\n",
              "    <tr style=\"text-align: right;\">\n",
              "      <th></th>\n",
              "      <th>referralId</th>\n",
              "      <th>reasons.count</th>\n",
              "      <th>reasons.items</th>\n",
              "      <th>venue.id</th>\n",
              "      <th>venue.name</th>\n",
              "      <th>venue.location.address</th>\n",
              "      <th>venue.location.crossStreet</th>\n",
              "      <th>venue.location.lat</th>\n",
              "      <th>venue.location.lng</th>\n",
              "      <th>venue.location.labeledLatLngs</th>\n",
              "      <th>venue.location.distance</th>\n",
              "      <th>venue.location.cc</th>\n",
              "      <th>venue.location.city</th>\n",
              "      <th>venue.location.state</th>\n",
              "      <th>venue.location.country</th>\n",
              "      <th>venue.location.formattedAddress</th>\n",
              "      <th>venue.categories</th>\n",
              "      <th>venue.photos.count</th>\n",
              "      <th>venue.photos.groups</th>\n",
              "      <th>venue.location.postalCode</th>\n",
              "    </tr>\n",
              "  </thead>\n",
              "  <tbody>\n",
              "    <tr>\n",
              "      <th>0</th>\n",
              "      <td>e-0-5353bd55498ed44d14437bd3-0</td>\n",
              "      <td>0</td>\n",
              "      <td>[{'summary': 'This spot is popular', 'type': '...</td>\n",
              "      <td>5353bd55498ed44d14437bd3</td>\n",
              "      <td>Naturals</td>\n",
              "      <td>Next to ONGC</td>\n",
              "      <td>near irla</td>\n",
              "      <td>19.111204</td>\n",
              "      <td>72.837255</td>\n",
              "      <td>[{'label': 'display', 'lat': 19.11120350275779...</td>\n",
              "      <td>381</td>\n",
              "      <td>IN</td>\n",
              "      <td>Mumbai</td>\n",
              "      <td>Mahārāshtra</td>\n",
              "      <td>India</td>\n",
              "      <td>[Next to ONGC (near irla), Mumbai, Mahārāshtra...</td>\n",
              "      <td>[{'id': '4bf58dd8d48988d1c9941735', 'name': 'I...</td>\n",
              "      <td>0</td>\n",
              "      <td>[]</td>\n",
              "      <td>NaN</td>\n",
              "    </tr>\n",
              "    <tr>\n",
              "      <th>1</th>\n",
              "      <td>e-0-4b812590f964a5205d9830e3-1</td>\n",
              "      <td>0</td>\n",
              "      <td>[{'summary': 'This spot is popular', 'type': '...</td>\n",
              "      <td>4b812590f964a5205d9830e3</td>\n",
              "      <td>Amar Juice Centre</td>\n",
              "      <td>1st Road</td>\n",
              "      <td>Vile Parle (West)</td>\n",
              "      <td>19.109553</td>\n",
              "      <td>72.837021</td>\n",
              "      <td>[{'label': 'display', 'lat': 19.10955333297317...</td>\n",
              "      <td>314</td>\n",
              "      <td>IN</td>\n",
              "      <td>Mumbai</td>\n",
              "      <td>Mahārāshtra</td>\n",
              "      <td>India</td>\n",
              "      <td>[1st Road (Vile Parle (West)), Mumbai 400056, ...</td>\n",
              "      <td>[{'id': '4bf58dd8d48988d112941735', 'name': 'J...</td>\n",
              "      <td>0</td>\n",
              "      <td>[]</td>\n",
              "      <td>400056</td>\n",
              "    </tr>\n",
              "    <tr>\n",
              "      <th>2</th>\n",
              "      <td>e-0-4dee1e62fa76b21ed992f8e8-2</td>\n",
              "      <td>0</td>\n",
              "      <td>[{'summary': 'This spot is popular', 'type': '...</td>\n",
              "      <td>4dee1e62fa76b21ed992f8e8</td>\n",
              "      <td>6th road sev puri</td>\n",
              "      <td>NS Road 6, JVPD Scheme</td>\n",
              "      <td>NaN</td>\n",
              "      <td>19.107177</td>\n",
              "      <td>72.832905</td>\n",
              "      <td>[{'label': 'display', 'lat': 19.10717692259851...</td>\n",
              "      <td>298</td>\n",
              "      <td>IN</td>\n",
              "      <td>Mumbai</td>\n",
              "      <td>Mahārāshtra</td>\n",
              "      <td>India</td>\n",
              "      <td>[NS Road 6, JVPD Scheme, Mumbai, Mahārāshtra, ...</td>\n",
              "      <td>[{'id': '4bf58dd8d48988d1c7941735', 'name': 'S...</td>\n",
              "      <td>0</td>\n",
              "      <td>[]</td>\n",
              "      <td>NaN</td>\n",
              "    </tr>\n",
              "    <tr>\n",
              "      <th>3</th>\n",
              "      <td>e-0-4e12a5076365b168494d1d0d-3</td>\n",
              "      <td>0</td>\n",
              "      <td>[{'summary': 'This spot is popular', 'type': '...</td>\n",
              "      <td>4e12a5076365b168494d1d0d</td>\n",
              "      <td>kaifi azmi park</td>\n",
              "      <td>10th rd</td>\n",
              "      <td>NaN</td>\n",
              "      <td>19.112414</td>\n",
              "      <td>72.830630</td>\n",
              "      <td>[{'label': 'display', 'lat': 19.11241416644558...</td>\n",
              "      <td>472</td>\n",
              "      <td>IN</td>\n",
              "      <td>Mumbai</td>\n",
              "      <td>Mahārāshtra</td>\n",
              "      <td>India</td>\n",
              "      <td>[10th rd, Mumbai, Mahārāshtra, India]</td>\n",
              "      <td>[{'id': '4bf58dd8d48988d163941735', 'name': 'P...</td>\n",
              "      <td>0</td>\n",
              "      <td>[]</td>\n",
              "      <td>NaN</td>\n",
              "    </tr>\n",
              "    <tr>\n",
              "      <th>4</th>\n",
              "      <td>e-0-4ca5c24b7334236a5dc81858-4</td>\n",
              "      <td>0</td>\n",
              "      <td>[{'summary': 'This spot is popular', 'type': '...</td>\n",
              "      <td>4ca5c24b7334236a5dc81858</td>\n",
              "      <td>Jacky Bhel Puri</td>\n",
              "      <td>gulmohar crossroad  7</td>\n",
              "      <td>jvpd</td>\n",
              "      <td>19.113633</td>\n",
              "      <td>72.834702</td>\n",
              "      <td>[{'label': 'display', 'lat': 19.11363278970635...</td>\n",
              "      <td>449</td>\n",
              "      <td>IN</td>\n",
              "      <td>Mumbai</td>\n",
              "      <td>Mahārāshtra</td>\n",
              "      <td>India</td>\n",
              "      <td>[gulmohar crossroad  7 (jvpd), Mumbai 400049, ...</td>\n",
              "      <td>[{'id': '4bf58dd8d48988d10f941735', 'name': 'I...</td>\n",
              "      <td>0</td>\n",
              "      <td>[]</td>\n",
              "      <td>400049</td>\n",
              "    </tr>\n",
              "  </tbody>\n",
              "</table>\n",
              "</div>"
            ],
            "text/plain": [
              "                       referralId  ...  venue.location.postalCode\n",
              "0  e-0-5353bd55498ed44d14437bd3-0  ...                        NaN\n",
              "1  e-0-4b812590f964a5205d9830e3-1  ...                     400056\n",
              "2  e-0-4dee1e62fa76b21ed992f8e8-2  ...                        NaN\n",
              "3  e-0-4e12a5076365b168494d1d0d-3  ...                        NaN\n",
              "4  e-0-4ca5c24b7334236a5dc81858-4  ...                     400049\n",
              "\n",
              "[5 rows x 20 columns]"
            ]
          },
          "metadata": {
            "tags": []
          },
          "execution_count": 31
        }
      ]
    },
    {
      "cell_type": "code",
      "metadata": {
        "id": "-wsHh2Vt5bu8",
        "colab_type": "code",
        "colab": {}
      },
      "source": [
        "features = ['venue.name', 'venue.location.address', 'venue.categories']"
      ],
      "execution_count": 0,
      "outputs": []
    },
    {
      "cell_type": "code",
      "metadata": {
        "id": "FUv4oDj_5byW",
        "colab_type": "code",
        "outputId": "da0e4d5b-9eb2-433d-9258-f7b26a986b66",
        "colab": {
          "base_uri": "https://localhost:8080/",
          "height": 206
        }
      },
      "source": [
        "result = result[features]\n",
        "result.head()"
      ],
      "execution_count": 33,
      "outputs": [
        {
          "output_type": "execute_result",
          "data": {
            "text/html": [
              "<div>\n",
              "<style scoped>\n",
              "    .dataframe tbody tr th:only-of-type {\n",
              "        vertical-align: middle;\n",
              "    }\n",
              "\n",
              "    .dataframe tbody tr th {\n",
              "        vertical-align: top;\n",
              "    }\n",
              "\n",
              "    .dataframe thead th {\n",
              "        text-align: right;\n",
              "    }\n",
              "</style>\n",
              "<table border=\"1\" class=\"dataframe\">\n",
              "  <thead>\n",
              "    <tr style=\"text-align: right;\">\n",
              "      <th></th>\n",
              "      <th>venue.name</th>\n",
              "      <th>venue.location.address</th>\n",
              "      <th>venue.categories</th>\n",
              "    </tr>\n",
              "  </thead>\n",
              "  <tbody>\n",
              "    <tr>\n",
              "      <th>0</th>\n",
              "      <td>Naturals</td>\n",
              "      <td>Next to ONGC</td>\n",
              "      <td>[{'id': '4bf58dd8d48988d1c9941735', 'name': 'I...</td>\n",
              "    </tr>\n",
              "    <tr>\n",
              "      <th>1</th>\n",
              "      <td>Amar Juice Centre</td>\n",
              "      <td>1st Road</td>\n",
              "      <td>[{'id': '4bf58dd8d48988d112941735', 'name': 'J...</td>\n",
              "    </tr>\n",
              "    <tr>\n",
              "      <th>2</th>\n",
              "      <td>6th road sev puri</td>\n",
              "      <td>NS Road 6, JVPD Scheme</td>\n",
              "      <td>[{'id': '4bf58dd8d48988d1c7941735', 'name': 'S...</td>\n",
              "    </tr>\n",
              "    <tr>\n",
              "      <th>3</th>\n",
              "      <td>kaifi azmi park</td>\n",
              "      <td>10th rd</td>\n",
              "      <td>[{'id': '4bf58dd8d48988d163941735', 'name': 'P...</td>\n",
              "    </tr>\n",
              "    <tr>\n",
              "      <th>4</th>\n",
              "      <td>Jacky Bhel Puri</td>\n",
              "      <td>gulmohar crossroad  7</td>\n",
              "      <td>[{'id': '4bf58dd8d48988d10f941735', 'name': 'I...</td>\n",
              "    </tr>\n",
              "  </tbody>\n",
              "</table>\n",
              "</div>"
            ],
            "text/plain": [
              "          venue.name  ...                                   venue.categories\n",
              "0           Naturals  ...  [{'id': '4bf58dd8d48988d1c9941735', 'name': 'I...\n",
              "1  Amar Juice Centre  ...  [{'id': '4bf58dd8d48988d112941735', 'name': 'J...\n",
              "2  6th road sev puri  ...  [{'id': '4bf58dd8d48988d1c7941735', 'name': 'S...\n",
              "3    kaifi azmi park  ...  [{'id': '4bf58dd8d48988d163941735', 'name': 'P...\n",
              "4    Jacky Bhel Puri  ...  [{'id': '4bf58dd8d48988d10f941735', 'name': 'I...\n",
              "\n",
              "[5 rows x 3 columns]"
            ]
          },
          "metadata": {
            "tags": []
          },
          "execution_count": 33
        }
      ]
    },
    {
      "cell_type": "code",
      "metadata": {
        "id": "3GiU2Cg35b2D",
        "colab_type": "code",
        "outputId": "67042652-b447-4221-ad05-6fb29f67fcb6",
        "colab": {
          "base_uri": "https://localhost:8080/",
          "height": 34
        }
      },
      "source": [
        "result.iloc[0]['venue.categories'][0]['name']"
      ],
      "execution_count": 34,
      "outputs": [
        {
          "output_type": "execute_result",
          "data": {
            "text/plain": [
              "'Ice Cream Shop'"
            ]
          },
          "metadata": {
            "tags": []
          },
          "execution_count": 34
        }
      ]
    },
    {
      "cell_type": "code",
      "metadata": {
        "id": "nCnwh1Cr5bsg",
        "colab_type": "code",
        "colab": {}
      },
      "source": [
        "result['venue.type'] = result['venue.categories'].apply(lambda x : x[0]['name'])"
      ],
      "execution_count": 0,
      "outputs": []
    },
    {
      "cell_type": "code",
      "metadata": {
        "id": "j_A1lp305boc",
        "colab_type": "code",
        "outputId": "76ac9a0e-dbe4-40be-9c5d-58163cb070ed",
        "colab": {
          "base_uri": "https://localhost:8080/",
          "height": 206
        }
      },
      "source": [
        "result.head()"
      ],
      "execution_count": 36,
      "outputs": [
        {
          "output_type": "execute_result",
          "data": {
            "text/html": [
              "<div>\n",
              "<style scoped>\n",
              "    .dataframe tbody tr th:only-of-type {\n",
              "        vertical-align: middle;\n",
              "    }\n",
              "\n",
              "    .dataframe tbody tr th {\n",
              "        vertical-align: top;\n",
              "    }\n",
              "\n",
              "    .dataframe thead th {\n",
              "        text-align: right;\n",
              "    }\n",
              "</style>\n",
              "<table border=\"1\" class=\"dataframe\">\n",
              "  <thead>\n",
              "    <tr style=\"text-align: right;\">\n",
              "      <th></th>\n",
              "      <th>venue.name</th>\n",
              "      <th>venue.location.address</th>\n",
              "      <th>venue.categories</th>\n",
              "      <th>venue.type</th>\n",
              "    </tr>\n",
              "  </thead>\n",
              "  <tbody>\n",
              "    <tr>\n",
              "      <th>0</th>\n",
              "      <td>Naturals</td>\n",
              "      <td>Next to ONGC</td>\n",
              "      <td>[{'id': '4bf58dd8d48988d1c9941735', 'name': 'I...</td>\n",
              "      <td>Ice Cream Shop</td>\n",
              "    </tr>\n",
              "    <tr>\n",
              "      <th>1</th>\n",
              "      <td>Amar Juice Centre</td>\n",
              "      <td>1st Road</td>\n",
              "      <td>[{'id': '4bf58dd8d48988d112941735', 'name': 'J...</td>\n",
              "      <td>Juice Bar</td>\n",
              "    </tr>\n",
              "    <tr>\n",
              "      <th>2</th>\n",
              "      <td>6th road sev puri</td>\n",
              "      <td>NS Road 6, JVPD Scheme</td>\n",
              "      <td>[{'id': '4bf58dd8d48988d1c7941735', 'name': 'S...</td>\n",
              "      <td>Snack Place</td>\n",
              "    </tr>\n",
              "    <tr>\n",
              "      <th>3</th>\n",
              "      <td>kaifi azmi park</td>\n",
              "      <td>10th rd</td>\n",
              "      <td>[{'id': '4bf58dd8d48988d163941735', 'name': 'P...</td>\n",
              "      <td>Park</td>\n",
              "    </tr>\n",
              "    <tr>\n",
              "      <th>4</th>\n",
              "      <td>Jacky Bhel Puri</td>\n",
              "      <td>gulmohar crossroad  7</td>\n",
              "      <td>[{'id': '4bf58dd8d48988d10f941735', 'name': 'I...</td>\n",
              "      <td>Indian Restaurant</td>\n",
              "    </tr>\n",
              "  </tbody>\n",
              "</table>\n",
              "</div>"
            ],
            "text/plain": [
              "          venue.name  ...         venue.type\n",
              "0           Naturals  ...     Ice Cream Shop\n",
              "1  Amar Juice Centre  ...          Juice Bar\n",
              "2  6th road sev puri  ...        Snack Place\n",
              "3    kaifi azmi park  ...               Park\n",
              "4    Jacky Bhel Puri  ...  Indian Restaurant\n",
              "\n",
              "[5 rows x 4 columns]"
            ]
          },
          "metadata": {
            "tags": []
          },
          "execution_count": 36
        }
      ]
    },
    {
      "cell_type": "code",
      "metadata": {
        "id": "J6pX7ZN4B9F5",
        "colab_type": "code",
        "outputId": "55e731bf-9e7e-41d1-d459-2a0f0263a40f",
        "colab": {
          "base_uri": "https://localhost:8080/",
          "height": 69
        }
      },
      "source": [
        "result.columns"
      ],
      "execution_count": 37,
      "outputs": [
        {
          "output_type": "execute_result",
          "data": {
            "text/plain": [
              "Index(['venue.name', 'venue.location.address', 'venue.categories',\n",
              "       'venue.type'],\n",
              "      dtype='object')"
            ]
          },
          "metadata": {
            "tags": []
          },
          "execution_count": 37
        }
      ]
    },
    {
      "cell_type": "code",
      "metadata": {
        "id": "qecHs-pD5bjd",
        "colab_type": "code",
        "outputId": "2f3a2b7d-c041-47d0-ccf6-fbfc2a8350ec",
        "colab": {
          "base_uri": "https://localhost:8080/",
          "height": 206
        }
      },
      "source": [
        "result.drop(labels = ['venue.categories'], inplace=True, axis=1)\n",
        "result.head()"
      ],
      "execution_count": 38,
      "outputs": [
        {
          "output_type": "execute_result",
          "data": {
            "text/html": [
              "<div>\n",
              "<style scoped>\n",
              "    .dataframe tbody tr th:only-of-type {\n",
              "        vertical-align: middle;\n",
              "    }\n",
              "\n",
              "    .dataframe tbody tr th {\n",
              "        vertical-align: top;\n",
              "    }\n",
              "\n",
              "    .dataframe thead th {\n",
              "        text-align: right;\n",
              "    }\n",
              "</style>\n",
              "<table border=\"1\" class=\"dataframe\">\n",
              "  <thead>\n",
              "    <tr style=\"text-align: right;\">\n",
              "      <th></th>\n",
              "      <th>venue.name</th>\n",
              "      <th>venue.location.address</th>\n",
              "      <th>venue.type</th>\n",
              "    </tr>\n",
              "  </thead>\n",
              "  <tbody>\n",
              "    <tr>\n",
              "      <th>0</th>\n",
              "      <td>Naturals</td>\n",
              "      <td>Next to ONGC</td>\n",
              "      <td>Ice Cream Shop</td>\n",
              "    </tr>\n",
              "    <tr>\n",
              "      <th>1</th>\n",
              "      <td>Amar Juice Centre</td>\n",
              "      <td>1st Road</td>\n",
              "      <td>Juice Bar</td>\n",
              "    </tr>\n",
              "    <tr>\n",
              "      <th>2</th>\n",
              "      <td>6th road sev puri</td>\n",
              "      <td>NS Road 6, JVPD Scheme</td>\n",
              "      <td>Snack Place</td>\n",
              "    </tr>\n",
              "    <tr>\n",
              "      <th>3</th>\n",
              "      <td>kaifi azmi park</td>\n",
              "      <td>10th rd</td>\n",
              "      <td>Park</td>\n",
              "    </tr>\n",
              "    <tr>\n",
              "      <th>4</th>\n",
              "      <td>Jacky Bhel Puri</td>\n",
              "      <td>gulmohar crossroad  7</td>\n",
              "      <td>Indian Restaurant</td>\n",
              "    </tr>\n",
              "  </tbody>\n",
              "</table>\n",
              "</div>"
            ],
            "text/plain": [
              "          venue.name  venue.location.address         venue.type\n",
              "0           Naturals            Next to ONGC     Ice Cream Shop\n",
              "1  Amar Juice Centre                1st Road          Juice Bar\n",
              "2  6th road sev puri  NS Road 6, JVPD Scheme        Snack Place\n",
              "3    kaifi azmi park                 10th rd               Park\n",
              "4    Jacky Bhel Puri   gulmohar crossroad  7  Indian Restaurant"
            ]
          },
          "metadata": {
            "tags": []
          },
          "execution_count": 38
        }
      ]
    },
    {
      "cell_type": "code",
      "metadata": {
        "id": "3g6n9vBG5bd1",
        "colab_type": "code",
        "outputId": "3fcf7401-40f2-497c-bf54-e0fc29a74c01",
        "colab": {
          "base_uri": "https://localhost:8080/",
          "height": 34
        }
      },
      "source": [
        "result.rename(columns={'venue.name':'name', 'venue.location.address':'address', 'venue.type':'type'}, inplace=True)\n",
        "result.shape"
      ],
      "execution_count": 39,
      "outputs": [
        {
          "output_type": "execute_result",
          "data": {
            "text/plain": [
              "(9, 3)"
            ]
          },
          "metadata": {
            "tags": []
          },
          "execution_count": 39
        }
      ]
    },
    {
      "cell_type": "code",
      "metadata": {
        "id": "DqeQg_ZZfCre",
        "colab_type": "code",
        "colab": {}
      },
      "source": [
        ""
      ],
      "execution_count": 0,
      "outputs": []
    },
    {
      "cell_type": "markdown",
      "metadata": {
        "id": "6GUlxVJbfC5l",
        "colab_type": "text"
      },
      "source": [
        "## Exploring neighbourhood"
      ]
    },
    {
      "cell_type": "code",
      "metadata": {
        "id": "GRNkfmFdEemU",
        "colab_type": "code",
        "colab": {}
      },
      "source": [
        "columns = ['name', 'address', 'type', 'latitude', 'longitude', 'location']\n",
        "dummy = pd.DataFrame()\n",
        "data_final = pd.DataFrame(columns = columns)\n",
        "\n",
        "def get_locations (url):\n",
        "  results = requests.get(url).json()\n",
        "  try:\n",
        "    result = results['response']['groups'][0]['items']\n",
        "    result = json_normalize(result)\n",
        "    result = result[features]\n",
        "    result['venue.type'] = result['venue.categories'].apply(lambda x : x[0]['name'])\n",
        "    result.drop(labels = ['venue.categories'], inplace=True, axis=1)\n",
        "    result.rename(columns={'venue.name':'name', 'venue.location.address':'address', 'venue.type':'type'}, inplace=True)\n",
        "    return(result)\n",
        "  \n",
        "\n",
        "  except:\n",
        "    pass\n",
        "\n",
        "  try:\n",
        "    result_sec = json_normalize(results)\n",
        "    result_sec = result_sec[features]\n",
        "    result_sec['venue.type'] = result_sec['venue.categories'].apply(lambda x : x[0]['name'])\n",
        "    result_sec.drop(labels = ['venue.categories'], inplace=True, axis=1)\n",
        "    result_sec.rename(columns={'venue.name':'name', 'venue.location.address':'address', 'venue.type':'type'}, inplace=True)\n",
        "    return(result_sec)\n",
        "  \n",
        "  except:\n",
        "    return dummy\n",
        "      \n",
        "  \n",
        "    \n",
        "  \n",
        "  \n"
      ],
      "execution_count": 0,
      "outputs": []
    },
    {
      "cell_type": "code",
      "metadata": {
        "id": "Qlwzd2erD5vX",
        "colab_type": "code",
        "outputId": "ea5c76fe-87ba-4842-dd17-adef7d430350",
        "colab": {
          "base_uri": "https://localhost:8080/",
          "height": 175
        }
      },
      "source": [
        "df.describe()"
      ],
      "execution_count": 41,
      "outputs": [
        {
          "output_type": "execute_result",
          "data": {
            "text/html": [
              "<div>\n",
              "<style scoped>\n",
              "    .dataframe tbody tr th:only-of-type {\n",
              "        vertical-align: middle;\n",
              "    }\n",
              "\n",
              "    .dataframe tbody tr th {\n",
              "        vertical-align: top;\n",
              "    }\n",
              "\n",
              "    .dataframe thead th {\n",
              "        text-align: right;\n",
              "    }\n",
              "</style>\n",
              "<table border=\"1\" class=\"dataframe\">\n",
              "  <thead>\n",
              "    <tr style=\"text-align: right;\">\n",
              "      <th></th>\n",
              "      <th>Pincode</th>\n",
              "      <th>Location</th>\n",
              "      <th>Latitude</th>\n",
              "      <th>Longitude</th>\n",
              "    </tr>\n",
              "  </thead>\n",
              "  <tbody>\n",
              "    <tr>\n",
              "      <th>count</th>\n",
              "      <td>36</td>\n",
              "      <td>36</td>\n",
              "      <td>36.000000</td>\n",
              "      <td>36.000000</td>\n",
              "    </tr>\n",
              "    <tr>\n",
              "      <th>unique</th>\n",
              "      <td>36</td>\n",
              "      <td>36</td>\n",
              "      <td>36.000000</td>\n",
              "      <td>36.000000</td>\n",
              "    </tr>\n",
              "    <tr>\n",
              "      <th>top</th>\n",
              "      <td>400059</td>\n",
              "      <td>Borvali West</td>\n",
              "      <td>19.166541</td>\n",
              "      <td>72.846611</td>\n",
              "    </tr>\n",
              "    <tr>\n",
              "      <th>freq</th>\n",
              "      <td>1</td>\n",
              "      <td>1</td>\n",
              "      <td>1.000000</td>\n",
              "      <td>1.000000</td>\n",
              "    </tr>\n",
              "  </tbody>\n",
              "</table>\n",
              "</div>"
            ],
            "text/plain": [
              "0      Pincode      Location   Latitude  Longitude\n",
              "count       36            36  36.000000  36.000000\n",
              "unique      36            36  36.000000  36.000000\n",
              "top     400059  Borvali West  19.166541  72.846611\n",
              "freq         1             1   1.000000   1.000000"
            ]
          },
          "metadata": {
            "tags": []
          },
          "execution_count": 41
        }
      ]
    },
    {
      "cell_type": "code",
      "metadata": {
        "id": "e3UWRhWtxb5N",
        "colab_type": "code",
        "colab": {
          "base_uri": "https://localhost:8080/",
          "height": 176
        },
        "outputId": "6601d8de-5b5b-4c99-df57-08777da666ea"
      },
      "source": [
        "#Calling Four Square API\n",
        "\n",
        "LIMIT = 150\n",
        "radius = 1000\n",
        "\n",
        "for loc, lat, lon in zip(df.Location, df.Latitude, df.Longitude):\n",
        "  url = 'https://api.foursquare.com/v2/venues/explore?&client_id={}&client_secret={}&v={}&ll={},{}&radius={}&limit={}'.format(\n",
        "  CLIENT_ID,\n",
        "  CLIENT_SECRET,\n",
        "  VERSION, float(lat), float(lon),\n",
        "  radius, LIMIT)\n",
        "  \n",
        "  result = get_locations(url)\n",
        "  result['latitude'] = result.shape[0]*[lat]\n",
        "  result['longitude'] = result.shape[0]*[lon]\n",
        "  result['location'] = result.shape[0]*[loc]\n",
        "\n",
        "  data_final = data_final.append(result, ignore_index=True )"
      ],
      "execution_count": 42,
      "outputs": [
        {
          "output_type": "stream",
          "text": [
            "/usr/local/lib/python3.6/dist-packages/pandas/core/frame.py:7138: FutureWarning: Sorting because non-concatenation axis is not aligned. A future version\n",
            "of pandas will change to not sort by default.\n",
            "\n",
            "To accept the future behavior, pass 'sort=False'.\n",
            "\n",
            "To retain the current behavior and silence the warning, pass 'sort=True'.\n",
            "\n",
            "  sort=sort,\n"
          ],
          "name": "stderr"
        }
      ]
    },
    {
      "cell_type": "code",
      "metadata": {
        "id": "vS59nDKmF0Ir",
        "colab_type": "code",
        "outputId": "28f9d178-94e0-4a8a-aa1e-c3e130574707",
        "colab": {
          "base_uri": "https://localhost:8080/",
          "height": 34
        }
      },
      "source": [
        "len(data_final['type'].unique())"
      ],
      "execution_count": 43,
      "outputs": [
        {
          "output_type": "execute_result",
          "data": {
            "text/plain": [
              "175"
            ]
          },
          "metadata": {
            "tags": []
          },
          "execution_count": 43
        }
      ]
    },
    {
      "cell_type": "code",
      "metadata": {
        "id": "oa2WwF_oJF1g",
        "colab_type": "code",
        "outputId": "d19776af-6736-44b1-bcc2-14c93ddeefb5",
        "colab": {
          "base_uri": "https://localhost:8080/",
          "height": 394
        }
      },
      "source": [
        "data_final.describe(include = 'all')"
      ],
      "execution_count": 44,
      "outputs": [
        {
          "output_type": "execute_result",
          "data": {
            "text/html": [
              "<div>\n",
              "<style scoped>\n",
              "    .dataframe tbody tr th:only-of-type {\n",
              "        vertical-align: middle;\n",
              "    }\n",
              "\n",
              "    .dataframe tbody tr th {\n",
              "        vertical-align: top;\n",
              "    }\n",
              "\n",
              "    .dataframe thead th {\n",
              "        text-align: right;\n",
              "    }\n",
              "</style>\n",
              "<table border=\"1\" class=\"dataframe\">\n",
              "  <thead>\n",
              "    <tr style=\"text-align: right;\">\n",
              "      <th></th>\n",
              "      <th>address</th>\n",
              "      <th>latitude</th>\n",
              "      <th>location</th>\n",
              "      <th>longitude</th>\n",
              "      <th>name</th>\n",
              "      <th>type</th>\n",
              "    </tr>\n",
              "  </thead>\n",
              "  <tbody>\n",
              "    <tr>\n",
              "      <th>count</th>\n",
              "      <td>1216</td>\n",
              "      <td>1494.000000</td>\n",
              "      <td>1494</td>\n",
              "      <td>1494.000000</td>\n",
              "      <td>1494</td>\n",
              "      <td>1494</td>\n",
              "    </tr>\n",
              "    <tr>\n",
              "      <th>unique</th>\n",
              "      <td>847</td>\n",
              "      <td>NaN</td>\n",
              "      <td>33</td>\n",
              "      <td>NaN</td>\n",
              "      <td>1062</td>\n",
              "      <td>175</td>\n",
              "    </tr>\n",
              "    <tr>\n",
              "      <th>top</th>\n",
              "      <td>Oberoi Mall</td>\n",
              "      <td>NaN</td>\n",
              "      <td>Andheri, Azad Nagar</td>\n",
              "      <td>NaN</td>\n",
              "      <td>Cafe Coffee Day</td>\n",
              "      <td>Indian Restaurant</td>\n",
              "    </tr>\n",
              "    <tr>\n",
              "      <th>freq</th>\n",
              "      <td>12</td>\n",
              "      <td>NaN</td>\n",
              "      <td>100</td>\n",
              "      <td>NaN</td>\n",
              "      <td>31</td>\n",
              "      <td>169</td>\n",
              "    </tr>\n",
              "    <tr>\n",
              "      <th>mean</th>\n",
              "      <td>NaN</td>\n",
              "      <td>19.121805</td>\n",
              "      <td>NaN</td>\n",
              "      <td>72.845257</td>\n",
              "      <td>NaN</td>\n",
              "      <td>NaN</td>\n",
              "    </tr>\n",
              "    <tr>\n",
              "      <th>std</th>\n",
              "      <td>NaN</td>\n",
              "      <td>0.069316</td>\n",
              "      <td>NaN</td>\n",
              "      <td>0.015121</td>\n",
              "      <td>NaN</td>\n",
              "      <td>NaN</td>\n",
              "    </tr>\n",
              "    <tr>\n",
              "      <th>min</th>\n",
              "      <td>NaN</td>\n",
              "      <td>18.938771</td>\n",
              "      <td>NaN</td>\n",
              "      <td>72.814877</td>\n",
              "      <td>NaN</td>\n",
              "      <td>NaN</td>\n",
              "    </tr>\n",
              "    <tr>\n",
              "      <th>25%</th>\n",
              "      <td>NaN</td>\n",
              "      <td>19.081315</td>\n",
              "      <td>NaN</td>\n",
              "      <td>72.834031</td>\n",
              "      <td>NaN</td>\n",
              "      <td>NaN</td>\n",
              "    </tr>\n",
              "    <tr>\n",
              "      <th>50%</th>\n",
              "      <td>NaN</td>\n",
              "      <td>19.123325</td>\n",
              "      <td>NaN</td>\n",
              "      <td>72.841700</td>\n",
              "      <td>NaN</td>\n",
              "      <td>NaN</td>\n",
              "    </tr>\n",
              "    <tr>\n",
              "      <th>75%</th>\n",
              "      <td>NaN</td>\n",
              "      <td>19.166541</td>\n",
              "      <td>NaN</td>\n",
              "      <td>72.857156</td>\n",
              "      <td>NaN</td>\n",
              "      <td>NaN</td>\n",
              "    </tr>\n",
              "    <tr>\n",
              "      <th>max</th>\n",
              "      <td>NaN</td>\n",
              "      <td>19.247271</td>\n",
              "      <td>NaN</td>\n",
              "      <td>72.891525</td>\n",
              "      <td>NaN</td>\n",
              "      <td>NaN</td>\n",
              "    </tr>\n",
              "  </tbody>\n",
              "</table>\n",
              "</div>"
            ],
            "text/plain": [
              "            address     latitude  ...             name               type\n",
              "count          1216  1494.000000  ...             1494               1494\n",
              "unique          847          NaN  ...             1062                175\n",
              "top     Oberoi Mall          NaN  ...  Cafe Coffee Day  Indian Restaurant\n",
              "freq             12          NaN  ...               31                169\n",
              "mean            NaN    19.121805  ...              NaN                NaN\n",
              "std             NaN     0.069316  ...              NaN                NaN\n",
              "min             NaN    18.938771  ...              NaN                NaN\n",
              "25%             NaN    19.081315  ...              NaN                NaN\n",
              "50%             NaN    19.123325  ...              NaN                NaN\n",
              "75%             NaN    19.166541  ...              NaN                NaN\n",
              "max             NaN    19.247271  ...              NaN                NaN\n",
              "\n",
              "[11 rows x 6 columns]"
            ]
          },
          "metadata": {
            "tags": []
          },
          "execution_count": 44
        }
      ]
    },
    {
      "cell_type": "code",
      "metadata": {
        "id": "4m3sDMoyEuSM",
        "colab_type": "code",
        "outputId": "b8d53339-2854-409f-b27d-d4d343d59418",
        "colab": {
          "base_uri": "https://localhost:8080/",
          "height": 605
        }
      },
      "source": [
        "(data_final['location'].value_counts()).plot(kind='bar')"
      ],
      "execution_count": 45,
      "outputs": [
        {
          "output_type": "execute_result",
          "data": {
            "text/plain": [
              "<matplotlib.axes._subplots.AxesSubplot at 0x7f0801fb6320>"
            ]
          },
          "metadata": {
            "tags": []
          },
          "execution_count": 45
        },
        {
          "output_type": "display_data",
          "data": {
            "image/png": "[encoded data removed]",
            "text/plain": [
              "<Figure size 432x288 with 1 Axes>"
            ]
          },
          "metadata": {
            "tags": []
          }
        }
      ]
    },
    {
      "cell_type": "code",
      "metadata": {
        "id": "ANkuLz8Rqsr6",
        "colab_type": "code",
        "outputId": "9fcc147e-5699-415e-c99d-f34225b1f074",
        "colab": {
          "base_uri": "https://localhost:8080/",
          "height": 293
        }
      },
      "source": [
        "data_final.head()"
      ],
      "execution_count": 46,
      "outputs": [
        {
          "output_type": "execute_result",
          "data": {
            "text/html": [
              "<div>\n",
              "<style scoped>\n",
              "    .dataframe tbody tr th:only-of-type {\n",
              "        vertical-align: middle;\n",
              "    }\n",
              "\n",
              "    .dataframe tbody tr th {\n",
              "        vertical-align: top;\n",
              "    }\n",
              "\n",
              "    .dataframe thead th {\n",
              "        text-align: right;\n",
              "    }\n",
              "</style>\n",
              "<table border=\"1\" class=\"dataframe\">\n",
              "  <thead>\n",
              "    <tr style=\"text-align: right;\">\n",
              "      <th></th>\n",
              "      <th>address</th>\n",
              "      <th>latitude</th>\n",
              "      <th>location</th>\n",
              "      <th>longitude</th>\n",
              "      <th>name</th>\n",
              "      <th>type</th>\n",
              "    </tr>\n",
              "  </thead>\n",
              "  <tbody>\n",
              "    <tr>\n",
              "      <th>0</th>\n",
              "      <td>Waudby Road</td>\n",
              "      <td>18.938771</td>\n",
              "      <td>Bazargate, M.P.t., Mumbai., Stock Exchange, Ta...</td>\n",
              "      <td>72.835335</td>\n",
              "      <td>Royal China</td>\n",
              "      <td>Chinese Restaurant</td>\n",
              "    </tr>\n",
              "    <tr>\n",
              "      <th>1</th>\n",
              "      <td># 16, Near Sterling Cinema, Murzban Road, Azad...</td>\n",
              "      <td>18.938771</td>\n",
              "      <td>Bazargate, M.P.t., Mumbai., Stock Exchange, Ta...</td>\n",
              "      <td>72.835335</td>\n",
              "      <td>Town House Cafe</td>\n",
              "      <td>Bar</td>\n",
              "    </tr>\n",
              "    <tr>\n",
              "      <th>2</th>\n",
              "      <td>Shahid Bhagat Singh Road</td>\n",
              "      <td>18.938771</td>\n",
              "      <td>Bazargate, M.P.t., Mumbai., Stock Exchange, Ta...</td>\n",
              "      <td>72.835335</td>\n",
              "      <td>Sher-E-Punjab</td>\n",
              "      <td>Indian Restaurant</td>\n",
              "    </tr>\n",
              "    <tr>\n",
              "      <th>3</th>\n",
              "      <td>23/A, K Nayak Marg</td>\n",
              "      <td>18.938771</td>\n",
              "      <td>Bazargate, M.P.t., Mumbai., Stock Exchange, Ta...</td>\n",
              "      <td>72.835335</td>\n",
              "      <td>Cafe Excelsior</td>\n",
              "      <td>Café</td>\n",
              "    </tr>\n",
              "    <tr>\n",
              "      <th>4</th>\n",
              "      <td>Dr. Dadabhai Naoroji Road</td>\n",
              "      <td>18.938771</td>\n",
              "      <td>Bazargate, M.P.t., Mumbai., Stock Exchange, Ta...</td>\n",
              "      <td>72.835335</td>\n",
              "      <td>Chhatrapati Shivaji Maharaj Terminus</td>\n",
              "      <td>Train Station</td>\n",
              "    </tr>\n",
              "  </tbody>\n",
              "</table>\n",
              "</div>"
            ],
            "text/plain": [
              "                                             address  ...                type\n",
              "0                                        Waudby Road  ...  Chinese Restaurant\n",
              "1  # 16, Near Sterling Cinema, Murzban Road, Azad...  ...                 Bar\n",
              "2                           Shahid Bhagat Singh Road  ...   Indian Restaurant\n",
              "3                                 23/A, K Nayak Marg  ...                Café\n",
              "4                          Dr. Dadabhai Naoroji Road  ...       Train Station\n",
              "\n",
              "[5 rows x 6 columns]"
            ]
          },
          "metadata": {
            "tags": []
          },
          "execution_count": 46
        }
      ]
    },
    {
      "cell_type": "code",
      "metadata": {
        "id": "kOqURjFXC0vr",
        "colab_type": "code",
        "colab": {}
      },
      "source": [
        ""
      ],
      "execution_count": 0,
      "outputs": []
    },
    {
      "cell_type": "code",
      "metadata": {
        "id": "Ti7NypaNsCYs",
        "colab_type": "code",
        "colab": {}
      },
      "source": [
        "#One Hot Encoding\n",
        "one_hot = pd.get_dummies(data_final['type'])"
      ],
      "execution_count": 0,
      "outputs": []
    },
    {
      "cell_type": "code",
      "metadata": {
        "id": "5uyWIzNU2V-G",
        "colab_type": "code",
        "outputId": "1d52a793-561a-47a1-efa2-cdaed48ed209",
        "colab": {
          "base_uri": "https://localhost:8080/",
          "height": 308
        }
      },
      "source": [
        "one_hot.head()"
      ],
      "execution_count": 48,
      "outputs": [
        {
          "output_type": "execute_result",
          "data": {
            "text/html": [
              "<div>\n",
              "<style scoped>\n",
              "    .dataframe tbody tr th:only-of-type {\n",
              "        vertical-align: middle;\n",
              "    }\n",
              "\n",
              "    .dataframe tbody tr th {\n",
              "        vertical-align: top;\n",
              "    }\n",
              "\n",
              "    .dataframe thead th {\n",
              "        text-align: right;\n",
              "    }\n",
              "</style>\n",
              "<table border=\"1\" class=\"dataframe\">\n",
              "  <thead>\n",
              "    <tr style=\"text-align: right;\">\n",
              "      <th></th>\n",
              "      <th>Airport Terminal</th>\n",
              "      <th>American Restaurant</th>\n",
              "      <th>Amphitheater</th>\n",
              "      <th>Arcade</th>\n",
              "      <th>Arts &amp; Crafts Store</th>\n",
              "      <th>Asian Restaurant</th>\n",
              "      <th>Athletics &amp; Sports</th>\n",
              "      <th>Auto Dealership</th>\n",
              "      <th>BBQ Joint</th>\n",
              "      <th>Bagel Shop</th>\n",
              "      <th>Bakery</th>\n",
              "      <th>Bank</th>\n",
              "      <th>Bar</th>\n",
              "      <th>Baseball Field</th>\n",
              "      <th>Beach</th>\n",
              "      <th>Bed &amp; Breakfast</th>\n",
              "      <th>Beer Bar</th>\n",
              "      <th>Bengali Restaurant</th>\n",
              "      <th>Bike Rental / Bike Share</th>\n",
              "      <th>Bistro</th>\n",
              "      <th>Bookstore</th>\n",
              "      <th>Boutique</th>\n",
              "      <th>Bowling Alley</th>\n",
              "      <th>Breakfast Spot</th>\n",
              "      <th>Brewery</th>\n",
              "      <th>Building</th>\n",
              "      <th>Burger Joint</th>\n",
              "      <th>Bus Station</th>\n",
              "      <th>Business Service</th>\n",
              "      <th>Café</th>\n",
              "      <th>Campground</th>\n",
              "      <th>Cheese Shop</th>\n",
              "      <th>Chinese Restaurant</th>\n",
              "      <th>Clothing Store</th>\n",
              "      <th>Cocktail Bar</th>\n",
              "      <th>Coffee Shop</th>\n",
              "      <th>College Auditorium</th>\n",
              "      <th>College Gym</th>\n",
              "      <th>Comedy Club</th>\n",
              "      <th>Comfort Food Restaurant</th>\n",
              "      <th>...</th>\n",
              "      <th>Pizza Place</th>\n",
              "      <th>Platform</th>\n",
              "      <th>Playground</th>\n",
              "      <th>Plaza</th>\n",
              "      <th>Pool</th>\n",
              "      <th>Pub</th>\n",
              "      <th>Recreation Center</th>\n",
              "      <th>Resort</th>\n",
              "      <th>Restaurant</th>\n",
              "      <th>Roof Deck</th>\n",
              "      <th>Salad Place</th>\n",
              "      <th>Salon / Barbershop</th>\n",
              "      <th>Sandwich Place</th>\n",
              "      <th>Scenic Lookout</th>\n",
              "      <th>Seafood Restaurant</th>\n",
              "      <th>Shoe Store</th>\n",
              "      <th>Shopping Mall</th>\n",
              "      <th>Smoke Shop</th>\n",
              "      <th>Snack Place</th>\n",
              "      <th>Soccer Field</th>\n",
              "      <th>South Indian Restaurant</th>\n",
              "      <th>Spa</th>\n",
              "      <th>Spanish Restaurant</th>\n",
              "      <th>Sporting Goods Shop</th>\n",
              "      <th>Sports Bar</th>\n",
              "      <th>Stadium</th>\n",
              "      <th>Steakhouse</th>\n",
              "      <th>Sushi Restaurant</th>\n",
              "      <th>Tea Room</th>\n",
              "      <th>Tennis Court</th>\n",
              "      <th>Thai Restaurant</th>\n",
              "      <th>Theater</th>\n",
              "      <th>Train</th>\n",
              "      <th>Train Station</th>\n",
              "      <th>Vegetarian / Vegan Restaurant</th>\n",
              "      <th>Volleyball Court</th>\n",
              "      <th>Wine Bar</th>\n",
              "      <th>Wine Shop</th>\n",
              "      <th>Women's Store</th>\n",
              "      <th>Yoga Studio</th>\n",
              "    </tr>\n",
              "  </thead>\n",
              "  <tbody>\n",
              "    <tr>\n",
              "      <th>0</th>\n",
              "      <td>0</td>\n",
              "      <td>0</td>\n",
              "      <td>0</td>\n",
              "      <td>0</td>\n",
              "      <td>0</td>\n",
              "      <td>0</td>\n",
              "      <td>0</td>\n",
              "      <td>0</td>\n",
              "      <td>0</td>\n",
              "      <td>0</td>\n",
              "      <td>0</td>\n",
              "      <td>0</td>\n",
              "      <td>0</td>\n",
              "      <td>0</td>\n",
              "      <td>0</td>\n",
              "      <td>0</td>\n",
              "      <td>0</td>\n",
              "      <td>0</td>\n",
              "      <td>0</td>\n",
              "      <td>0</td>\n",
              "      <td>0</td>\n",
              "      <td>0</td>\n",
              "      <td>0</td>\n",
              "      <td>0</td>\n",
              "      <td>0</td>\n",
              "      <td>0</td>\n",
              "      <td>0</td>\n",
              "      <td>0</td>\n",
              "      <td>0</td>\n",
              "      <td>0</td>\n",
              "      <td>0</td>\n",
              "      <td>0</td>\n",
              "      <td>1</td>\n",
              "      <td>0</td>\n",
              "      <td>0</td>\n",
              "      <td>0</td>\n",
              "      <td>0</td>\n",
              "      <td>0</td>\n",
              "      <td>0</td>\n",
              "      <td>0</td>\n",
              "      <td>...</td>\n",
              "      <td>0</td>\n",
              "      <td>0</td>\n",
              "      <td>0</td>\n",
              "      <td>0</td>\n",
              "      <td>0</td>\n",
              "      <td>0</td>\n",
              "      <td>0</td>\n",
              "      <td>0</td>\n",
              "      <td>0</td>\n",
              "      <td>0</td>\n",
              "      <td>0</td>\n",
              "      <td>0</td>\n",
              "      <td>0</td>\n",
              "      <td>0</td>\n",
              "      <td>0</td>\n",
              "      <td>0</td>\n",
              "      <td>0</td>\n",
              "      <td>0</td>\n",
              "      <td>0</td>\n",
              "      <td>0</td>\n",
              "      <td>0</td>\n",
              "      <td>0</td>\n",
              "      <td>0</td>\n",
              "      <td>0</td>\n",
              "      <td>0</td>\n",
              "      <td>0</td>\n",
              "      <td>0</td>\n",
              "      <td>0</td>\n",
              "      <td>0</td>\n",
              "      <td>0</td>\n",
              "      <td>0</td>\n",
              "      <td>0</td>\n",
              "      <td>0</td>\n",
              "      <td>0</td>\n",
              "      <td>0</td>\n",
              "      <td>0</td>\n",
              "      <td>0</td>\n",
              "      <td>0</td>\n",
              "      <td>0</td>\n",
              "      <td>0</td>\n",
              "    </tr>\n",
              "    <tr>\n",
              "      <th>1</th>\n",
              "      <td>0</td>\n",
              "      <td>0</td>\n",
              "      <td>0</td>\n",
              "      <td>0</td>\n",
              "      <td>0</td>\n",
              "      <td>0</td>\n",
              "      <td>0</td>\n",
              "      <td>0</td>\n",
              "      <td>0</td>\n",
              "      <td>0</td>\n",
              "      <td>0</td>\n",
              "      <td>0</td>\n",
              "      <td>1</td>\n",
              "      <td>0</td>\n",
              "      <td>0</td>\n",
              "      <td>0</td>\n",
              "      <td>0</td>\n",
              "      <td>0</td>\n",
              "      <td>0</td>\n",
              "      <td>0</td>\n",
              "      <td>0</td>\n",
              "      <td>0</td>\n",
              "      <td>0</td>\n",
              "      <td>0</td>\n",
              "      <td>0</td>\n",
              "      <td>0</td>\n",
              "      <td>0</td>\n",
              "      <td>0</td>\n",
              "      <td>0</td>\n",
              "      <td>0</td>\n",
              "      <td>0</td>\n",
              "      <td>0</td>\n",
              "      <td>0</td>\n",
              "      <td>0</td>\n",
              "      <td>0</td>\n",
              "      <td>0</td>\n",
              "      <td>0</td>\n",
              "      <td>0</td>\n",
              "      <td>0</td>\n",
              "      <td>0</td>\n",
              "      <td>...</td>\n",
              "      <td>0</td>\n",
              "      <td>0</td>\n",
              "      <td>0</td>\n",
              "      <td>0</td>\n",
              "      <td>0</td>\n",
              "      <td>0</td>\n",
              "      <td>0</td>\n",
              "      <td>0</td>\n",
              "      <td>0</td>\n",
              "      <td>0</td>\n",
              "      <td>0</td>\n",
              "      <td>0</td>\n",
              "      <td>0</td>\n",
              "      <td>0</td>\n",
              "      <td>0</td>\n",
              "      <td>0</td>\n",
              "      <td>0</td>\n",
              "      <td>0</td>\n",
              "      <td>0</td>\n",
              "      <td>0</td>\n",
              "      <td>0</td>\n",
              "      <td>0</td>\n",
              "      <td>0</td>\n",
              "      <td>0</td>\n",
              "      <td>0</td>\n",
              "      <td>0</td>\n",
              "      <td>0</td>\n",
              "      <td>0</td>\n",
              "      <td>0</td>\n",
              "      <td>0</td>\n",
              "      <td>0</td>\n",
              "      <td>0</td>\n",
              "      <td>0</td>\n",
              "      <td>0</td>\n",
              "      <td>0</td>\n",
              "      <td>0</td>\n",
              "      <td>0</td>\n",
              "      <td>0</td>\n",
              "      <td>0</td>\n",
              "      <td>0</td>\n",
              "    </tr>\n",
              "    <tr>\n",
              "      <th>2</th>\n",
              "      <td>0</td>\n",
              "      <td>0</td>\n",
              "      <td>0</td>\n",
              "      <td>0</td>\n",
              "      <td>0</td>\n",
              "      <td>0</td>\n",
              "      <td>0</td>\n",
              "      <td>0</td>\n",
              "      <td>0</td>\n",
              "      <td>0</td>\n",
              "      <td>0</td>\n",
              "      <td>0</td>\n",
              "      <td>0</td>\n",
              "      <td>0</td>\n",
              "      <td>0</td>\n",
              "      <td>0</td>\n",
              "      <td>0</td>\n",
              "      <td>0</td>\n",
              "      <td>0</td>\n",
              "      <td>0</td>\n",
              "      <td>0</td>\n",
              "      <td>0</td>\n",
              "      <td>0</td>\n",
              "      <td>0</td>\n",
              "      <td>0</td>\n",
              "      <td>0</td>\n",
              "      <td>0</td>\n",
              "      <td>0</td>\n",
              "      <td>0</td>\n",
              "      <td>0</td>\n",
              "      <td>0</td>\n",
              "      <td>0</td>\n",
              "      <td>0</td>\n",
              "      <td>0</td>\n",
              "      <td>0</td>\n",
              "      <td>0</td>\n",
              "      <td>0</td>\n",
              "      <td>0</td>\n",
              "      <td>0</td>\n",
              "      <td>0</td>\n",
              "      <td>...</td>\n",
              "      <td>0</td>\n",
              "      <td>0</td>\n",
              "      <td>0</td>\n",
              "      <td>0</td>\n",
              "      <td>0</td>\n",
              "      <td>0</td>\n",
              "      <td>0</td>\n",
              "      <td>0</td>\n",
              "      <td>0</td>\n",
              "      <td>0</td>\n",
              "      <td>0</td>\n",
              "      <td>0</td>\n",
              "      <td>0</td>\n",
              "      <td>0</td>\n",
              "      <td>0</td>\n",
              "      <td>0</td>\n",
              "      <td>0</td>\n",
              "      <td>0</td>\n",
              "      <td>0</td>\n",
              "      <td>0</td>\n",
              "      <td>0</td>\n",
              "      <td>0</td>\n",
              "      <td>0</td>\n",
              "      <td>0</td>\n",
              "      <td>0</td>\n",
              "      <td>0</td>\n",
              "      <td>0</td>\n",
              "      <td>0</td>\n",
              "      <td>0</td>\n",
              "      <td>0</td>\n",
              "      <td>0</td>\n",
              "      <td>0</td>\n",
              "      <td>0</td>\n",
              "      <td>0</td>\n",
              "      <td>0</td>\n",
              "      <td>0</td>\n",
              "      <td>0</td>\n",
              "      <td>0</td>\n",
              "      <td>0</td>\n",
              "      <td>0</td>\n",
              "    </tr>\n",
              "    <tr>\n",
              "      <th>3</th>\n",
              "      <td>0</td>\n",
              "      <td>0</td>\n",
              "      <td>0</td>\n",
              "      <td>0</td>\n",
              "      <td>0</td>\n",
              "      <td>0</td>\n",
              "      <td>0</td>\n",
              "      <td>0</td>\n",
              "      <td>0</td>\n",
              "      <td>0</td>\n",
              "      <td>0</td>\n",
              "      <td>0</td>\n",
              "      <td>0</td>\n",
              "      <td>0</td>\n",
              "      <td>0</td>\n",
              "      <td>0</td>\n",
              "      <td>0</td>\n",
              "      <td>0</td>\n",
              "      <td>0</td>\n",
              "      <td>0</td>\n",
              "      <td>0</td>\n",
              "      <td>0</td>\n",
              "      <td>0</td>\n",
              "      <td>0</td>\n",
              "      <td>0</td>\n",
              "      <td>0</td>\n",
              "      <td>0</td>\n",
              "      <td>0</td>\n",
              "      <td>0</td>\n",
              "      <td>1</td>\n",
              "      <td>0</td>\n",
              "      <td>0</td>\n",
              "      <td>0</td>\n",
              "      <td>0</td>\n",
              "      <td>0</td>\n",
              "      <td>0</td>\n",
              "      <td>0</td>\n",
              "      <td>0</td>\n",
              "      <td>0</td>\n",
              "      <td>0</td>\n",
              "      <td>...</td>\n",
              "      <td>0</td>\n",
              "      <td>0</td>\n",
              "      <td>0</td>\n",
              "      <td>0</td>\n",
              "      <td>0</td>\n",
              "      <td>0</td>\n",
              "      <td>0</td>\n",
              "      <td>0</td>\n",
              "      <td>0</td>\n",
              "      <td>0</td>\n",
              "      <td>0</td>\n",
              "      <td>0</td>\n",
              "      <td>0</td>\n",
              "      <td>0</td>\n",
              "      <td>0</td>\n",
              "      <td>0</td>\n",
              "      <td>0</td>\n",
              "      <td>0</td>\n",
              "      <td>0</td>\n",
              "      <td>0</td>\n",
              "      <td>0</td>\n",
              "      <td>0</td>\n",
              "      <td>0</td>\n",
              "      <td>0</td>\n",
              "      <td>0</td>\n",
              "      <td>0</td>\n",
              "      <td>0</td>\n",
              "      <td>0</td>\n",
              "      <td>0</td>\n",
              "      <td>0</td>\n",
              "      <td>0</td>\n",
              "      <td>0</td>\n",
              "      <td>0</td>\n",
              "      <td>0</td>\n",
              "      <td>0</td>\n",
              "      <td>0</td>\n",
              "      <td>0</td>\n",
              "      <td>0</td>\n",
              "      <td>0</td>\n",
              "      <td>0</td>\n",
              "    </tr>\n",
              "    <tr>\n",
              "      <th>4</th>\n",
              "      <td>0</td>\n",
              "      <td>0</td>\n",
              "      <td>0</td>\n",
              "      <td>0</td>\n",
              "      <td>0</td>\n",
              "      <td>0</td>\n",
              "      <td>0</td>\n",
              "      <td>0</td>\n",
              "      <td>0</td>\n",
              "      <td>0</td>\n",
              "      <td>0</td>\n",
              "      <td>0</td>\n",
              "      <td>0</td>\n",
              "      <td>0</td>\n",
              "      <td>0</td>\n",
              "      <td>0</td>\n",
              "      <td>0</td>\n",
              "      <td>0</td>\n",
              "      <td>0</td>\n",
              "      <td>0</td>\n",
              "      <td>0</td>\n",
              "      <td>0</td>\n",
              "      <td>0</td>\n",
              "      <td>0</td>\n",
              "      <td>0</td>\n",
              "      <td>0</td>\n",
              "      <td>0</td>\n",
              "      <td>0</td>\n",
              "      <td>0</td>\n",
              "      <td>0</td>\n",
              "      <td>0</td>\n",
              "      <td>0</td>\n",
              "      <td>0</td>\n",
              "      <td>0</td>\n",
              "      <td>0</td>\n",
              "      <td>0</td>\n",
              "      <td>0</td>\n",
              "      <td>0</td>\n",
              "      <td>0</td>\n",
              "      <td>0</td>\n",
              "      <td>...</td>\n",
              "      <td>0</td>\n",
              "      <td>0</td>\n",
              "      <td>0</td>\n",
              "      <td>0</td>\n",
              "      <td>0</td>\n",
              "      <td>0</td>\n",
              "      <td>0</td>\n",
              "      <td>0</td>\n",
              "      <td>0</td>\n",
              "      <td>0</td>\n",
              "      <td>0</td>\n",
              "      <td>0</td>\n",
              "      <td>0</td>\n",
              "      <td>0</td>\n",
              "      <td>0</td>\n",
              "      <td>0</td>\n",
              "      <td>0</td>\n",
              "      <td>0</td>\n",
              "      <td>0</td>\n",
              "      <td>0</td>\n",
              "      <td>0</td>\n",
              "      <td>0</td>\n",
              "      <td>0</td>\n",
              "      <td>0</td>\n",
              "      <td>0</td>\n",
              "      <td>0</td>\n",
              "      <td>0</td>\n",
              "      <td>0</td>\n",
              "      <td>0</td>\n",
              "      <td>0</td>\n",
              "      <td>0</td>\n",
              "      <td>0</td>\n",
              "      <td>0</td>\n",
              "      <td>1</td>\n",
              "      <td>0</td>\n",
              "      <td>0</td>\n",
              "      <td>0</td>\n",
              "      <td>0</td>\n",
              "      <td>0</td>\n",
              "      <td>0</td>\n",
              "    </tr>\n",
              "  </tbody>\n",
              "</table>\n",
              "<p>5 rows × 175 columns</p>\n",
              "</div>"
            ],
            "text/plain": [
              "   Airport Terminal  American Restaurant  ...  Women's Store  Yoga Studio\n",
              "0                 0                    0  ...              0            0\n",
              "1                 0                    0  ...              0            0\n",
              "2                 0                    0  ...              0            0\n",
              "3                 0                    0  ...              0            0\n",
              "4                 0                    0  ...              0            0\n",
              "\n",
              "[5 rows x 175 columns]"
            ]
          },
          "metadata": {
            "tags": []
          },
          "execution_count": 48
        }
      ]
    },
    {
      "cell_type": "code",
      "metadata": {
        "id": "sWL8BDW22hql",
        "colab_type": "code",
        "colab": {}
      },
      "source": [
        "one_hot['location'] = data_final['location']"
      ],
      "execution_count": 0,
      "outputs": []
    },
    {
      "cell_type": "code",
      "metadata": {
        "id": "c7I2nV--2hzs",
        "colab_type": "code",
        "colab": {}
      },
      "source": [
        "neigh_bombay = one_hot.copy()"
      ],
      "execution_count": 0,
      "outputs": []
    },
    {
      "cell_type": "code",
      "metadata": {
        "id": "JwyQIgOxuj7_",
        "colab_type": "code",
        "colab": {}
      },
      "source": [
        "neigh_bombay_filtered = neigh_bombay.groupby(by = 'location').mean()"
      ],
      "execution_count": 0,
      "outputs": []
    },
    {
      "cell_type": "code",
      "metadata": {
        "id": "r_hurW25wO1N",
        "colab_type": "code",
        "outputId": "e853eb60-f948-430f-f33c-b44adcc4ab78",
        "colab": {
          "base_uri": "https://localhost:8080/",
          "height": 669
        }
      },
      "source": [
        "neigh_bombay_filtered.head()"
      ],
      "execution_count": 52,
      "outputs": [
        {
          "output_type": "execute_result",
          "data": {
            "text/html": [
              "<div>\n",
              "<style scoped>\n",
              "    .dataframe tbody tr th:only-of-type {\n",
              "        vertical-align: middle;\n",
              "    }\n",
              "\n",
              "    .dataframe tbody tr th {\n",
              "        vertical-align: top;\n",
              "    }\n",
              "\n",
              "    .dataframe thead th {\n",
              "        text-align: right;\n",
              "    }\n",
              "</style>\n",
              "<table border=\"1\" class=\"dataframe\">\n",
              "  <thead>\n",
              "    <tr style=\"text-align: right;\">\n",
              "      <th></th>\n",
              "      <th>Airport Terminal</th>\n",
              "      <th>American Restaurant</th>\n",
              "      <th>Amphitheater</th>\n",
              "      <th>Arcade</th>\n",
              "      <th>Arts &amp; Crafts Store</th>\n",
              "      <th>Asian Restaurant</th>\n",
              "      <th>Athletics &amp; Sports</th>\n",
              "      <th>Auto Dealership</th>\n",
              "      <th>BBQ Joint</th>\n",
              "      <th>Bagel Shop</th>\n",
              "      <th>Bakery</th>\n",
              "      <th>Bank</th>\n",
              "      <th>Bar</th>\n",
              "      <th>Baseball Field</th>\n",
              "      <th>Beach</th>\n",
              "      <th>Bed &amp; Breakfast</th>\n",
              "      <th>Beer Bar</th>\n",
              "      <th>Bengali Restaurant</th>\n",
              "      <th>Bike Rental / Bike Share</th>\n",
              "      <th>Bistro</th>\n",
              "      <th>Bookstore</th>\n",
              "      <th>Boutique</th>\n",
              "      <th>Bowling Alley</th>\n",
              "      <th>Breakfast Spot</th>\n",
              "      <th>Brewery</th>\n",
              "      <th>Building</th>\n",
              "      <th>Burger Joint</th>\n",
              "      <th>Bus Station</th>\n",
              "      <th>Business Service</th>\n",
              "      <th>Café</th>\n",
              "      <th>Campground</th>\n",
              "      <th>Cheese Shop</th>\n",
              "      <th>Chinese Restaurant</th>\n",
              "      <th>Clothing Store</th>\n",
              "      <th>Cocktail Bar</th>\n",
              "      <th>Coffee Shop</th>\n",
              "      <th>College Auditorium</th>\n",
              "      <th>College Gym</th>\n",
              "      <th>Comedy Club</th>\n",
              "      <th>Comfort Food Restaurant</th>\n",
              "      <th>...</th>\n",
              "      <th>Pizza Place</th>\n",
              "      <th>Platform</th>\n",
              "      <th>Playground</th>\n",
              "      <th>Plaza</th>\n",
              "      <th>Pool</th>\n",
              "      <th>Pub</th>\n",
              "      <th>Recreation Center</th>\n",
              "      <th>Resort</th>\n",
              "      <th>Restaurant</th>\n",
              "      <th>Roof Deck</th>\n",
              "      <th>Salad Place</th>\n",
              "      <th>Salon / Barbershop</th>\n",
              "      <th>Sandwich Place</th>\n",
              "      <th>Scenic Lookout</th>\n",
              "      <th>Seafood Restaurant</th>\n",
              "      <th>Shoe Store</th>\n",
              "      <th>Shopping Mall</th>\n",
              "      <th>Smoke Shop</th>\n",
              "      <th>Snack Place</th>\n",
              "      <th>Soccer Field</th>\n",
              "      <th>South Indian Restaurant</th>\n",
              "      <th>Spa</th>\n",
              "      <th>Spanish Restaurant</th>\n",
              "      <th>Sporting Goods Shop</th>\n",
              "      <th>Sports Bar</th>\n",
              "      <th>Stadium</th>\n",
              "      <th>Steakhouse</th>\n",
              "      <th>Sushi Restaurant</th>\n",
              "      <th>Tea Room</th>\n",
              "      <th>Tennis Court</th>\n",
              "      <th>Thai Restaurant</th>\n",
              "      <th>Theater</th>\n",
              "      <th>Train</th>\n",
              "      <th>Train Station</th>\n",
              "      <th>Vegetarian / Vegan Restaurant</th>\n",
              "      <th>Volleyball Court</th>\n",
              "      <th>Wine Bar</th>\n",
              "      <th>Wine Shop</th>\n",
              "      <th>Women's Store</th>\n",
              "      <th>Yoga Studio</th>\n",
              "    </tr>\n",
              "    <tr>\n",
              "      <th>location</th>\n",
              "      <th></th>\n",
              "      <th></th>\n",
              "      <th></th>\n",
              "      <th></th>\n",
              "      <th></th>\n",
              "      <th></th>\n",
              "      <th></th>\n",
              "      <th></th>\n",
              "      <th></th>\n",
              "      <th></th>\n",
              "      <th></th>\n",
              "      <th></th>\n",
              "      <th></th>\n",
              "      <th></th>\n",
              "      <th></th>\n",
              "      <th></th>\n",
              "      <th></th>\n",
              "      <th></th>\n",
              "      <th></th>\n",
              "      <th></th>\n",
              "      <th></th>\n",
              "      <th></th>\n",
              "      <th></th>\n",
              "      <th></th>\n",
              "      <th></th>\n",
              "      <th></th>\n",
              "      <th></th>\n",
              "      <th></th>\n",
              "      <th></th>\n",
              "      <th></th>\n",
              "      <th></th>\n",
              "      <th></th>\n",
              "      <th></th>\n",
              "      <th></th>\n",
              "      <th></th>\n",
              "      <th></th>\n",
              "      <th></th>\n",
              "      <th></th>\n",
              "      <th></th>\n",
              "      <th></th>\n",
              "      <th></th>\n",
              "      <th></th>\n",
              "      <th></th>\n",
              "      <th></th>\n",
              "      <th></th>\n",
              "      <th></th>\n",
              "      <th></th>\n",
              "      <th></th>\n",
              "      <th></th>\n",
              "      <th></th>\n",
              "      <th></th>\n",
              "      <th></th>\n",
              "      <th></th>\n",
              "      <th></th>\n",
              "      <th></th>\n",
              "      <th></th>\n",
              "      <th></th>\n",
              "      <th></th>\n",
              "      <th></th>\n",
              "      <th></th>\n",
              "      <th></th>\n",
              "      <th></th>\n",
              "      <th></th>\n",
              "      <th></th>\n",
              "      <th></th>\n",
              "      <th></th>\n",
              "      <th></th>\n",
              "      <th></th>\n",
              "      <th></th>\n",
              "      <th></th>\n",
              "      <th></th>\n",
              "      <th></th>\n",
              "      <th></th>\n",
              "      <th></th>\n",
              "      <th></th>\n",
              "      <th></th>\n",
              "      <th></th>\n",
              "      <th></th>\n",
              "      <th></th>\n",
              "      <th></th>\n",
              "      <th></th>\n",
              "    </tr>\n",
              "  </thead>\n",
              "  <tbody>\n",
              "    <tr>\n",
              "      <th>A I staff colony, Santacruz P&amp;t colony</th>\n",
              "      <td>0.0</td>\n",
              "      <td>0.0</td>\n",
              "      <td>0.0</td>\n",
              "      <td>0.0</td>\n",
              "      <td>0.000000</td>\n",
              "      <td>0.050000</td>\n",
              "      <td>0.000000</td>\n",
              "      <td>0.0</td>\n",
              "      <td>0.0</td>\n",
              "      <td>0.000000</td>\n",
              "      <td>0.000000</td>\n",
              "      <td>0.0</td>\n",
              "      <td>0.100000</td>\n",
              "      <td>0.0</td>\n",
              "      <td>0.0</td>\n",
              "      <td>0.0</td>\n",
              "      <td>0.0</td>\n",
              "      <td>0.0</td>\n",
              "      <td>0.0</td>\n",
              "      <td>0.0</td>\n",
              "      <td>0.0</td>\n",
              "      <td>0.0</td>\n",
              "      <td>0.000000</td>\n",
              "      <td>0.0</td>\n",
              "      <td>0.0</td>\n",
              "      <td>0.0</td>\n",
              "      <td>0.050000</td>\n",
              "      <td>0.0</td>\n",
              "      <td>0.0</td>\n",
              "      <td>0.000000</td>\n",
              "      <td>0.0</td>\n",
              "      <td>0.0</td>\n",
              "      <td>0.050000</td>\n",
              "      <td>0.0</td>\n",
              "      <td>0.000000</td>\n",
              "      <td>0.050000</td>\n",
              "      <td>0.0</td>\n",
              "      <td>0.0</td>\n",
              "      <td>0.0</td>\n",
              "      <td>0.0</td>\n",
              "      <td>...</td>\n",
              "      <td>0.000000</td>\n",
              "      <td>0.0</td>\n",
              "      <td>0.05</td>\n",
              "      <td>0.0</td>\n",
              "      <td>0.0</td>\n",
              "      <td>0.000000</td>\n",
              "      <td>0.05</td>\n",
              "      <td>0.0</td>\n",
              "      <td>0.000000</td>\n",
              "      <td>0.0</td>\n",
              "      <td>0.0</td>\n",
              "      <td>0.0</td>\n",
              "      <td>0.000000</td>\n",
              "      <td>0.0</td>\n",
              "      <td>0.000000</td>\n",
              "      <td>0.0</td>\n",
              "      <td>0.0</td>\n",
              "      <td>0.000000</td>\n",
              "      <td>0.000000</td>\n",
              "      <td>0.0</td>\n",
              "      <td>0.0</td>\n",
              "      <td>0.0</td>\n",
              "      <td>0.0</td>\n",
              "      <td>0.0</td>\n",
              "      <td>0.0</td>\n",
              "      <td>0.0</td>\n",
              "      <td>0.0</td>\n",
              "      <td>0.0</td>\n",
              "      <td>0.000000</td>\n",
              "      <td>0.0</td>\n",
              "      <td>0.0</td>\n",
              "      <td>0.0</td>\n",
              "      <td>0.0</td>\n",
              "      <td>0.00</td>\n",
              "      <td>0.050000</td>\n",
              "      <td>0.0</td>\n",
              "      <td>0.0</td>\n",
              "      <td>0.0</td>\n",
              "      <td>0.0</td>\n",
              "      <td>0.0</td>\n",
              "    </tr>\n",
              "    <tr>\n",
              "      <th>Agripada, Chinchpokli, Haines Road, Jacob Circle</th>\n",
              "      <td>0.0</td>\n",
              "      <td>0.0</td>\n",
              "      <td>0.0</td>\n",
              "      <td>0.0</td>\n",
              "      <td>0.000000</td>\n",
              "      <td>0.000000</td>\n",
              "      <td>0.000000</td>\n",
              "      <td>0.0</td>\n",
              "      <td>0.0</td>\n",
              "      <td>0.000000</td>\n",
              "      <td>0.000000</td>\n",
              "      <td>0.0</td>\n",
              "      <td>0.000000</td>\n",
              "      <td>0.0</td>\n",
              "      <td>0.0</td>\n",
              "      <td>0.0</td>\n",
              "      <td>0.0</td>\n",
              "      <td>0.0</td>\n",
              "      <td>0.0</td>\n",
              "      <td>0.0</td>\n",
              "      <td>0.0</td>\n",
              "      <td>0.0</td>\n",
              "      <td>0.000000</td>\n",
              "      <td>0.0</td>\n",
              "      <td>0.0</td>\n",
              "      <td>0.0</td>\n",
              "      <td>0.000000</td>\n",
              "      <td>0.0</td>\n",
              "      <td>0.0</td>\n",
              "      <td>0.000000</td>\n",
              "      <td>0.0</td>\n",
              "      <td>0.0</td>\n",
              "      <td>0.000000</td>\n",
              "      <td>0.0</td>\n",
              "      <td>0.000000</td>\n",
              "      <td>0.250000</td>\n",
              "      <td>0.0</td>\n",
              "      <td>0.0</td>\n",
              "      <td>0.0</td>\n",
              "      <td>0.0</td>\n",
              "      <td>...</td>\n",
              "      <td>0.000000</td>\n",
              "      <td>0.0</td>\n",
              "      <td>0.00</td>\n",
              "      <td>0.0</td>\n",
              "      <td>0.0</td>\n",
              "      <td>0.000000</td>\n",
              "      <td>0.00</td>\n",
              "      <td>0.0</td>\n",
              "      <td>0.000000</td>\n",
              "      <td>0.0</td>\n",
              "      <td>0.0</td>\n",
              "      <td>0.0</td>\n",
              "      <td>0.000000</td>\n",
              "      <td>0.0</td>\n",
              "      <td>0.000000</td>\n",
              "      <td>0.0</td>\n",
              "      <td>0.0</td>\n",
              "      <td>0.000000</td>\n",
              "      <td>0.000000</td>\n",
              "      <td>0.0</td>\n",
              "      <td>0.0</td>\n",
              "      <td>0.0</td>\n",
              "      <td>0.0</td>\n",
              "      <td>0.0</td>\n",
              "      <td>0.0</td>\n",
              "      <td>0.0</td>\n",
              "      <td>0.0</td>\n",
              "      <td>0.0</td>\n",
              "      <td>0.000000</td>\n",
              "      <td>0.0</td>\n",
              "      <td>0.0</td>\n",
              "      <td>0.0</td>\n",
              "      <td>0.0</td>\n",
              "      <td>0.25</td>\n",
              "      <td>0.000000</td>\n",
              "      <td>0.0</td>\n",
              "      <td>0.0</td>\n",
              "      <td>0.0</td>\n",
              "      <td>0.0</td>\n",
              "      <td>0.0</td>\n",
              "    </tr>\n",
              "    <tr>\n",
              "      <th>Airport, International Airport, Sahar P &amp; t colony, Sahargaon</th>\n",
              "      <td>0.0</td>\n",
              "      <td>0.0</td>\n",
              "      <td>0.0</td>\n",
              "      <td>0.0</td>\n",
              "      <td>0.000000</td>\n",
              "      <td>0.052632</td>\n",
              "      <td>0.000000</td>\n",
              "      <td>0.0</td>\n",
              "      <td>0.0</td>\n",
              "      <td>0.000000</td>\n",
              "      <td>0.000000</td>\n",
              "      <td>0.0</td>\n",
              "      <td>0.026316</td>\n",
              "      <td>0.0</td>\n",
              "      <td>0.0</td>\n",
              "      <td>0.0</td>\n",
              "      <td>0.0</td>\n",
              "      <td>0.0</td>\n",
              "      <td>0.0</td>\n",
              "      <td>0.0</td>\n",
              "      <td>0.0</td>\n",
              "      <td>0.0</td>\n",
              "      <td>0.000000</td>\n",
              "      <td>0.0</td>\n",
              "      <td>0.0</td>\n",
              "      <td>0.0</td>\n",
              "      <td>0.000000</td>\n",
              "      <td>0.0</td>\n",
              "      <td>0.0</td>\n",
              "      <td>0.105263</td>\n",
              "      <td>0.0</td>\n",
              "      <td>0.0</td>\n",
              "      <td>0.026316</td>\n",
              "      <td>0.0</td>\n",
              "      <td>0.026316</td>\n",
              "      <td>0.000000</td>\n",
              "      <td>0.0</td>\n",
              "      <td>0.0</td>\n",
              "      <td>0.0</td>\n",
              "      <td>0.0</td>\n",
              "      <td>...</td>\n",
              "      <td>0.052632</td>\n",
              "      <td>0.0</td>\n",
              "      <td>0.00</td>\n",
              "      <td>0.0</td>\n",
              "      <td>0.0</td>\n",
              "      <td>0.000000</td>\n",
              "      <td>0.00</td>\n",
              "      <td>0.0</td>\n",
              "      <td>0.052632</td>\n",
              "      <td>0.0</td>\n",
              "      <td>0.0</td>\n",
              "      <td>0.0</td>\n",
              "      <td>0.000000</td>\n",
              "      <td>0.0</td>\n",
              "      <td>0.026316</td>\n",
              "      <td>0.0</td>\n",
              "      <td>0.0</td>\n",
              "      <td>0.000000</td>\n",
              "      <td>0.000000</td>\n",
              "      <td>0.0</td>\n",
              "      <td>0.0</td>\n",
              "      <td>0.0</td>\n",
              "      <td>0.0</td>\n",
              "      <td>0.0</td>\n",
              "      <td>0.0</td>\n",
              "      <td>0.0</td>\n",
              "      <td>0.0</td>\n",
              "      <td>0.0</td>\n",
              "      <td>0.000000</td>\n",
              "      <td>0.0</td>\n",
              "      <td>0.0</td>\n",
              "      <td>0.0</td>\n",
              "      <td>0.0</td>\n",
              "      <td>0.00</td>\n",
              "      <td>0.052632</td>\n",
              "      <td>0.0</td>\n",
              "      <td>0.0</td>\n",
              "      <td>0.0</td>\n",
              "      <td>0.0</td>\n",
              "      <td>0.0</td>\n",
              "    </tr>\n",
              "    <tr>\n",
              "      <th>Andheri East, Nagardas Road</th>\n",
              "      <td>0.0</td>\n",
              "      <td>0.0</td>\n",
              "      <td>0.0</td>\n",
              "      <td>0.0</td>\n",
              "      <td>0.083333</td>\n",
              "      <td>0.083333</td>\n",
              "      <td>0.000000</td>\n",
              "      <td>0.0</td>\n",
              "      <td>0.0</td>\n",
              "      <td>0.000000</td>\n",
              "      <td>0.000000</td>\n",
              "      <td>0.0</td>\n",
              "      <td>0.000000</td>\n",
              "      <td>0.0</td>\n",
              "      <td>0.0</td>\n",
              "      <td>0.0</td>\n",
              "      <td>0.0</td>\n",
              "      <td>0.0</td>\n",
              "      <td>0.0</td>\n",
              "      <td>0.0</td>\n",
              "      <td>0.0</td>\n",
              "      <td>0.0</td>\n",
              "      <td>0.000000</td>\n",
              "      <td>0.0</td>\n",
              "      <td>0.0</td>\n",
              "      <td>0.0</td>\n",
              "      <td>0.000000</td>\n",
              "      <td>0.0</td>\n",
              "      <td>0.0</td>\n",
              "      <td>0.000000</td>\n",
              "      <td>0.0</td>\n",
              "      <td>0.0</td>\n",
              "      <td>0.083333</td>\n",
              "      <td>0.0</td>\n",
              "      <td>0.000000</td>\n",
              "      <td>0.083333</td>\n",
              "      <td>0.0</td>\n",
              "      <td>0.0</td>\n",
              "      <td>0.0</td>\n",
              "      <td>0.0</td>\n",
              "      <td>...</td>\n",
              "      <td>0.083333</td>\n",
              "      <td>0.0</td>\n",
              "      <td>0.00</td>\n",
              "      <td>0.0</td>\n",
              "      <td>0.0</td>\n",
              "      <td>0.000000</td>\n",
              "      <td>0.00</td>\n",
              "      <td>0.0</td>\n",
              "      <td>0.000000</td>\n",
              "      <td>0.0</td>\n",
              "      <td>0.0</td>\n",
              "      <td>0.0</td>\n",
              "      <td>0.000000</td>\n",
              "      <td>0.0</td>\n",
              "      <td>0.000000</td>\n",
              "      <td>0.0</td>\n",
              "      <td>0.0</td>\n",
              "      <td>0.000000</td>\n",
              "      <td>0.000000</td>\n",
              "      <td>0.0</td>\n",
              "      <td>0.0</td>\n",
              "      <td>0.0</td>\n",
              "      <td>0.0</td>\n",
              "      <td>0.0</td>\n",
              "      <td>0.0</td>\n",
              "      <td>0.0</td>\n",
              "      <td>0.0</td>\n",
              "      <td>0.0</td>\n",
              "      <td>0.083333</td>\n",
              "      <td>0.0</td>\n",
              "      <td>0.0</td>\n",
              "      <td>0.0</td>\n",
              "      <td>0.0</td>\n",
              "      <td>0.00</td>\n",
              "      <td>0.000000</td>\n",
              "      <td>0.0</td>\n",
              "      <td>0.0</td>\n",
              "      <td>0.0</td>\n",
              "      <td>0.0</td>\n",
              "      <td>0.0</td>\n",
              "    </tr>\n",
              "    <tr>\n",
              "      <th>Andheri Railway station, H.M.p. school</th>\n",
              "      <td>0.0</td>\n",
              "      <td>0.0</td>\n",
              "      <td>0.0</td>\n",
              "      <td>0.0</td>\n",
              "      <td>0.000000</td>\n",
              "      <td>0.021739</td>\n",
              "      <td>0.043478</td>\n",
              "      <td>0.0</td>\n",
              "      <td>0.0</td>\n",
              "      <td>0.021739</td>\n",
              "      <td>0.021739</td>\n",
              "      <td>0.0</td>\n",
              "      <td>0.086957</td>\n",
              "      <td>0.0</td>\n",
              "      <td>0.0</td>\n",
              "      <td>0.0</td>\n",
              "      <td>0.0</td>\n",
              "      <td>0.0</td>\n",
              "      <td>0.0</td>\n",
              "      <td>0.0</td>\n",
              "      <td>0.0</td>\n",
              "      <td>0.0</td>\n",
              "      <td>0.021739</td>\n",
              "      <td>0.0</td>\n",
              "      <td>0.0</td>\n",
              "      <td>0.0</td>\n",
              "      <td>0.043478</td>\n",
              "      <td>0.0</td>\n",
              "      <td>0.0</td>\n",
              "      <td>0.000000</td>\n",
              "      <td>0.0</td>\n",
              "      <td>0.0</td>\n",
              "      <td>0.021739</td>\n",
              "      <td>0.0</td>\n",
              "      <td>0.000000</td>\n",
              "      <td>0.065217</td>\n",
              "      <td>0.0</td>\n",
              "      <td>0.0</td>\n",
              "      <td>0.0</td>\n",
              "      <td>0.0</td>\n",
              "      <td>...</td>\n",
              "      <td>0.065217</td>\n",
              "      <td>0.0</td>\n",
              "      <td>0.00</td>\n",
              "      <td>0.0</td>\n",
              "      <td>0.0</td>\n",
              "      <td>0.086957</td>\n",
              "      <td>0.00</td>\n",
              "      <td>0.0</td>\n",
              "      <td>0.043478</td>\n",
              "      <td>0.0</td>\n",
              "      <td>0.0</td>\n",
              "      <td>0.0</td>\n",
              "      <td>0.021739</td>\n",
              "      <td>0.0</td>\n",
              "      <td>0.000000</td>\n",
              "      <td>0.0</td>\n",
              "      <td>0.0</td>\n",
              "      <td>0.043478</td>\n",
              "      <td>0.043478</td>\n",
              "      <td>0.0</td>\n",
              "      <td>0.0</td>\n",
              "      <td>0.0</td>\n",
              "      <td>0.0</td>\n",
              "      <td>0.0</td>\n",
              "      <td>0.0</td>\n",
              "      <td>0.0</td>\n",
              "      <td>0.0</td>\n",
              "      <td>0.0</td>\n",
              "      <td>0.000000</td>\n",
              "      <td>0.0</td>\n",
              "      <td>0.0</td>\n",
              "      <td>0.0</td>\n",
              "      <td>0.0</td>\n",
              "      <td>0.00</td>\n",
              "      <td>0.021739</td>\n",
              "      <td>0.0</td>\n",
              "      <td>0.0</td>\n",
              "      <td>0.0</td>\n",
              "      <td>0.0</td>\n",
              "      <td>0.0</td>\n",
              "    </tr>\n",
              "  </tbody>\n",
              "</table>\n",
              "<p>5 rows × 175 columns</p>\n",
              "</div>"
            ],
            "text/plain": [
              "                                                    Airport Terminal  ...  Yoga Studio\n",
              "location                                                              ...             \n",
              "A I staff colony, Santacruz P&t colony                           0.0  ...          0.0\n",
              "Agripada, Chinchpokli, Haines Road, Jacob Circle                 0.0  ...          0.0\n",
              "Airport, International Airport, Sahar P & t col...               0.0  ...          0.0\n",
              "Andheri East, Nagardas Road                                      0.0  ...          0.0\n",
              "Andheri Railway station, H.M.p. school                           0.0  ...          0.0\n",
              "\n",
              "[5 rows x 175 columns]"
            ]
          },
          "metadata": {
            "tags": []
          },
          "execution_count": 52
        }
      ]
    },
    {
      "cell_type": "code",
      "metadata": {
        "id": "SCqVzWyywfqq",
        "colab_type": "code",
        "outputId": "f107d2d5-0f39-44b2-ddfb-9020c6be800d",
        "colab": {
          "base_uri": "https://localhost:8080/",
          "height": 34
        }
      },
      "source": [
        "neigh_bombay_filtered.shape"
      ],
      "execution_count": 53,
      "outputs": [
        {
          "output_type": "execute_result",
          "data": {
            "text/plain": [
              "(33, 175)"
            ]
          },
          "metadata": {
            "tags": []
          },
          "execution_count": 53
        }
      ]
    },
    {
      "cell_type": "code",
      "metadata": {
        "id": "kgiCxETCfZsV",
        "colab_type": "code",
        "colab": {}
      },
      "source": [
        ""
      ],
      "execution_count": 0,
      "outputs": []
    },
    {
      "cell_type": "markdown",
      "metadata": {
        "id": "01rE1S-AfZ50",
        "colab_type": "text"
      },
      "source": [
        "# Clustering the data by K-Means and importing sklearn.cluster"
      ]
    },
    {
      "cell_type": "code",
      "metadata": {
        "id": "Wp7O7nFCwTVT",
        "colab_type": "code",
        "colab": {}
      },
      "source": [
        "# Applying K Means with four labels"
      ],
      "execution_count": 0,
      "outputs": []
    },
    {
      "cell_type": "code",
      "metadata": {
        "id": "5kdTzeS_wbPI",
        "colab_type": "code",
        "colab": {}
      },
      "source": [
        "from sklearn.cluster import KMeans"
      ],
      "execution_count": 0,
      "outputs": []
    },
    {
      "cell_type": "code",
      "metadata": {
        "id": "pn8FFqXCxJWC",
        "colab_type": "code",
        "colab": {}
      },
      "source": [
        "X = neigh_bombay_filtered"
      ],
      "execution_count": 0,
      "outputs": []
    },
    {
      "cell_type": "code",
      "metadata": {
        "id": "ezO3io_Iw2yM",
        "colab_type": "code",
        "colab": {}
      },
      "source": [
        "kmeans = KMeans(n_clusters=5, random_state=5).fit(X)"
      ],
      "execution_count": 0,
      "outputs": []
    },
    {
      "cell_type": "code",
      "metadata": {
        "id": "3R3y-9a6xMR-",
        "colab_type": "code",
        "colab": {}
      },
      "source": [
        "label = kmeans.labels_"
      ],
      "execution_count": 0,
      "outputs": []
    },
    {
      "cell_type": "code",
      "metadata": {
        "id": "2sMWSXSOxOj4",
        "colab_type": "code",
        "colab": {}
      },
      "source": [
        "#adding labels to the cluster"
      ],
      "execution_count": 0,
      "outputs": []
    },
    {
      "cell_type": "code",
      "metadata": {
        "id": "H8COAbpLx4gc",
        "colab_type": "code",
        "colab": {}
      },
      "source": [
        "neigh_bombay_filtered['labels'] = label"
      ],
      "execution_count": 0,
      "outputs": []
    },
    {
      "cell_type": "code",
      "metadata": {
        "id": "VUz-sf5eyAxJ",
        "colab_type": "code",
        "outputId": "6124dba2-de32-426e-d4f0-c126a1561c48",
        "colab": {
          "base_uri": "https://localhost:8080/",
          "height": 669
        }
      },
      "source": [
        "neigh_bombay_filtered.head()"
      ],
      "execution_count": 61,
      "outputs": [
        {
          "output_type": "execute_result",
          "data": {
            "text/html": [
              "<div>\n",
              "<style scoped>\n",
              "    .dataframe tbody tr th:only-of-type {\n",
              "        vertical-align: middle;\n",
              "    }\n",
              "\n",
              "    .dataframe tbody tr th {\n",
              "        vertical-align: top;\n",
              "    }\n",
              "\n",
              "    .dataframe thead th {\n",
              "        text-align: right;\n",
              "    }\n",
              "</style>\n",
              "<table border=\"1\" class=\"dataframe\">\n",
              "  <thead>\n",
              "    <tr style=\"text-align: right;\">\n",
              "      <th></th>\n",
              "      <th>Airport Terminal</th>\n",
              "      <th>American Restaurant</th>\n",
              "      <th>Amphitheater</th>\n",
              "      <th>Arcade</th>\n",
              "      <th>Arts &amp; Crafts Store</th>\n",
              "      <th>Asian Restaurant</th>\n",
              "      <th>Athletics &amp; Sports</th>\n",
              "      <th>Auto Dealership</th>\n",
              "      <th>BBQ Joint</th>\n",
              "      <th>Bagel Shop</th>\n",
              "      <th>Bakery</th>\n",
              "      <th>Bank</th>\n",
              "      <th>Bar</th>\n",
              "      <th>Baseball Field</th>\n",
              "      <th>Beach</th>\n",
              "      <th>Bed &amp; Breakfast</th>\n",
              "      <th>Beer Bar</th>\n",
              "      <th>Bengali Restaurant</th>\n",
              "      <th>Bike Rental / Bike Share</th>\n",
              "      <th>Bistro</th>\n",
              "      <th>Bookstore</th>\n",
              "      <th>Boutique</th>\n",
              "      <th>Bowling Alley</th>\n",
              "      <th>Breakfast Spot</th>\n",
              "      <th>Brewery</th>\n",
              "      <th>Building</th>\n",
              "      <th>Burger Joint</th>\n",
              "      <th>Bus Station</th>\n",
              "      <th>Business Service</th>\n",
              "      <th>Café</th>\n",
              "      <th>Campground</th>\n",
              "      <th>Cheese Shop</th>\n",
              "      <th>Chinese Restaurant</th>\n",
              "      <th>Clothing Store</th>\n",
              "      <th>Cocktail Bar</th>\n",
              "      <th>Coffee Shop</th>\n",
              "      <th>College Auditorium</th>\n",
              "      <th>College Gym</th>\n",
              "      <th>Comedy Club</th>\n",
              "      <th>Comfort Food Restaurant</th>\n",
              "      <th>...</th>\n",
              "      <th>Platform</th>\n",
              "      <th>Playground</th>\n",
              "      <th>Plaza</th>\n",
              "      <th>Pool</th>\n",
              "      <th>Pub</th>\n",
              "      <th>Recreation Center</th>\n",
              "      <th>Resort</th>\n",
              "      <th>Restaurant</th>\n",
              "      <th>Roof Deck</th>\n",
              "      <th>Salad Place</th>\n",
              "      <th>Salon / Barbershop</th>\n",
              "      <th>Sandwich Place</th>\n",
              "      <th>Scenic Lookout</th>\n",
              "      <th>Seafood Restaurant</th>\n",
              "      <th>Shoe Store</th>\n",
              "      <th>Shopping Mall</th>\n",
              "      <th>Smoke Shop</th>\n",
              "      <th>Snack Place</th>\n",
              "      <th>Soccer Field</th>\n",
              "      <th>South Indian Restaurant</th>\n",
              "      <th>Spa</th>\n",
              "      <th>Spanish Restaurant</th>\n",
              "      <th>Sporting Goods Shop</th>\n",
              "      <th>Sports Bar</th>\n",
              "      <th>Stadium</th>\n",
              "      <th>Steakhouse</th>\n",
              "      <th>Sushi Restaurant</th>\n",
              "      <th>Tea Room</th>\n",
              "      <th>Tennis Court</th>\n",
              "      <th>Thai Restaurant</th>\n",
              "      <th>Theater</th>\n",
              "      <th>Train</th>\n",
              "      <th>Train Station</th>\n",
              "      <th>Vegetarian / Vegan Restaurant</th>\n",
              "      <th>Volleyball Court</th>\n",
              "      <th>Wine Bar</th>\n",
              "      <th>Wine Shop</th>\n",
              "      <th>Women's Store</th>\n",
              "      <th>Yoga Studio</th>\n",
              "      <th>labels</th>\n",
              "    </tr>\n",
              "    <tr>\n",
              "      <th>location</th>\n",
              "      <th></th>\n",
              "      <th></th>\n",
              "      <th></th>\n",
              "      <th></th>\n",
              "      <th></th>\n",
              "      <th></th>\n",
              "      <th></th>\n",
              "      <th></th>\n",
              "      <th></th>\n",
              "      <th></th>\n",
              "      <th></th>\n",
              "      <th></th>\n",
              "      <th></th>\n",
              "      <th></th>\n",
              "      <th></th>\n",
              "      <th></th>\n",
              "      <th></th>\n",
              "      <th></th>\n",
              "      <th></th>\n",
              "      <th></th>\n",
              "      <th></th>\n",
              "      <th></th>\n",
              "      <th></th>\n",
              "      <th></th>\n",
              "      <th></th>\n",
              "      <th></th>\n",
              "      <th></th>\n",
              "      <th></th>\n",
              "      <th></th>\n",
              "      <th></th>\n",
              "      <th></th>\n",
              "      <th></th>\n",
              "      <th></th>\n",
              "      <th></th>\n",
              "      <th></th>\n",
              "      <th></th>\n",
              "      <th></th>\n",
              "      <th></th>\n",
              "      <th></th>\n",
              "      <th></th>\n",
              "      <th></th>\n",
              "      <th></th>\n",
              "      <th></th>\n",
              "      <th></th>\n",
              "      <th></th>\n",
              "      <th></th>\n",
              "      <th></th>\n",
              "      <th></th>\n",
              "      <th></th>\n",
              "      <th></th>\n",
              "      <th></th>\n",
              "      <th></th>\n",
              "      <th></th>\n",
              "      <th></th>\n",
              "      <th></th>\n",
              "      <th></th>\n",
              "      <th></th>\n",
              "      <th></th>\n",
              "      <th></th>\n",
              "      <th></th>\n",
              "      <th></th>\n",
              "      <th></th>\n",
              "      <th></th>\n",
              "      <th></th>\n",
              "      <th></th>\n",
              "      <th></th>\n",
              "      <th></th>\n",
              "      <th></th>\n",
              "      <th></th>\n",
              "      <th></th>\n",
              "      <th></th>\n",
              "      <th></th>\n",
              "      <th></th>\n",
              "      <th></th>\n",
              "      <th></th>\n",
              "      <th></th>\n",
              "      <th></th>\n",
              "      <th></th>\n",
              "      <th></th>\n",
              "      <th></th>\n",
              "      <th></th>\n",
              "    </tr>\n",
              "  </thead>\n",
              "  <tbody>\n",
              "    <tr>\n",
              "      <th>A I staff colony, Santacruz P&amp;t colony</th>\n",
              "      <td>0.0</td>\n",
              "      <td>0.0</td>\n",
              "      <td>0.0</td>\n",
              "      <td>0.0</td>\n",
              "      <td>0.000000</td>\n",
              "      <td>0.050000</td>\n",
              "      <td>0.000000</td>\n",
              "      <td>0.0</td>\n",
              "      <td>0.0</td>\n",
              "      <td>0.000000</td>\n",
              "      <td>0.000000</td>\n",
              "      <td>0.0</td>\n",
              "      <td>0.100000</td>\n",
              "      <td>0.0</td>\n",
              "      <td>0.0</td>\n",
              "      <td>0.0</td>\n",
              "      <td>0.0</td>\n",
              "      <td>0.0</td>\n",
              "      <td>0.0</td>\n",
              "      <td>0.0</td>\n",
              "      <td>0.0</td>\n",
              "      <td>0.0</td>\n",
              "      <td>0.000000</td>\n",
              "      <td>0.0</td>\n",
              "      <td>0.0</td>\n",
              "      <td>0.0</td>\n",
              "      <td>0.050000</td>\n",
              "      <td>0.0</td>\n",
              "      <td>0.0</td>\n",
              "      <td>0.000000</td>\n",
              "      <td>0.0</td>\n",
              "      <td>0.0</td>\n",
              "      <td>0.050000</td>\n",
              "      <td>0.0</td>\n",
              "      <td>0.000000</td>\n",
              "      <td>0.050000</td>\n",
              "      <td>0.0</td>\n",
              "      <td>0.0</td>\n",
              "      <td>0.0</td>\n",
              "      <td>0.0</td>\n",
              "      <td>...</td>\n",
              "      <td>0.0</td>\n",
              "      <td>0.05</td>\n",
              "      <td>0.0</td>\n",
              "      <td>0.0</td>\n",
              "      <td>0.000000</td>\n",
              "      <td>0.05</td>\n",
              "      <td>0.0</td>\n",
              "      <td>0.000000</td>\n",
              "      <td>0.0</td>\n",
              "      <td>0.0</td>\n",
              "      <td>0.0</td>\n",
              "      <td>0.000000</td>\n",
              "      <td>0.0</td>\n",
              "      <td>0.000000</td>\n",
              "      <td>0.0</td>\n",
              "      <td>0.0</td>\n",
              "      <td>0.000000</td>\n",
              "      <td>0.000000</td>\n",
              "      <td>0.0</td>\n",
              "      <td>0.0</td>\n",
              "      <td>0.0</td>\n",
              "      <td>0.0</td>\n",
              "      <td>0.0</td>\n",
              "      <td>0.0</td>\n",
              "      <td>0.0</td>\n",
              "      <td>0.0</td>\n",
              "      <td>0.0</td>\n",
              "      <td>0.000000</td>\n",
              "      <td>0.0</td>\n",
              "      <td>0.0</td>\n",
              "      <td>0.0</td>\n",
              "      <td>0.0</td>\n",
              "      <td>0.00</td>\n",
              "      <td>0.050000</td>\n",
              "      <td>0.0</td>\n",
              "      <td>0.0</td>\n",
              "      <td>0.0</td>\n",
              "      <td>0.0</td>\n",
              "      <td>0.0</td>\n",
              "      <td>1</td>\n",
              "    </tr>\n",
              "    <tr>\n",
              "      <th>Agripada, Chinchpokli, Haines Road, Jacob Circle</th>\n",
              "      <td>0.0</td>\n",
              "      <td>0.0</td>\n",
              "      <td>0.0</td>\n",
              "      <td>0.0</td>\n",
              "      <td>0.000000</td>\n",
              "      <td>0.000000</td>\n",
              "      <td>0.000000</td>\n",
              "      <td>0.0</td>\n",
              "      <td>0.0</td>\n",
              "      <td>0.000000</td>\n",
              "      <td>0.000000</td>\n",
              "      <td>0.0</td>\n",
              "      <td>0.000000</td>\n",
              "      <td>0.0</td>\n",
              "      <td>0.0</td>\n",
              "      <td>0.0</td>\n",
              "      <td>0.0</td>\n",
              "      <td>0.0</td>\n",
              "      <td>0.0</td>\n",
              "      <td>0.0</td>\n",
              "      <td>0.0</td>\n",
              "      <td>0.0</td>\n",
              "      <td>0.000000</td>\n",
              "      <td>0.0</td>\n",
              "      <td>0.0</td>\n",
              "      <td>0.0</td>\n",
              "      <td>0.000000</td>\n",
              "      <td>0.0</td>\n",
              "      <td>0.0</td>\n",
              "      <td>0.000000</td>\n",
              "      <td>0.0</td>\n",
              "      <td>0.0</td>\n",
              "      <td>0.000000</td>\n",
              "      <td>0.0</td>\n",
              "      <td>0.000000</td>\n",
              "      <td>0.250000</td>\n",
              "      <td>0.0</td>\n",
              "      <td>0.0</td>\n",
              "      <td>0.0</td>\n",
              "      <td>0.0</td>\n",
              "      <td>...</td>\n",
              "      <td>0.0</td>\n",
              "      <td>0.00</td>\n",
              "      <td>0.0</td>\n",
              "      <td>0.0</td>\n",
              "      <td>0.000000</td>\n",
              "      <td>0.00</td>\n",
              "      <td>0.0</td>\n",
              "      <td>0.000000</td>\n",
              "      <td>0.0</td>\n",
              "      <td>0.0</td>\n",
              "      <td>0.0</td>\n",
              "      <td>0.000000</td>\n",
              "      <td>0.0</td>\n",
              "      <td>0.000000</td>\n",
              "      <td>0.0</td>\n",
              "      <td>0.0</td>\n",
              "      <td>0.000000</td>\n",
              "      <td>0.000000</td>\n",
              "      <td>0.0</td>\n",
              "      <td>0.0</td>\n",
              "      <td>0.0</td>\n",
              "      <td>0.0</td>\n",
              "      <td>0.0</td>\n",
              "      <td>0.0</td>\n",
              "      <td>0.0</td>\n",
              "      <td>0.0</td>\n",
              "      <td>0.0</td>\n",
              "      <td>0.000000</td>\n",
              "      <td>0.0</td>\n",
              "      <td>0.0</td>\n",
              "      <td>0.0</td>\n",
              "      <td>0.0</td>\n",
              "      <td>0.25</td>\n",
              "      <td>0.000000</td>\n",
              "      <td>0.0</td>\n",
              "      <td>0.0</td>\n",
              "      <td>0.0</td>\n",
              "      <td>0.0</td>\n",
              "      <td>0.0</td>\n",
              "      <td>0</td>\n",
              "    </tr>\n",
              "    <tr>\n",
              "      <th>Airport, International Airport, Sahar P &amp; t colony, Sahargaon</th>\n",
              "      <td>0.0</td>\n",
              "      <td>0.0</td>\n",
              "      <td>0.0</td>\n",
              "      <td>0.0</td>\n",
              "      <td>0.000000</td>\n",
              "      <td>0.052632</td>\n",
              "      <td>0.000000</td>\n",
              "      <td>0.0</td>\n",
              "      <td>0.0</td>\n",
              "      <td>0.000000</td>\n",
              "      <td>0.000000</td>\n",
              "      <td>0.0</td>\n",
              "      <td>0.026316</td>\n",
              "      <td>0.0</td>\n",
              "      <td>0.0</td>\n",
              "      <td>0.0</td>\n",
              "      <td>0.0</td>\n",
              "      <td>0.0</td>\n",
              "      <td>0.0</td>\n",
              "      <td>0.0</td>\n",
              "      <td>0.0</td>\n",
              "      <td>0.0</td>\n",
              "      <td>0.000000</td>\n",
              "      <td>0.0</td>\n",
              "      <td>0.0</td>\n",
              "      <td>0.0</td>\n",
              "      <td>0.000000</td>\n",
              "      <td>0.0</td>\n",
              "      <td>0.0</td>\n",
              "      <td>0.105263</td>\n",
              "      <td>0.0</td>\n",
              "      <td>0.0</td>\n",
              "      <td>0.026316</td>\n",
              "      <td>0.0</td>\n",
              "      <td>0.026316</td>\n",
              "      <td>0.000000</td>\n",
              "      <td>0.0</td>\n",
              "      <td>0.0</td>\n",
              "      <td>0.0</td>\n",
              "      <td>0.0</td>\n",
              "      <td>...</td>\n",
              "      <td>0.0</td>\n",
              "      <td>0.00</td>\n",
              "      <td>0.0</td>\n",
              "      <td>0.0</td>\n",
              "      <td>0.000000</td>\n",
              "      <td>0.00</td>\n",
              "      <td>0.0</td>\n",
              "      <td>0.052632</td>\n",
              "      <td>0.0</td>\n",
              "      <td>0.0</td>\n",
              "      <td>0.0</td>\n",
              "      <td>0.000000</td>\n",
              "      <td>0.0</td>\n",
              "      <td>0.026316</td>\n",
              "      <td>0.0</td>\n",
              "      <td>0.0</td>\n",
              "      <td>0.000000</td>\n",
              "      <td>0.000000</td>\n",
              "      <td>0.0</td>\n",
              "      <td>0.0</td>\n",
              "      <td>0.0</td>\n",
              "      <td>0.0</td>\n",
              "      <td>0.0</td>\n",
              "      <td>0.0</td>\n",
              "      <td>0.0</td>\n",
              "      <td>0.0</td>\n",
              "      <td>0.0</td>\n",
              "      <td>0.000000</td>\n",
              "      <td>0.0</td>\n",
              "      <td>0.0</td>\n",
              "      <td>0.0</td>\n",
              "      <td>0.0</td>\n",
              "      <td>0.00</td>\n",
              "      <td>0.052632</td>\n",
              "      <td>0.0</td>\n",
              "      <td>0.0</td>\n",
              "      <td>0.0</td>\n",
              "      <td>0.0</td>\n",
              "      <td>0.0</td>\n",
              "      <td>1</td>\n",
              "    </tr>\n",
              "    <tr>\n",
              "      <th>Andheri East, Nagardas Road</th>\n",
              "      <td>0.0</td>\n",
              "      <td>0.0</td>\n",
              "      <td>0.0</td>\n",
              "      <td>0.0</td>\n",
              "      <td>0.083333</td>\n",
              "      <td>0.083333</td>\n",
              "      <td>0.000000</td>\n",
              "      <td>0.0</td>\n",
              "      <td>0.0</td>\n",
              "      <td>0.000000</td>\n",
              "      <td>0.000000</td>\n",
              "      <td>0.0</td>\n",
              "      <td>0.000000</td>\n",
              "      <td>0.0</td>\n",
              "      <td>0.0</td>\n",
              "      <td>0.0</td>\n",
              "      <td>0.0</td>\n",
              "      <td>0.0</td>\n",
              "      <td>0.0</td>\n",
              "      <td>0.0</td>\n",
              "      <td>0.0</td>\n",
              "      <td>0.0</td>\n",
              "      <td>0.000000</td>\n",
              "      <td>0.0</td>\n",
              "      <td>0.0</td>\n",
              "      <td>0.0</td>\n",
              "      <td>0.000000</td>\n",
              "      <td>0.0</td>\n",
              "      <td>0.0</td>\n",
              "      <td>0.000000</td>\n",
              "      <td>0.0</td>\n",
              "      <td>0.0</td>\n",
              "      <td>0.083333</td>\n",
              "      <td>0.0</td>\n",
              "      <td>0.000000</td>\n",
              "      <td>0.083333</td>\n",
              "      <td>0.0</td>\n",
              "      <td>0.0</td>\n",
              "      <td>0.0</td>\n",
              "      <td>0.0</td>\n",
              "      <td>...</td>\n",
              "      <td>0.0</td>\n",
              "      <td>0.00</td>\n",
              "      <td>0.0</td>\n",
              "      <td>0.0</td>\n",
              "      <td>0.000000</td>\n",
              "      <td>0.00</td>\n",
              "      <td>0.0</td>\n",
              "      <td>0.000000</td>\n",
              "      <td>0.0</td>\n",
              "      <td>0.0</td>\n",
              "      <td>0.0</td>\n",
              "      <td>0.000000</td>\n",
              "      <td>0.0</td>\n",
              "      <td>0.000000</td>\n",
              "      <td>0.0</td>\n",
              "      <td>0.0</td>\n",
              "      <td>0.000000</td>\n",
              "      <td>0.000000</td>\n",
              "      <td>0.0</td>\n",
              "      <td>0.0</td>\n",
              "      <td>0.0</td>\n",
              "      <td>0.0</td>\n",
              "      <td>0.0</td>\n",
              "      <td>0.0</td>\n",
              "      <td>0.0</td>\n",
              "      <td>0.0</td>\n",
              "      <td>0.0</td>\n",
              "      <td>0.083333</td>\n",
              "      <td>0.0</td>\n",
              "      <td>0.0</td>\n",
              "      <td>0.0</td>\n",
              "      <td>0.0</td>\n",
              "      <td>0.00</td>\n",
              "      <td>0.000000</td>\n",
              "      <td>0.0</td>\n",
              "      <td>0.0</td>\n",
              "      <td>0.0</td>\n",
              "      <td>0.0</td>\n",
              "      <td>0.0</td>\n",
              "      <td>1</td>\n",
              "    </tr>\n",
              "    <tr>\n",
              "      <th>Andheri Railway station, H.M.p. school</th>\n",
              "      <td>0.0</td>\n",
              "      <td>0.0</td>\n",
              "      <td>0.0</td>\n",
              "      <td>0.0</td>\n",
              "      <td>0.000000</td>\n",
              "      <td>0.021739</td>\n",
              "      <td>0.043478</td>\n",
              "      <td>0.0</td>\n",
              "      <td>0.0</td>\n",
              "      <td>0.021739</td>\n",
              "      <td>0.021739</td>\n",
              "      <td>0.0</td>\n",
              "      <td>0.086957</td>\n",
              "      <td>0.0</td>\n",
              "      <td>0.0</td>\n",
              "      <td>0.0</td>\n",
              "      <td>0.0</td>\n",
              "      <td>0.0</td>\n",
              "      <td>0.0</td>\n",
              "      <td>0.0</td>\n",
              "      <td>0.0</td>\n",
              "      <td>0.0</td>\n",
              "      <td>0.021739</td>\n",
              "      <td>0.0</td>\n",
              "      <td>0.0</td>\n",
              "      <td>0.0</td>\n",
              "      <td>0.043478</td>\n",
              "      <td>0.0</td>\n",
              "      <td>0.0</td>\n",
              "      <td>0.000000</td>\n",
              "      <td>0.0</td>\n",
              "      <td>0.0</td>\n",
              "      <td>0.021739</td>\n",
              "      <td>0.0</td>\n",
              "      <td>0.000000</td>\n",
              "      <td>0.065217</td>\n",
              "      <td>0.0</td>\n",
              "      <td>0.0</td>\n",
              "      <td>0.0</td>\n",
              "      <td>0.0</td>\n",
              "      <td>...</td>\n",
              "      <td>0.0</td>\n",
              "      <td>0.00</td>\n",
              "      <td>0.0</td>\n",
              "      <td>0.0</td>\n",
              "      <td>0.086957</td>\n",
              "      <td>0.00</td>\n",
              "      <td>0.0</td>\n",
              "      <td>0.043478</td>\n",
              "      <td>0.0</td>\n",
              "      <td>0.0</td>\n",
              "      <td>0.0</td>\n",
              "      <td>0.021739</td>\n",
              "      <td>0.0</td>\n",
              "      <td>0.000000</td>\n",
              "      <td>0.0</td>\n",
              "      <td>0.0</td>\n",
              "      <td>0.043478</td>\n",
              "      <td>0.043478</td>\n",
              "      <td>0.0</td>\n",
              "      <td>0.0</td>\n",
              "      <td>0.0</td>\n",
              "      <td>0.0</td>\n",
              "      <td>0.0</td>\n",
              "      <td>0.0</td>\n",
              "      <td>0.0</td>\n",
              "      <td>0.0</td>\n",
              "      <td>0.0</td>\n",
              "      <td>0.000000</td>\n",
              "      <td>0.0</td>\n",
              "      <td>0.0</td>\n",
              "      <td>0.0</td>\n",
              "      <td>0.0</td>\n",
              "      <td>0.00</td>\n",
              "      <td>0.021739</td>\n",
              "      <td>0.0</td>\n",
              "      <td>0.0</td>\n",
              "      <td>0.0</td>\n",
              "      <td>0.0</td>\n",
              "      <td>0.0</td>\n",
              "      <td>3</td>\n",
              "    </tr>\n",
              "  </tbody>\n",
              "</table>\n",
              "<p>5 rows × 176 columns</p>\n",
              "</div>"
            ],
            "text/plain": [
              "                                                    Airport Terminal  ...  labels\n",
              "location                                                              ...        \n",
              "A I staff colony, Santacruz P&t colony                           0.0  ...       1\n",
              "Agripada, Chinchpokli, Haines Road, Jacob Circle                 0.0  ...       0\n",
              "Airport, International Airport, Sahar P & t col...               0.0  ...       1\n",
              "Andheri East, Nagardas Road                                      0.0  ...       1\n",
              "Andheri Railway station, H.M.p. school                           0.0  ...       3\n",
              "\n",
              "[5 rows x 176 columns]"
            ]
          },
          "metadata": {
            "tags": []
          },
          "execution_count": 61
        }
      ]
    },
    {
      "cell_type": "code",
      "metadata": {
        "id": "6hjkp-9xfpqZ",
        "colab_type": "code",
        "colab": {}
      },
      "source": [
        ""
      ],
      "execution_count": 0,
      "outputs": []
    },
    {
      "cell_type": "markdown",
      "metadata": {
        "id": "80TWMRnMfp30",
        "colab_type": "text"
      },
      "source": [
        "# Data visualisation"
      ]
    },
    {
      "cell_type": "code",
      "metadata": {
        "id": "39pucnK_yDIR",
        "colab_type": "code",
        "colab": {}
      },
      "source": [
        "color = ['blue', 'yellow', 'green', 'red', 'black', 'purple', 'pink']"
      ],
      "execution_count": 0,
      "outputs": []
    },
    {
      "cell_type": "code",
      "metadata": {
        "id": "rxwKn8HByXX2",
        "colab_type": "code",
        "outputId": "3d086bdc-3554-4e5c-d3b3-1c1b19008fe3",
        "colab": {
          "base_uri": "https://localhost:8080/",
          "height": 755
        }
      },
      "source": [
        "neigh_bom_map = folium.Map(zoom_start = 10, location= [19.07, 72.87])\n",
        "\n",
        "for loc in neigh_bombay_filtered.index:\n",
        "  lat = df[df['Location'] == loc]['Latitude'].unique()[0]\n",
        "  lon = df[df['Location'] == loc]['Longitude'].unique()[0]\n",
        "  folium.CircleMarker(\n",
        "      [float(lat), float(lon)],\n",
        "      radius = 10,\n",
        "      popup = str(loc),\n",
        "      color = color[int(neigh_bombay_filtered.loc[loc]['labels'])],\n",
        "      fill_color = True\n",
        "  ).add_to(neigh_bom_map)\n",
        "\n",
        "neigh_bom_map"
      ],
      "execution_count": 63,
      "outputs": [
        {
          "output_type": "execute_result",
          "data": {
            "text/html": [
              "<div style=\"width:100%;\"><div style=\"position:relative;width:100%;height:0;padding-bottom:60%;\"><iframe src=\"data:text/html;charset=utf-8;base64,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\" style=\"position:absolute;width:100%;height:100%;left:0;top:0;border:none !important;\" allowfullscreen webkitallowfullscreen mozallowfullscreen></iframe></div></div>"
            ],
            "text/plain": [
              "<folium.folium.Map at 0x7f07ecae1fd0>"
            ]
          },
          "metadata": {
            "tags": []
          },
          "execution_count": 63
        }
      ]
    },
    {
      "cell_type": "code",
      "metadata": {
        "id": "6YYLcYf_01Uh",
        "colab_type": "code",
        "colab": {}
      },
      "source": [
        ""
      ],
      "execution_count": 0,
      "outputs": []
    },
    {
      "cell_type": "markdown",
      "metadata": {
        "id": "pFGdUBB8j458",
        "colab_type": "text"
      },
      "source": [
        "## Evaluating K-Means efficiency"
      ]
    },
    {
      "cell_type": "code",
      "metadata": {
        "id": "4tTkOAXxf-Fi",
        "colab_type": "code",
        "colab": {}
      },
      "source": [
        "from sklearn.metrics import silhouette_score"
      ],
      "execution_count": 0,
      "outputs": []
    },
    {
      "cell_type": "code",
      "metadata": {
        "id": "TtD0jnFckrYW",
        "colab_type": "code",
        "colab": {}
      },
      "source": [
        "sil = []\n",
        "kmax = 10\n",
        "\n",
        "# dissimilarity would not be defined for a single cluster, thus, minimum number of clusters should be 2\n",
        "for k in range(2, kmax+1):\n",
        "  kmeans = KMeans(n_clusters = k, random_state=0).fit(X)\n",
        "  labels = kmeans.labels_\n",
        "  sil.append(silhouette_score(X, labels, metric = 'euclidean'))"
      ],
      "execution_count": 0,
      "outputs": []
    },
    {
      "cell_type": "code",
      "metadata": {
        "id": "xDMMP1VPkrbf",
        "colab_type": "code",
        "colab": {
          "base_uri": "https://localhost:8080/",
          "height": 295
        },
        "outputId": "9d4cc4c9-9da6-43fa-c6af-007a1321642f"
      },
      "source": [
        "#plotting the score and finding optimal k\n",
        "plt.plot(range(2,kmax+1), sil)\n",
        "plt.xlabel('Number of cluster')\n",
        "plt.ylabel('Silhouette score')\n",
        "plt.title('Finding the highest value')\n",
        "plt.show()"
      ],
      "execution_count": 71,
      "outputs": [
        {
          "output_type": "display_data",
          "data": {
            "image/png": "[encoded data removed]",
            "text/plain": [
              "<Figure size 432x288 with 1 Axes>"
            ]
          },
          "metadata": {
            "tags": []
          }
        }
      ]
    },
    {
      "cell_type": "code",
      "metadata": {
        "id": "ebUj3tyqkreg",
        "colab_type": "code",
        "colab": {
          "base_uri": "https://localhost:8080/",
          "height": 755
        },
        "outputId": "0dc5e7f4-7e51-4016-f9dc-88b1bd8751ab"
      },
      "source": [
        "#Maximum coming at k = 3\n",
        "kmeans = KMeans(n_clusters=3, random_state=0).fit(X)\n",
        "label = kmeans.labels_\n",
        "neigh_bombay_filtered['labels'] = label\n",
        "neigh_bom_map = folium.Map(zoom_start = 10, location= [19.07, 72.87])\n",
        "\n",
        "for loc in neigh_bombay_filtered.index:\n",
        "  lat = df[df['Location'] == loc]['Latitude'].unique()[0]\n",
        "  lon = df[df['Location'] == loc]['Longitude'].unique()[0]\n",
        "  folium.CircleMarker(\n",
        "      [float(lat), float(lon)],\n",
        "      radius = 5,\n",
        "      popup = str(loc),\n",
        "      color = color[int(neigh_bombay_filtered.loc[loc]['labels'])],\n",
        "      fill_color = True\n",
        "  ).add_to(neigh_bom_map)\n",
        "\n",
        "neigh_bom_map"
      ],
      "execution_count": 74,
      "outputs": [
        {
          "output_type": "execute_result",
          "data": {
            "text/html": [
              "<div style=\"width:100%;\"><div style=\"position:relative;width:100%;height:0;padding-bottom:60%;\"><iframe src=\"data:text/html;charset=utf-8;base64,PCFET0NUWVBFIGh0bWw+CjxoZWFkPiAgICAKICAgIDxtZXRhIGh0dHAtZXF1aXY9ImNvbnRlbnQtdHlwZSIgY29udGVudD0idGV4dC9odG1sOyBjaGFyc2V0PVVURi04IiAvPgogICAgPHNjcmlwdD5MX1BSRUZFUl9DQU5WQVM9ZmFsc2U7IExfTk9fVE9VQ0g9ZmFsc2U7IExfRElTQUJMRV8zRD1mYWxzZTs8L3NjcmlwdD4KICAgIDxzY3JpcHQgc3JjPSJodHRwczovL2Nkbi5qc2RlbGl2ci5uZXQvbnBtL2xlYWZsZXRAMS40LjAvZGlzdC9sZWFmbGV0LmpzIj48L3NjcmlwdD4KICAgIDxzY3JpcHQgc3JjPSJodHRwczovL2NvZGUuanF1ZXJ5LmNvbS9qcXVlcnktMS4xMi40Lm1pbi5qcyI+PC9zY3JpcHQ+CiAgICA8c2NyaXB0IHNyYz0iaHR0cHM6Ly9tYXhjZG4uYm9vdHN0cmFwY2RuLmNvbS9ib290c3RyYXAvMy4yLjAvanMvYm9vdHN0cmFwLm1pbi5qcyI+PC9zY3JpcHQ+CiAgICA8c2NyaXB0IHNyYz0iaHR0cHM6Ly9jZG5qcy5jbG91ZGZsYXJlLmNvbS9hamF4L2xpYnMvTGVhZmxldC5hd2Vzb21lLW1hcmtlcnMvMi4wLjIvbGVhZmxldC5hd2Vzb21lLW1hcmtlcnMuanMiPjwvc2NyaXB0PgogICAgPGxpbmsgcmVsPSJzdHlsZXNoZWV0IiBocmVmPSJodHRwczovL2Nkbi5qc2RlbGl2ci5uZXQvbnBtL2xlYWZsZXRAMS40LjAvZGlzdC9sZWFmbGV0LmNzcyIvPgogICAgPGxpbmsgcmVsPSJzdHlsZXNoZWV0IiBocmVmPSJodHRwczovL21heGNkbi5ib290c3RyYXBjZG4uY29tL2Jvb3RzdHJhcC8zLjIuMC9jc3MvYm9vdHN0cmFwLm1pbi5jc3MiLz4KICAgIDxsaW5rIHJlbD0ic3R5bGVzaGVldCIgaHJlZj0iaHR0cHM6Ly9tYXhjZG4uYm9vdHN0cmFwY2RuLmNvbS9ib290c3RyYXAvMy4yLjAvY3NzL2Jvb3RzdHJhcC10aGVtZS5taW4uY3NzIi8+CiAgICA8bGluayByZWw9InN0eWxlc2hlZXQiIGhyZWY9Imh0dHBzOi8vbWF4Y2RuLmJvb3RzdHJhcGNkbi5jb20vZm9udC1hd2Vzb21lLzQuNi4zL2Nzcy9mb250LWF3ZXNvbWUubWluLmNzcyIvPgogICAgPGxpbmsgcmVsPSJzdHlsZXNoZWV0IiBocmVmPSJodHRwczovL2NkbmpzLmNsb3VkZmxhcmUuY29tL2FqYXgvbGlicy9MZWFmbGV0LmF3ZXNvbWUtbWFya2Vycy8yLjAuMi9sZWFmbGV0LmF3ZXNvbWUtbWFya2Vycy5jc3MiLz4KICAgIDxsaW5rIHJlbD0ic3R5bGVzaGVldCIgaHJlZj0iaHR0cHM6Ly9yYXdjZG4uZ2l0aGFjay5jb20vcHl0aG9uLXZpc3VhbGl6YXRpb24vZm9saXVtL21hc3Rlci9mb2xpdW0vdGVtcGxhdGVzL2xlYWZsZXQuYXdlc29tZS5yb3RhdGUuY3NzIi8+CiAgICA8c3R5bGU+aHRtbCwgYm9keSB7d2lkdGg6IDEwMCU7aGVpZ2h0OiAxMDAlO21hcmdpbjogMDtwYWRkaW5nOiAwO308L3N0eWxlPgogICAgPHN0eWxlPiNtYXAge3Bvc2l0aW9uOmFic29sdXRlO3RvcDowO2JvdHRvbTowO3JpZ2h0OjA7bGVmdDowO308L3N0eWxlPgogICAgCiAgICA8bWV0YSBuYW1lPSJ2aWV3cG9ydCIgY29udGVudD0id2lkdGg9ZGV2aWNlLXdpZHRoLAogICAgICAgIGluaXRpYWwtc2NhbGU9MS4wLCBtYXhpbXVtLXNjYWxlPTEuMCwgdXNlci1zY2FsYWJsZT1ubyIgLz4KICAgIDxzdHlsZT4jbWFwXzFhODEzYzQ5YzBlNTQ4NDc4NmI4ODk5MWM3NWYxMzIyIHsKICAgICAgICBwb3NpdGlvbjogcmVsYXRpdmU7CiAgICAgICAgd2lkdGg6IDEwMC4wJTsKICAgICAgICBoZWlnaHQ6IDEwMC4wJTsKICAgICAgICBsZWZ0OiAwLjAlOwogICAgICAgIHRvcDogMC4wJTsKICAgICAgICB9CiAgICA8L3N0eWxlPgo8L2hlYWQ+Cjxib2R5PiAgICAKICAgIAogICAgPGRpdiBjbGFzcz0iZm9saXVtLW1hcCIgaWQ9Im1hcF8xYTgxM2M0OWMwZTU0ODQ3ODZiODg5OTFjNzVmMTMyMiIgPjwvZGl2Pgo8L2JvZHk+CjxzY3JpcHQ+ICAgIAogICAgCiAgICAKICAgICAgICB2YXIgYm91bmRzID0gbnVsbDsKICAgIAoKICAgIHZhciBtYXBfMWE4MTNjNDljMGU1NDg0Nzg2Yjg4OTkxYzc1ZjEzMjIgPSBMLm1hcCgKICAgICAgICAnbWFwXzFhODEzYzQ5YzBlNTQ4NDc4NmI4ODk5MWM3NWYxMzIyJywgewogICAgICAgIGNlbnRlcjogWzE5LjA3LCA3Mi44N10sCiAgICAgICAgem9vbTogMTAsCiAgICAgICAgbWF4Qm91bmRzOiBib3VuZHMsCiAgICAgICAgbGF5ZXJzOiBbXSwKICAgICAgICB3b3JsZENvcHlKdW1wOiBmYWxzZSwKICAgICAgICBjcnM6IEwuQ1JTLkVQU0czODU3LAogICAgICAgIHpvb21Db250cm9sOiB0cnVlLAogICAgICAgIH0pOwoKCiAgICAKICAgIHZhciB0aWxlX2xheWVyXzRiNjRlZTM5ZTZiNjQ1YzRiNWI5ZjBiNDg3MWFkNWU0ID0gTC50aWxlTGF5ZXIoCiAgICAgICAgJ2h0dHBzOi8ve3N9LnRpbGUub3BlbnN0cmVldG1hcC5vcmcve3p9L3t4fS97eX0ucG5nJywKICAgICAgICB7CiAgICAgICAgImF0dHJpYnV0aW9uIjogbnVsbCwKICAgICAgICAiZGV0ZWN0UmV0aW5hIjogZmFsc2UsCiAgICAgICAgIm1heE5hdGl2ZVpvb20iOiAxOCwKICAgICAgICAibWF4Wm9vbSI6IDE4LAogICAgICAgICJtaW5ab29tIjogMCwKICAgICAgICAibm9XcmFwIjogZmFsc2UsCiAgICAgICAgIm9wYWNpdHkiOiAxLAogICAgICAgICJzdWJkb21haW5zIjogImFiYyIsCiAgICAgICAgInRtcyI6IGZhbHNlCn0pLmFkZFRvKG1hcF8xYTgxM2M0OWMwZTU0ODQ3ODZiODg5OTFjNzVmMTMyMik7CiAgICAKICAgICAgICAgICAgdmFyIGNpcmNsZV9tYXJrZXJfYmY3ZTNkN2E0YjJiNDI4OGE2YmE5ZmQ0MGJkZDA1M2QgPSBMLmNpcmNsZU1hcmtlcigKICAgICAgICAgICAgICAgIFsxOS4wNzc5NjY4LCA3Mi44NjQ4NDg1XSwKICAgICAgICAgICAgICAgIHsKICAiYnViYmxpbmdNb3VzZUV2ZW50cyI6IHRydWUsCiAgImNvbG9yIjogImJsdWUiLAogICJkYXNoQXJyYXkiOiBudWxsLAogICJkYXNoT2Zmc2V0IjogbnVsbCwKICAiZmlsbCI6IHRydWUsCiAgImZpbGxDb2xvciI6IHRydWUsCiAgImZpbGxPcGFjaXR5IjogMC4yLAogICJmaWxsUnVsZSI6ICJldmVub2RkIiwKICAibGluZUNhcCI6ICJyb3VuZCIsCiAgImxpbmVKb2luIjogInJvdW5kIiwKICAib3BhY2l0eSI6IDEuMCwKICAicmFkaXVzIjogNSwKICAic3Ryb2tlIjogdHJ1ZSwKICAid2VpZ2h0IjogMwp9CiAgICAgICAgICAgICAgICApCiAgICAgICAgICAgICAgICAuYWRkVG8obWFwXzFhODEzYzQ5YzBlNTQ4NDc4NmI4ODk5MWM3NWYxMzIyKTsKICAgICAgICAgICAgCiAgICAKICAgICAgICAgICAgdmFyIHBvcHVwX2NjNDI3Y2I0M2VhODRkZjM5NTQ1ZjJhNDUwNmM2NTkwID0gTC5wb3B1cCh7bWF4V2lkdGg6ICcxMDAlJwogICAgICAgICAgICAKICAgICAgICAgICAgfSk7CgogICAgICAgICAgICAKICAgICAgICAgICAgICAgIHZhciBodG1sXzgxOTFiZTRkMDhjMTQ5MDM4OWNlOGRlZDIxY2UwMWViID0gJChgPGRpdiBpZD0iaHRtbF84MTkxYmU0ZDA4YzE0OTAzODljZThkZWQyMWNlMDFlYiIgc3R5bGU9IndpZHRoOiAxMDAuMCU7IGhlaWdodDogMTAwLjAlOyI+QSBJIHN0YWZmIGNvbG9ueSwgU2FudGFjcnV6IFAmdCBjb2xvbnk8L2Rpdj5gKVswXTsKICAgICAgICAgICAgICAgIHBvcHVwX2NjNDI3Y2I0M2VhODRkZjM5NTQ1ZjJhNDUwNmM2NTkwLnNldENvbnRlbnQoaHRtbF84MTkxYmU0ZDA4YzE0OTAzODljZThkZWQyMWNlMDFlYik7CiAgICAgICAgICAgIAoKICAgICAgICAgICAgY2lyY2xlX21hcmtlcl9iZjdlM2Q3YTRiMmI0Mjg4YTZiYTlmZDQwYmRkMDUzZC5iaW5kUG9wdXAocG9wdXBfY2M0MjdjYjQzZWE4NGRmMzk1NDVmMmE0NTA2YzY1OTApCiAgICAgICAgICAgIDsKCiAgICAgICAgICAgIAogICAgICAgIAogICAgCiAgICAgICAgICAgIHZhciBjaXJjbGVfbWFya2VyXzE1OGIxN2U3MDFjNjRjMWM5MDNmZWIyYTZmNmIwMjU1ID0gTC5jaXJjbGVNYXJrZXIoCiAgICAgICAgICAgICAgICBbMTkuMDM1ODc0MzY4NTI4OCwgNzIuODkxNTI1NDUzNTE4OF0sCiAgICAgICAgICAgICAgICB7CiAgImJ1YmJsaW5nTW91c2VFdmVudHMiOiB0cnVlLAogICJjb2xvciI6ICJncmVlbiIsCiAgImRhc2hBcnJheSI6IG51bGwsCiAgImRhc2hPZmZzZXQiOiBudWxsLAogICJmaWxsIjogdHJ1ZSwKICAiZmlsbENvbG9yIjogdHJ1ZSwKICAiZmlsbE9wYWNpdHkiOiAwLjIsCiAgImZpbGxSdWxlIjogImV2ZW5vZGQiLAogICJsaW5lQ2FwIjogInJvdW5kIiwKICAibGluZUpvaW4iOiAicm91bmQiLAogICJvcGFjaXR5IjogMS4wLAogICJyYWRpdXMiOiA1LAogICJzdHJva2UiOiB0cnVlLAogICJ3ZWlnaHQiOiAzCn0KICAgICAgICAgICAgICAgICkKICAgICAgICAgICAgICAgIC5hZGRUbyhtYXBfMWE4MTNjNDljMGU1NDg0Nzg2Yjg4OTkxYzc1ZjEzMjIpOwogICAgICAgICAgICAKICAgIAogICAgICAgICAgICB2YXIgcG9wdXBfZDkzNjU0ZmFmMTI1NDgyMDhmMTFkZjYxZWU1MTc2NmMgPSBMLnBvcHVwKHttYXhXaWR0aDogJzEwMCUnCiAgICAgICAgICAgIAogICAgICAgICAgICB9KTsKCiAgICAgICAgICAgIAogICAgICAgICAgICAgICAgdmFyIGh0bWxfMjI1YjYwOTU4NjI1NGRiZWFiNTMyYjU1MTU2YmQzNTIgPSAkKGA8ZGl2IGlkPSJodG1sXzIyNWI2MDk1ODYyNTRkYmVhYjUzMmI1NTE1NmJkMzUyIiBzdHlsZT0id2lkdGg6IDEwMC4wJTsgaGVpZ2h0OiAxMDAuMCU7Ij5BZ3JpcGFkYSwgQ2hpbmNocG9rbGksIEhhaW5lcyBSb2FkLCBKYWNvYiBDaXJjbGU8L2Rpdj5gKVswXTsKICAgICAgICAgICAgICAgIHBvcHVwX2Q5MzY1NGZhZjEyNTQ4MjA4ZjExZGY2MWVlNTE3NjZjLnNldENvbnRlbnQoaHRtbF8yMjViNjA5NTg2MjU0ZGJlYWI1MzJiNTUxNTZiZDM1Mik7CiAgICAgICAgICAgIAoKICAgICAgICAgICAgY2lyY2xlX21hcmtlcl8xNThiMTdlNzAxYzY0YzFjOTAzZmViMmE2ZjZiMDI1NS5iaW5kUG9wdXAocG9wdXBfZDkzNjU0ZmFmMTI1NDgyMDhmMTFkZjYxZWU1MTc2NmMpCiAgICAgICAgICAgIDsKCiAgICAgICAgICAgIAogICAgICAgIAogICAgCiAgICAgICAgICAgIHZhciBjaXJjbGVfbWFya2VyX2I5ZWI0YjUyMWJhMzRjNmQ5OTA1ZGNkMTNhYzY0OTM2ID0gTC5jaXJjbGVNYXJrZXIoCiAgICAgICAgICAgICAgICBbMTkuMTA3MDMzMjU0ODg4MywgNzIuODYyMjgzODc2OTM2XSwKICAgICAgICAgICAgICAgIHsKICAiYnViYmxpbmdNb3VzZUV2ZW50cyI6IHRydWUsCiAgImNvbG9yIjogImJsdWUiLAogICJkYXNoQXJyYXkiOiBudWxsLAogICJkYXNoT2Zmc2V0IjogbnVsbCwKICAiZmlsbCI6IHRydWUsCiAgImZpbGxDb2xvciI6IHRydWUsCiAgImZpbGxPcGFjaXR5IjogMC4yLAogICJmaWxsUnVsZSI6ICJldmVub2RkIiwKICAibGluZUNhcCI6ICJyb3VuZCIsCiAgImxpbmVKb2luIjogInJvdW5kIiwKICAib3BhY2l0eSI6IDEuMCwKICAicmFkaXVzIjogNSwKICAic3Ryb2tlIjogdHJ1ZSwKICAid2VpZ2h0IjogMwp9CiAgICAgICAgICAgICAgICApCiAgICAgICAgICAgICAgICAuYWRkVG8obWFwXzFhODEzYzQ5YzBlNTQ4NDc4NmI4ODk5MWM3NWYxMzIyKTsKICAgICAgICAgICAgCiAgICAKICAgICAgICAgICAgdmFyIHBvcHVwXzQ3YzMwZWI3ZTU1MTRhYTlhN2Q5MjQ2MzMzZTRhNWU0ID0gTC5wb3B1cCh7bWF4V2lkdGg6ICcxMDAlJwogICAgICAgICAgICAKICAgICAgICAgICAgfSk7CgogICAgICAgICAgICAKICAgICAgICAgICAgICAgIHZhciBodG1sXzFhMmFmNTMwMjM2ZTRjNGI5NDBjMTAyMzQ3NzdhYzUzID0gJChgPGRpdiBpZD0iaHRtbF8xYTJhZjUzMDIzNmU0YzRiOTQwYzEwMjM0Nzc3YWM1MyIgc3R5bGU9IndpZHRoOiAxMDAuMCU7IGhlaWdodDogMTAwLjAlOyI+QWlycG9ydCwgSW50ZXJuYXRpb25hbCBBaXJwb3J0LCBTYWhhciBQICYgdCBjb2xvbnksIFNhaGFyZ2FvbjwvZGl2PmApWzBdOwogICAgICAgICAgICAgICAgcG9wdXBfNDdjMzBlYjdlNTUxNGFhOWE3ZDkyNDYzMzNlNGE1ZTQuc2V0Q29udGVudChodG1sXzFhMmFmNTMwMjM2ZTRjNGI5NDBjMTAyMzQ3NzdhYzUzKTsKICAgICAgICAgICAgCgogICAgICAgICAgICBjaXJjbGVfbWFya2VyX2I5ZWI0YjUyMWJhMzRjNmQ5OTA1ZGNkMTNhYzY0OTM2LmJpbmRQb3B1cChwb3B1cF80N2MzMGViN2U1NTE0YWE5YTdkOTI0NjMzM2U0YTVlNCkKICAgICAgICAgICAgOwoKICAgICAgICAgICAgCiAgICAgICAgCiAgICAKICAgICAgICAgICAgdmFyIGNpcmNsZV9tYXJrZXJfZTAxNjk4NzNiYjhkNDY3ZDg0NzdhYTZhOTQxNDBkZjEgPSBMLmNpcmNsZU1hcmtlcigKICAgICAgICAgICAgICAgIFsxOS4xMzIwMDI0ODY2NTMsIDcyLjg1MzM2NjAxODk5OTZdLAogICAgICAgICAgICAgICAgewogICJidWJibGluZ01vdXNlRXZlbnRzIjogdHJ1ZSwKICAiY29sb3IiOiAiYmx1ZSIsCiAgImRhc2hBcnJheSI6IG51bGwsCiAgImRhc2hPZmZzZXQiOiBudWxsLAogICJmaWxsIjogdHJ1ZSwKICAiZmlsbENvbG9yIjogdHJ1ZSwKICAiZmlsbE9wYWNpdHkiOiAwLjIsCiAgImZpbGxSdWxlIjogImV2ZW5vZGQiLAogICJsaW5lQ2FwIjogInJvdW5kIiwKICAibGluZUpvaW4iOiAicm91bmQiLAogICJvcGFjaXR5IjogMS4wLAogICJyYWRpdXMiOiA1LAogICJzdHJva2UiOiB0cnVlLAogICJ3ZWlnaHQiOiAzCn0KICAgICAgICAgICAgICAgICkKICAgICAgICAgICAgICAgIC5hZGRUbyhtYXBfMWE4MTNjNDljMGU1NDg0Nzg2Yjg4OTkxYzc1ZjEzMjIpOwogICAgICAgICAgICAKICAgIAogICAgICAgICAgICB2YXIgcG9wdXBfMjk4MTE3NjVhYTQzNDMzZTlmNjlkMDk3OTc4NThkNGMgPSBMLnBvcHVwKHttYXhXaWR0aDogJzEwMCUnCiAgICAgICAgICAgIAogICAgICAgICAgICB9KTsKCiAgICAgICAgICAgIAogICAgICAgICAgICAgICAgdmFyIGh0bWxfNDg5ZDBmYjg2NmU5NDdlNjg2ZWVkY2I0NDg5YWQ5MWYgPSAkKGA8ZGl2IGlkPSJodG1sXzQ4OWQwZmI4NjZlOTQ3ZTY4NmVlZGNiNDQ4OWFkOTFmIiBzdHlsZT0id2lkdGg6IDEwMC4wJTsgaGVpZ2h0OiAxMDAuMCU7Ij5BbmRoZXJpIEVhc3QsIE5hZ2FyZGFzIFJvYWQ8L2Rpdj5gKVswXTsKICAgICAgICAgICAgICAgIHBvcHVwXzI5ODExNzY1YWE0MzQzM2U5ZjY5ZDA5Nzk3ODU4ZDRjLnNldENvbnRlbnQoaHRtbF80ODlkMGZiODY2ZTk0N2U2ODZlZWRjYjQ0ODlhZDkxZik7CiAgICAgICAgICAgIAoKICAgICAgICAgICAgY2lyY2xlX21hcmtlcl9lMDE2OTg3M2JiOGQ0NjdkODQ3N2FhNmE5NDE0MGRmMS5iaW5kUG9wdXAocG9wdXBfMjk4MTE3NjVhYTQzNDMzZTlmNjlkMDk3OTc4NThkNGMpCiAgICAgICAgICAgIDsKCiAgICAgICAgICAgIAogICAgICAgIAogICAgCiAgICAgICAgICAgIHZhciBjaXJjbGVfbWFya2VyXzIyMGRiYmEwZWJjMzQ1MjdhN2U3ZDk5ODhkMTQ4NzNiID0gTC5jaXJjbGVNYXJrZXIoCiAgICAgICAgICAgICAgICBbMTkuMTIzNDU0MzM2NzY5MSwgNzIuODM3NjAzNzEwMDgzNl0sCiAgICAgICAgICAgICAgICB7CiAgImJ1YmJsaW5nTW91c2VFdmVudHMiOiB0cnVlLAogICJjb2xvciI6ICJ5ZWxsb3ciLAogICJkYXNoQXJyYXkiOiBudWxsLAogICJkYXNoT2Zmc2V0IjogbnVsbCwKICAiZmlsbCI6IHRydWUsCiAgImZpbGxDb2xvciI6IHRydWUsCiAgImZpbGxPcGFjaXR5IjogMC4yLAogICJmaWxsUnVsZSI6ICJldmVub2RkIiwKICAibGluZUNhcCI6ICJyb3VuZCIsCiAgImxpbmVKb2luIjogInJvdW5kIiwKICAib3BhY2l0eSI6IDEuMCwKICAicmFkaXVzIjogNSwKICAic3Ryb2tlIjogdHJ1ZSwKICAid2VpZ2h0IjogMwp9CiAgICAgICAgICAgICAgICApCiAgICAgICAgICAgICAgICAuYWRkVG8obWFwXzFhODEzYzQ5YzBlNTQ4NDc4NmI4ODk5MWM3NWYxMzIyKTsKICAgICAgICAgICAgCiAgICAKICAgICAgICAgICAgdmFyIHBvcHVwXzA4ZDA3MzgxOTA2MDQzZGQ5MTQxYTk2ZjcwMzYxMmI0ID0gTC5wb3B1cCh7bWF4V2lkdGg6ICcxMDAlJwogICAgICAgICAgICAKICAgICAgICAgICAgfSk7CgogICAgICAgICAgICAKICAgICAgICAgICAgICAgIHZhciBodG1sXzU2YmFmNTIwYzExYjQzNzRhNWUwODlhMDFlZDI0YmE4ID0gJChgPGRpdiBpZD0iaHRtbF81NmJhZjUyMGMxMWI0Mzc0YTVlMDg5YTAxZWQyNGJhOCIgc3R5bGU9IndpZHRoOiAxMDAuMCU7IGhlaWdodDogMTAwLjAlOyI+QW5kaGVyaSBSYWlsd2F5IHN0YXRpb24sIEguTS5wLiBzY2hvb2w8L2Rpdj5gKVswXTsKICAgICAgICAgICAgICAgIHBvcHVwXzA4ZDA3MzgxOTA2MDQzZGQ5MTQxYTk2ZjcwMzYxMmI0LnNldENvbnRlbnQoaHRtbF81NmJhZjUyMGMxMWI0Mzc0YTVlMDg5YTAxZWQyNGJhOCk7CiAgICAgICAgICAgIAoKICAgICAgICAgICAgY2lyY2xlX21hcmtlcl8yMjBkYmJhMGViYzM0NTI3YTdlN2Q5OTg4ZDE0ODczYi5iaW5kUG9wdXAocG9wdXBfMDhkMDczODE5MDYwNDNkZDkxNDFhOTZmNzAzNjEyYjQpCiAgICAgICAgICAgIDsKCiAgICAgICAgICAgIAogICAgICAgIAogICAgCiAgICAgICAgICAgIHZhciBjaXJjbGVfbWFya2VyXzdjMGIyOThmZGRhOTQ1ZjFiZjA4MTdiNTE2MjRjMTE2ID0gTC5jaXJjbGVNYXJrZXIoCiAgICAgICAgICAgICAgICBbMTkuMTM2NjIzNjczMTU0MiwgNzIuODMxMTA1NDAwMDU0N10sCiAgICAgICAgICAgICAgICB7CiAgImJ1YmJsaW5nTW91c2VFdmVudHMiOiB0cnVlLAogICJjb2xvciI6ICJ5ZWxsb3ciLAogICJkYXNoQXJyYXkiOiBudWxsLAogICJkYXNoT2Zmc2V0IjogbnVsbCwKICAiZmlsbCI6IHRydWUsCiAgImZpbGxDb2xvciI6IHRydWUsCiAgImZpbGxPcGFjaXR5IjogMC4yLAogICJmaWxsUnVsZSI6ICJldmVub2RkIiwKICAibGluZUNhcCI6ICJyb3VuZCIsCiAgImxpbmVKb2luIjogInJvdW5kIiwKICAib3BhY2l0eSI6IDEuMCwKICAicmFkaXVzIjogNSwKICAic3Ryb2tlIjogdHJ1ZSwKICAid2VpZ2h0IjogMwp9CiAgICAgICAgICAgICAgICApCiAgICAgICAgICAgICAgICAuYWRkVG8obWFwXzFhODEzYzQ5YzBlNTQ4NDc4NmI4ODk5MWM3NWYxMzIyKTsKICAgICAgICAgICAgCiAgICAKICAgICAgICAgICAgdmFyIHBvcHVwXzgzYWYzYTgwMWJkMjRlMmFiNDA0ZmVlYWE1YjUzNmIyID0gTC5wb3B1cCh7bWF4V2lkdGg6ICcxMDAlJwogICAgICAgICAgICAKICAgICAgICAgICAgfSk7CgogICAgICAgICAgICAKICAgICAgICAgICAgICAgIHZhciBodG1sX2YwZjQ0NGUyN2ZmODQzNGVhNTc5OTc2OGJiOWVmNTNlID0gJChgPGRpdiBpZD0iaHRtbF9mMGY0NDRlMjdmZjg0MzRlYTU3OTk3NjhiYjllZjUzZSIgc3R5bGU9IndpZHRoOiAxMDAuMCU7IGhlaWdodDogMTAwLjAlOyI+QW5kaGVyaSwgQXphZCBOYWdhcjwvZGl2PmApWzBdOwogICAgICAgICAgICAgICAgcG9wdXBfODNhZjNhODAxYmQyNGUyYWI0MDRmZWVhYTViNTM2YjIuc2V0Q29udGVudChodG1sX2YwZjQ0NGUyN2ZmODQzNGVhNTc5OTc2OGJiOWVmNTNlKTsKICAgICAgICAgICAgCgogICAgICAgICAgICBjaXJjbGVfbWFya2VyXzdjMGIyOThmZGRhOTQ1ZjFiZjA4MTdiNTE2MjRjMTE2LmJpbmRQb3B1cChwb3B1cF84M2FmM2E4MDFiZDI0ZTJhYjQwNGZlZWFhNWI1MzZiMikKICAgICAgICAgICAgOwoKICAgICAgICAgICAgCiAgICAgICAgCiAgICAKICAgICAgICAgICAgdmFyIGNpcmNsZV9tYXJrZXJfNGY5MmZhMzMzNzljNDM4MmE0NzhlOGMwN2ExYTQzMTEgPSBMLmNpcmNsZU1hcmtlcigKICAgICAgICAgICAgICAgIFsxOS4wMjc5MzM2ODI2OTE5LCA3Mi44OTEzMDExMDQzMjk0XSwKICAgICAgICAgICAgICAgIHsKICAiYnViYmxpbmdNb3VzZUV2ZW50cyI6IHRydWUsCiAgImNvbG9yIjogImdyZWVuIiwKICAiZGFzaEFycmF5IjogbnVsbCwKICAiZGFzaE9mZnNldCI6IG51bGwsCiAgImZpbGwiOiB0cnVlLAogICJmaWxsQ29sb3IiOiB0cnVlLAogICJmaWxsT3BhY2l0eSI6IDAuMiwKICAiZmlsbFJ1bGUiOiAiZXZlbm9kZCIsCiAgImxpbmVDYXAiOiAicm91bmQiLAogICJsaW5lSm9pbiI6ICJyb3VuZCIsCiAgIm9wYWNpdHkiOiAxLjAsCiAgInJhZGl1cyI6IDUsCiAgInN0cm9rZSI6IHRydWUsCiAgIndlaWdodCI6IDMKfQogICAgICAgICAgICAgICAgKQogICAgICAgICAgICAgICAgLmFkZFRvKG1hcF8xYTgxM2M0OWMwZTU0ODQ3ODZiODg5OTFjNzVmMTMyMik7CiAgICAgICAgICAgIAogICAgCiAgICAgICAgICAgIHZhciBwb3B1cF9iMzY5OWRjMjc4ZDA0MmQ0OTcxMGFhZjNlMmU4NTk0NCA9IEwucG9wdXAoe21heFdpZHRoOiAnMTAwJScKICAgICAgICAgICAgCiAgICAgICAgICAgIH0pOwoKICAgICAgICAgICAgCiAgICAgICAgICAgICAgICB2YXIgaHRtbF9jY2JhODkwMjFhODg0ZjRmODY1ZDk3NmMwMjM0OTUxZSA9ICQoYDxkaXYgaWQ9Imh0bWxfY2NiYTg5MDIxYTg4NGY0Zjg2NWQ5NzZjMDIzNDk1MWUiIHN0eWxlPSJ3aWR0aDogMTAwLjAlOyBoZWlnaHQ6IDEwMC4wJTsiPkIuTi4gYmhhdmFuLCBCYW5kcmEoZWFzdCksIEdvdmVybm1lbnQgQ29sb255LCBLaGVyd2FkaTwvZGl2PmApWzBdOwogICAgICAgICAgICAgICAgcG9wdXBfYjM2OTlkYzI3OGQwNDJkNDk3MTBhYWYzZTJlODU5NDQuc2V0Q29udGVudChodG1sX2NjYmE4OTAyMWE4ODRmNGY4NjVkOTc2YzAyMzQ5NTFlKTsKICAgICAgICAgICAgCgogICAgICAgICAgICBjaXJjbGVfbWFya2VyXzRmOTJmYTMzMzc5YzQzODJhNDc4ZThjMDdhMWE0MzExLmJpbmRQb3B1cChwb3B1cF9iMzY5OWRjMjc4ZDA0MmQ0OTcxMGFhZjNlMmU4NTk0NCkKICAgICAgICAgICAgOwoKICAgICAgICAgICAgCiAgICAgICAgCiAgICAKICAgICAgICAgICAgdmFyIGNpcmNsZV9tYXJrZXJfZTI0ZTRjOWFkMGJmNGNjODlhOTRkYWY4NzUxNTEzODUgPSBMLmNpcmNsZU1hcmtlcigKICAgICAgICAgICAgICAgIFsxOS4wNTczNzgwNjg5ODIxLCA3Mi44Mjk2ODc3ODA2NzkxXSwKICAgICAgICAgICAgICAgIHsKICAiYnViYmxpbmdNb3VzZUV2ZW50cyI6IHRydWUsCiAgImNvbG9yIjogInllbGxvdyIsCiAgImRhc2hBcnJheSI6IG51bGwsCiAgImRhc2hPZmZzZXQiOiBudWxsLAogICJmaWxsIjogdHJ1ZSwKICAiZmlsbENvbG9yIjogdHJ1ZSwKICAiZmlsbE9wYWNpdHkiOiAwLjIsCiAgImZpbGxSdWxlIjogImV2ZW5vZGQiLAogICJsaW5lQ2FwIjogInJvdW5kIiwKICAibGluZUpvaW4iOiAicm91bmQiLAogICJvcGFjaXR5IjogMS4wLAogICJyYWRpdXMiOiA1LAogICJzdHJva2UiOiB0cnVlLAogICJ3ZWlnaHQiOiAzCn0KICAgICAgICAgICAgICAgICkKICAgICAgICAgICAgICAgIC5hZGRUbyhtYXBfMWE4MTNjNDljMGU1NDg0Nzg2Yjg4OTkxYzc1ZjEzMjIpOwogICAgICAgICAgICAKICAgIAogICAgICAgICAgICB2YXIgcG9wdXBfZDExNjZiNmYwN2EyNDBkZDk0MzE1NzZhYjBhZjA0Y2QgPSBMLnBvcHVwKHttYXhXaWR0aDogJzEwMCUnCiAgICAgICAgICAgIAogICAgICAgICAgICB9KTsKCiAgICAgICAgICAgIAogICAgICAgICAgICAgICAgdmFyIGh0bWxfOWJkNGIwZGZlNjViNDUxYTgwZTg5YjM0YTcxMDkwMGYgPSAkKGA8ZGl2IGlkPSJodG1sXzliZDRiMGRmZTY1YjQ1MWE4MGU4OWIzNGE3MTA5MDBmIiBzdHlsZT0id2lkdGg6IDEwMC4wJTsgaGVpZ2h0OiAxMDAuMCU7Ij5CYW5kcmEgV2VzdDwvZGl2PmApWzBdOwogICAgICAgICAgICAgICAgcG9wdXBfZDExNjZiNmYwN2EyNDBkZDk0MzE1NzZhYjBhZjA0Y2Quc2V0Q29udGVudChodG1sXzliZDRiMGRmZTY1YjQ1MWE4MGU4OWIzNGE3MTA5MDBmKTsKICAgICAgICAgICAgCgogICAgICAgICAgICBjaXJjbGVfbWFya2VyX2UyNGU0YzlhZDBiZjRjYzg5YTk0ZGFmODc1MTUxMzg1LmJpbmRQb3B1cChwb3B1cF9kMTE2NmI2ZjA3YTI0MGRkOTQzMTU3NmFiMGFmMDRjZCkKICAgICAgICAgICAgOwoKICAgICAgICAgICAgCiAgICAgICAgCiAgICAKICAgICAgICAgICAgdmFyIGNpcmNsZV9tYXJrZXJfMDZmNzlkMGIwM2RjNDY1OTlkOTRhNDZkYjc2ZDUwZjAgPSBMLmNpcmNsZU1hcmtlcigKICAgICAgICAgICAgICAgIFsxOC45Mzg3NzExLCA3Mi44MzUzMzU1XSwKICAgICAgICAgICAgICAgIHsKICAiYnViYmxpbmdNb3VzZUV2ZW50cyI6IHRydWUsCiAgImNvbG9yIjogImJsdWUiLAogICJkYXNoQXJyYXkiOiBudWxsLAogICJkYXNoT2Zmc2V0IjogbnVsbCwKICAiZmlsbCI6IHRydWUsCiAgImZpbGxDb2xvciI6IHRydWUsCiAgImZpbGxPcGFjaXR5IjogMC4yLAogICJmaWxsUnVsZSI6ICJldmVub2RkIiwKICAibGluZUNhcCI6ICJyb3VuZCIsCiAgImxpbmVKb2luIjogInJvdW5kIiwKICAib3BhY2l0eSI6IDEuMCwKICAicmFkaXVzIjogNSwKICAic3Ryb2tlIjogdHJ1ZSwKICAid2VpZ2h0IjogMwp9CiAgICAgICAgICAgICAgICApCiAgICAgICAgICAgICAgICAuYWRkVG8obWFwXzFhODEzYzQ5YzBlNTQ4NDc4NmI4ODk5MWM3NWYxMzIyKTsKICAgICAgICAgICAgCiAgICAKICAgICAgICAgICAgdmFyIHBvcHVwXzA2NDViMDczYjNkNjRhYTU4YTQ5YWUyNTg0NzllMTg4ID0gTC5wb3B1cCh7bWF4V2lkdGg6ICcxMDAlJwogICAgICAgICAgICAKICAgICAgICAgICAgfSk7CgogICAgICAgICAgICAKICAgICAgICAgICAgICAgIHZhciBodG1sXzY1MWIyZTBkMzc4ZDRjZTI5MmIxMmUyZWEzN2FhMGM0ID0gJChgPGRpdiBpZD0iaHRtbF82NTFiMmUwZDM3OGQ0Y2UyOTJiMTJlMmVhMzdhYTBjNCIgc3R5bGU9IndpZHRoOiAxMDAuMCU7IGhlaWdodDogMTAwLjAlOyI+QmF6YXJnYXRlLCBNLlAudC4sIE11bWJhaS4sIFN0b2NrIEV4Y2hhbmdlLCBUYWptYWhhbCwgVG93biBIYWxsPC9kaXY+YClbMF07CiAgICAgICAgICAgICAgICBwb3B1cF8wNjQ1YjA3M2IzZDY0YWE1OGE0OWFlMjU4NDc5ZTE4OC5zZXRDb250ZW50KGh0bWxfNjUxYjJlMGQzNzhkNGNlMjkyYjEyZTJlYTM3YWEwYzQpOwogICAgICAgICAgICAKCiAgICAgICAgICAgIGNpcmNsZV9tYXJrZXJfMDZmNzlkMGIwM2RjNDY1OTlkOTRhNDZkYjc2ZDUwZjAuYmluZFBvcHVwKHBvcHVwXzA2NDViMDczYjNkNjRhYTU4YTQ5YWUyNTg0NzllMTg4KQogICAgICAgICAgICA7CgogICAgICAgICAgICAKICAgICAgICAKICAgIAogICAgICAgICAgICB2YXIgY2lyY2xlX21hcmtlcl9jNTQ5NWM3YWU1ZGU0ZmU1YjNjMjI2NWE3NWYyYmIxNCA9IEwuY2lyY2xlTWFya2VyKAogICAgICAgICAgICAgICAgWzE5LjIyODU0Njk4Njc1NTEsIDcyLjg2MTk0NjU3MjkwNTVdLAogICAgICAgICAgICAgICAgewogICJidWJibGluZ01vdXNlRXZlbnRzIjogdHJ1ZSwKICAiY29sb3IiOiAieWVsbG93IiwKICAiZGFzaEFycmF5IjogbnVsbCwKICAiZGFzaE9mZnNldCI6IG51bGwsCiAgImZpbGwiOiB0cnVlLAogICJmaWxsQ29sb3IiOiB0cnVlLAogICJmaWxsT3BhY2l0eSI6IDAuMiwKICAiZmlsbFJ1bGUiOiAiZXZlbm9kZCIsCiAgImxpbmVDYXAiOiAicm91bmQiLAogICJsaW5lSm9pbiI6ICJyb3VuZCIsCiAgIm9wYWNpdHkiOiAxLjAsCiAgInJhZGl1cyI6IDUsCiAgInN0cm9rZSI6IHRydWUsCiAgIndlaWdodCI6IDMKfQogICAgICAgICAgICAgICAgKQogICAgICAgICAgICAgICAgLmFkZFRvKG1hcF8xYTgxM2M0OWMwZTU0ODQ3ODZiODg5OTFjNzVmMTMyMik7CiAgICAgICAgICAgIAogICAgCiAgICAgICAgICAgIHZhciBwb3B1cF80OWE2ODYwNjA3MDQ0ZWExYmNiMWMxNzk2OTUyMjFmZCA9IEwucG9wdXAoe21heFdpZHRoOiAnMTAwJScKICAgICAgICAgICAgCiAgICAgICAgICAgIH0pOwoKICAgICAgICAgICAgCiAgICAgICAgICAgICAgICB2YXIgaHRtbF9mM2QzZTA4MjJjNTU0ZDU3ODY1YmM5NWMwYjllNGVjZSA9ICQoYDxkaXYgaWQ9Imh0bWxfZjNkM2UwODIyYzU1NGQ1Nzg2NWJjOTVjMGI5ZTRlY2UiIHN0eWxlPSJ3aWR0aDogMTAwLjAlOyBoZWlnaHQ6IDEwMC4wJTsiPkJvcml2YWxpIEVhc3QsIERhdWxhdCBOYWdhciwgTWFndGhhbmUsIFJhamVuZHJhIE5hZ2FyLCBTLiBrLm5hZ2FyPC9kaXY+YClbMF07CiAgICAgICAgICAgICAgICBwb3B1cF80OWE2ODYwNjA3MDQ0ZWExYmNiMWMxNzk2OTUyMjFmZC5zZXRDb250ZW50KGh0bWxfZjNkM2UwODIyYzU1NGQ1Nzg2NWJjOTVjMGI5ZTRlY2UpOwogICAgICAgICAgICAKCiAgICAgICAgICAgIGNpcmNsZV9tYXJrZXJfYzU0OTVjN2FlNWRlNGZlNWIzYzIyNjVhNzVmMmJiMTQuYmluZFBvcHVwKHBvcHVwXzQ5YTY4NjA2MDcwNDRlYTFiY2IxYzE3OTY5NTIyMWZkKQogICAgICAgICAgICA7CgogICAgICAgICAgICAKICAgICAgICAKICAgIAogICAgICAgICAgICB2YXIgY2lyY2xlX21hcmtlcl80NTgxNTA5MDRiZDQ0NDU4ODY4ZjI5YTZkMGQyMjQ3OSA9IEwuY2lyY2xlTWFya2VyKAogICAgICAgICAgICAgICAgWzE5LjIyNDE1MTc3MTIzMTYsIDcyLjg0Nzk3MTI0MzAzMl0sCiAgICAgICAgICAgICAgICB7CiAgImJ1YmJsaW5nTW91c2VFdmVudHMiOiB0cnVlLAogICJjb2xvciI6ICJ5ZWxsb3ciLAogICJkYXNoQXJyYXkiOiBudWxsLAogICJkYXNoT2Zmc2V0IjogbnVsbCwKICAiZmlsbCI6IHRydWUsCiAgImZpbGxDb2xvciI6IHRydWUsCiAgImZpbGxPcGFjaXR5IjogMC4yLAogICJmaWxsUnVsZSI6ICJldmVub2RkIiwKICAibGluZUNhcCI6ICJyb3VuZCIsCiAgImxpbmVKb2luIjogInJvdW5kIiwKICAib3BhY2l0eSI6IDEuMCwKICAicmFkaXVzIjogNSwKICAic3Ryb2tlIjogdHJ1ZSwKICAid2VpZ2h0IjogMwp9CiAgICAgICAgICAgICAgICApCiAgICAgICAgICAgICAgICAuYWRkVG8obWFwXzFhODEzYzQ5YzBlNTQ4NDc4NmI4ODk5MWM3NWYxMzIyKTsKICAgICAgICAgICAgCiAgICAKICAgICAgICAgICAgdmFyIHBvcHVwXzYzMzg1MzY0NGYyNjQ3NzU5ZWRhODljMzA3ZjYxYzRmID0gTC5wb3B1cCh7bWF4V2lkdGg6ICcxMDAlJwogICAgICAgICAgICAKICAgICAgICAgICAgfSk7CgogICAgICAgICAgICAKICAgICAgICAgICAgICAgIHZhciBodG1sX2I3OTY1ODdjNWU3ZjQyY2I5ZGI4NDczNGJiYzllMjgxID0gJChgPGRpdiBpZD0iaHRtbF9iNzk2NTg3YzVlN2Y0MmNiOWRiODQ3MzRiYmM5ZTI4MSIgc3R5bGU9IndpZHRoOiAxMDAuMCU7IGhlaWdodDogMTAwLjAlOyI+Qm9ydmFsaSBXZXN0PC9kaXY+YClbMF07CiAgICAgICAgICAgICAgICBwb3B1cF82MzM4NTM2NDRmMjY0Nzc1OWVkYTg5YzMwN2Y2MWM0Zi5zZXRDb250ZW50KGh0bWxfYjc5NjU4N2M1ZTdmNDJjYjlkYjg0NzM0YmJjOWUyODEpOwogICAgICAgICAgICAKCiAgICAgICAgICAgIGNpcmNsZV9tYXJrZXJfNDU4MTUwOTA0YmQ0NDQ1ODg2OGYyOWE2ZDBkMjI0NzkuYmluZFBvcHVwKHBvcHVwXzYzMzg1MzY0NGYyNjQ3NzU5ZWRhODljMzA3ZjYxYzRmKQogICAgICAgICAgICA7CgogICAgICAgICAgICAKICAgICAgICAKICAgIAogICAgICAgICAgICB2YXIgY2lyY2xlX21hcmtlcl82NTVlOGRkNTM1ZTc0MzFiOTE3ZDc5ODRjZmNjMTg1ZSA9IEwuY2lyY2xlTWFya2VyKAogICAgICAgICAgICAgICAgWzE5LjEyNTYwNDI2NDY0OTYsIDcyLjg2NDM5MzEzNTUzNTNdLAogICAgICAgICAgICAgICAgewogICJidWJibGluZ01vdXNlRXZlbnRzIjogdHJ1ZSwKICAiY29sb3IiOiAieWVsbG93IiwKICAiZGFzaEFycmF5IjogbnVsbCwKICAiZGFzaE9mZnNldCI6IG51bGwsCiAgImZpbGwiOiB0cnVlLAogICJmaWxsQ29sb3IiOiB0cnVlLAogICJmaWxsT3BhY2l0eSI6IDAuMiwKICAiZmlsbFJ1bGUiOiAiZXZlbm9kZCIsCiAgImxpbmVDYXAiOiAicm91bmQiLAogICJsaW5lSm9pbiI6ICJyb3VuZCIsCiAgIm9wYWNpdHkiOiAxLjAsCiAgInJhZGl1cyI6IDUsCiAgInN0cm9rZSI6IHRydWUsCiAgIndlaWdodCI6IDMKfQogICAgICAgICAgICAgICAgKQogICAgICAgICAgICAgICAgLmFkZFRvKG1hcF8xYTgxM2M0OWMwZTU0ODQ3ODZiODg5OTFjNzVmMTMyMik7CiAgICAgICAgICAgIAogICAgCiAgICAgICAgICAgIHZhciBwb3B1cF81YjYxYzc5MDU5N2E0ZTU4OTM2MDA0NTEwZGM4NzIwNyA9IEwucG9wdXAoe21heFdpZHRoOiAnMTAwJScKICAgICAgICAgICAgCiAgICAgICAgICAgIH0pOwoKICAgICAgICAgICAgCiAgICAgICAgICAgICAgICB2YXIgaHRtbF8xNTgxOWE5ZjgyMTk0NzExYjYyYjBlZTc3N2M2ZDcyYiA9ICQoYDxkaXYgaWQ9Imh0bWxfMTU4MTlhOWY4MjE5NDcxMWI2MmIwZWU3NzdjNmQ3MmIiIHN0eWxlPSJ3aWR0aDogMTAwLjAlOyBoZWlnaHQ6IDEwMC4wJTsiPkNoYWthbGEgTWlkYzwvZGl2PmApWzBdOwogICAgICAgICAgICAgICAgcG9wdXBfNWI2MWM3OTA1OTdhNGU1ODkzNjAwNDUxMGRjODcyMDcuc2V0Q29udGVudChodG1sXzE1ODE5YTlmODIxOTQ3MTFiNjJiMGVlNzc3YzZkNzJiKTsKICAgICAgICAgICAgCgogICAgICAgICAgICBjaXJjbGVfbWFya2VyXzY1NWU4ZGQ1MzVlNzQzMWI5MTdkNzk4NGNmY2MxODVlLmJpbmRQb3B1cChwb3B1cF81YjYxYzc5MDU5N2E0ZTU4OTM2MDA0NTEwZGM4NzIwNykKICAgICAgICAgICAgOwoKICAgICAgICAgICAgCiAgICAgICAgCiAgICAKICAgICAgICAgICAgdmFyIGNpcmNsZV9tYXJrZXJfODIxMWNhMjI2N2YzNDJlMDhiM2RiODc5MTEwMGIzMDYgPSBMLmNpcmNsZU1hcmtlcigKICAgICAgICAgICAgICAgIFsxOS4yMDYxOTQ3Nzg2ODE0LCA3Mi44Mzg0MzkwOTc0Mjk3XSwKICAgICAgICAgICAgICAgIHsKICAiYnViYmxpbmdNb3VzZUV2ZW50cyI6IHRydWUsCiAgImNvbG9yIjogInllbGxvdyIsCiAgImRhc2hBcnJheSI6IG51bGwsCiAgImRhc2hPZmZzZXQiOiBudWxsLAogICJmaWxsIjogdHJ1ZSwKICAiZmlsbENvbG9yIjogdHJ1ZSwKICAiZmlsbE9wYWNpdHkiOiAwLjIsCiAgImZpbGxSdWxlIjogImV2ZW5vZGQiLAogICJsaW5lQ2FwIjogInJvdW5kIiwKICAibGluZUpvaW4iOiAicm91bmQiLAogICJvcGFjaXR5IjogMS4wLAogICJyYWRpdXMiOiA1LAogICJzdHJva2UiOiB0cnVlLAogICJ3ZWlnaHQiOiAzCn0KICAgICAgICAgICAgICAgICkKICAgICAgICAgICAgICAgIC5hZGRUbyhtYXBfMWE4MTNjNDljMGU1NDg0Nzg2Yjg4OTkxYzc1ZjEzMjIpOwogICAgICAgICAgICAKICAgIAogICAgICAgICAgICB2YXIgcG9wdXBfMDI2ZDk4MzZjODAwNDg4Yzk3OGViNGZmMjkyMDNhNWUgPSBMLnBvcHVwKHttYXhXaWR0aDogJzEwMCUnCiAgICAgICAgICAgIAogICAgICAgICAgICB9KTsKCiAgICAgICAgICAgIAogICAgICAgICAgICAgICAgdmFyIGh0bWxfNGM5M2FmOWIzMTg1NDYxOThiOWNlYWM1YTcyYzdjNGQgPSAkKGA8ZGl2IGlkPSJodG1sXzRjOTNhZjliMzE4NTQ2MTk4YjljZWFjNWE3MmM3YzRkIiBzdHlsZT0id2lkdGg6IDEwMC4wJTsgaGVpZ2h0OiAxMDAuMCU7Ij5DaGFya29wLCBLYW5kaXZhbGkgV2VzdDwvZGl2PmApWzBdOwogICAgICAgICAgICAgICAgcG9wdXBfMDI2ZDk4MzZjODAwNDg4Yzk3OGViNGZmMjkyMDNhNWUuc2V0Q29udGVudChodG1sXzRjOTNhZjliMzE4NTQ2MTk4YjljZWFjNWE3MmM3YzRkKTsKICAgICAgICAgICAgCgogICAgICAgICAgICBjaXJjbGVfbWFya2VyXzgyMTFjYTIyNjdmMzQyZTA4YjNkYjg3OTExMDBiMzA2LmJpbmRQb3B1cChwb3B1cF8wMjZkOTgzNmM4MDA0ODhjOTc4ZWI0ZmYyOTIwM2E1ZSkKICAgICAgICAgICAgOwoKICAgICAgICAgICAgCiAgICAgICAgCiAgICAKICAgICAgICAgICAgdmFyIGNpcmNsZV9tYXJrZXJfNzU0ZTRlZTM5NjQ2NGVlMjlmZjY1MjU5YzVhZTM0NzcgPSBMLmNpcmNsZU1hcmtlcigKICAgICAgICAgICAgICAgIFsxOS4yNDcyNzA4MDcyNDY5LCA3Mi44NTc2NzQwMjY2NTAzXSwKICAgICAgICAgICAgICAgIHsKICAiYnViYmxpbmdNb3VzZUV2ZW50cyI6IHRydWUsCiAgImNvbG9yIjogInllbGxvdyIsCiAgImRhc2hBcnJheSI6IG51bGwsCiAgImRhc2hPZmZzZXQiOiBudWxsLAogICJmaWxsIjogdHJ1ZSwKICAiZmlsbENvbG9yIjogdHJ1ZSwKICAiZmlsbE9wYWNpdHkiOiAwLjIsCiAgImZpbGxSdWxlIjogImV2ZW5vZGQiLAogICJsaW5lQ2FwIjogInJvdW5kIiwKICAibGluZUpvaW4iOiAicm91bmQiLAogICJvcGFjaXR5IjogMS4wLAogICJyYWRpdXMiOiA1LAogICJzdHJva2UiOiB0cnVlLAogICJ3ZWlnaHQiOiAzCn0KICAgICAgICAgICAgICAgICkKICAgICAgICAgICAgICAgIC5hZGRUbyhtYXBfMWE4MTNjNDljMGU1NDg0Nzg2Yjg4OTkxYzc1ZjEzMjIpOwogICAgICAgICAgICAKICAgIAogICAgICAgICAgICB2YXIgcG9wdXBfZDJhNmNhM2M3YjgzNGVlNmE3ZGUwNjljMGYzMjM3MzAgPSBMLnBvcHVwKHttYXhXaWR0aDogJzEwMCUnCiAgICAgICAgICAgIAogICAgICAgICAgICB9KTsKCiAgICAgICAgICAgIAogICAgICAgICAgICAgICAgdmFyIGh0bWxfYTdiZjU0NWViM2Q1NDc4N2EwMTgzNzkzNmQxODZmY2UgPSAkKGA8ZGl2IGlkPSJodG1sX2E3YmY1NDVlYjNkNTQ3ODdhMDE4Mzc5MzZkMTg2ZmNlIiBzdHlsZT0id2lkdGg6IDEwMC4wJTsgaGVpZ2h0OiAxMDAuMCU7Ij5EYWhpc2FyLCBEYWhpc2FyIFJzLCBLZXRraXBhZGE8L2Rpdj5gKVswXTsKICAgICAgICAgICAgICAgIHBvcHVwX2QyYTZjYTNjN2I4MzRlZTZhN2RlMDY5YzBmMzIzNzMwLnNldENvbnRlbnQoaHRtbF9hN2JmNTQ1ZWIzZDU0Nzg3YTAxODM3OTM2ZDE4NmZjZSk7CiAgICAgICAgICAgIAoKICAgICAgICAgICAgY2lyY2xlX21hcmtlcl83NTRlNGVlMzk2NDY0ZWUyOWZmNjUyNTljNWFlMzQ3Ny5iaW5kUG9wdXAocG9wdXBfZDJhNmNhM2M3YjgzNGVlNmE3ZGUwNjljMGYzMjM3MzApCiAgICAgICAgICAgIDsKCiAgICAgICAgICAgIAogICAgICAgIAogICAgCiAgICAgICAgICAgIHZhciBjaXJjbGVfbWFya2VyXzA2MWJmMjExZGI0YjQ1MjA5OGZiOWI2MTM2ZDU1MTU5ID0gTC5jaXJjbGVNYXJrZXIoCiAgICAgICAgICAgICAgICBbMTkuMDcyNDMzMDQyNzI5NywgNzIuODMyNzM0Njc3MTc5N10sCiAgICAgICAgICAgICAgICB7CiAgImJ1YmJsaW5nTW91c2VFdmVudHMiOiB0cnVlLAogICJjb2xvciI6ICJ5ZWxsb3ciLAogICJkYXNoQXJyYXkiOiBudWxsLAogICJkYXNoT2Zmc2V0IjogbnVsbCwKICAiZmlsbCI6IHRydWUsCiAgImZpbGxDb2xvciI6IHRydWUsCiAgImZpbGxPcGFjaXR5IjogMC4yLAogICJmaWxsUnVsZSI6ICJldmVub2RkIiwKICAibGluZUNhcCI6ICJyb3VuZCIsCiAgImxpbmVKb2luIjogInJvdW5kIiwKICAib3BhY2l0eSI6IDEuMCwKICAicmFkaXVzIjogNSwKICAic3Ryb2tlIjogdHJ1ZSwKICAid2VpZ2h0IjogMwp9CiAgICAgICAgICAgICAgICApCiAgICAgICAgICAgICAgICAuYWRkVG8obWFwXzFhODEzYzQ5YzBlNTQ4NDc4NmI4ODk5MWM3NWYxMzIyKTsKICAgICAgICAgICAgCiAgICAKICAgICAgICAgICAgdmFyIHBvcHVwXzY2ZmY1NjA0YzUyYTRjNzg4YWYzNjhlMTRiYTAxNGUxID0gTC5wb3B1cCh7bWF4V2lkdGg6ICcxMDAlJwogICAgICAgICAgICAKICAgICAgICAgICAgfSk7CgogICAgICAgICAgICAKICAgICAgICAgICAgICAgIHZhciBodG1sXzUxODBhOGFmZDc0ZTRjZmM4YzY1ZjU2YTQ1NzlkODdjID0gJChgPGRpdiBpZD0iaHRtbF81MTgwYThhZmQ3NGU0Y2ZjOGM2NWY1NmE0NTc5ZDg3YyIgc3R5bGU9IndpZHRoOiAxMDAuMCU7IGhlaWdodDogMTAwLjAlOyI+RGFuZGEsIEtoYXIgQ29sb255LCBLaGFyIERlbGl2ZXJ5LCBWLlAuIHJvYWQ8L2Rpdj5gKVswXTsKICAgICAgICAgICAgICAgIHBvcHVwXzY2ZmY1NjA0YzUyYTRjNzg4YWYzNjhlMTRiYTAxNGUxLnNldENvbnRlbnQoaHRtbF81MTgwYThhZmQ3NGU0Y2ZjOGM2NWY1NmE0NTc5ZDg3Yyk7CiAgICAgICAgICAgIAoKICAgICAgICAgICAgY2lyY2xlX21hcmtlcl8wNjFiZjIxMWRiNGI0NTIwOThmYjliNjEzNmQ1NTE1OS5iaW5kUG9wdXAocG9wdXBfNjZmZjU2MDRjNTJhNGM3ODhhZjM2OGUxNGJhMDE0ZTEpCiAgICAgICAgICAgIDsKCiAgICAgICAgICAgIAogICAgICAgIAogICAgCiAgICAgICAgICAgIHZhciBjaXJjbGVfbWFya2VyX2Y1OGEzMThiODFhOTRmZGZiZDAzMmExYjY3MjllZTYzID0gTC5jaXJjbGVNYXJrZXIoCiAgICAgICAgICAgICAgICBbMTkuMDQ1ODEzMTQsIDcyLjg1NTM1MTY4XSwKICAgICAgICAgICAgICAgIHsKICAiYnViYmxpbmdNb3VzZUV2ZW50cyI6IHRydWUsCiAgImNvbG9yIjogImJsdWUiLAogICJkYXNoQXJyYXkiOiBudWxsLAogICJkYXNoT2Zmc2V0IjogbnVsbCwKICAiZmlsbCI6IHRydWUsCiAgImZpbGxDb2xvciI6IHRydWUsCiAgImZpbGxPcGFjaXR5IjogMC4yLAogICJmaWxsUnVsZSI6ICJldmVub2RkIiwKICAibGluZUNhcCI6ICJyb3VuZCIsCiAgImxpbmVKb2luIjogInJvdW5kIiwKICAib3BhY2l0eSI6IDEuMCwKICAicmFkaXVzIjogNSwKICAic3Ryb2tlIjogdHJ1ZSwKICAid2VpZ2h0IjogMwp9CiAgICAgICAgICAgICAgICApCiAgICAgICAgICAgICAgICAuYWRkVG8obWFwXzFhODEzYzQ5YzBlNTQ4NDc4NmI4ODk5MWM3NWYxMzIyKTsKICAgICAgICAgICAgCiAgICAKICAgICAgICAgICAgdmFyIHBvcHVwX2I0YmQ2ZWMwOGExZjRlNmZiNmU4M2M3NDZhNjFmYzUyID0gTC5wb3B1cCh7bWF4V2lkdGg6ICcxMDAlJwogICAgICAgICAgICAKICAgICAgICAgICAgfSk7CgogICAgICAgICAgICAKICAgICAgICAgICAgICAgIHZhciBodG1sX2Q4MWFhOThiODUwNTRjZGQ5ZDZiYTJhZjExODZmNjE1ID0gJChgPGRpdiBpZD0iaHRtbF9kODFhYTk4Yjg1MDU0Y2RkOWQ2YmEyYWYxMTg2ZjYxNSIgc3R5bGU9IndpZHRoOiAxMDAuMCU7IGhlaWdodDogMTAwLjAlOyI+RGhhcmF2aSwgRGhhcmF2aSBSb2FkPC9kaXY+YClbMF07CiAgICAgICAgICAgICAgICBwb3B1cF9iNGJkNmVjMDhhMWY0ZTZmYjZlODNjNzQ2YTYxZmM1Mi5zZXRDb250ZW50KGh0bWxfZDgxYWE5OGI4NTA1NGNkZDlkNmJhMmFmMTE4NmY2MTUpOwogICAgICAgICAgICAKCiAgICAgICAgICAgIGNpcmNsZV9tYXJrZXJfZjU4YTMxOGI4MWE5NGZkZmJkMDMyYTFiNjcyOWVlNjMuYmluZFBvcHVwKHBvcHVwX2I0YmQ2ZWMwOGExZjRlNmZiNmU4M2M3NDZhNjFmYzUyKQogICAgICAgICAgICA7CgogICAgICAgICAgICAKICAgICAgICAKICAgIAogICAgICAgICAgICB2YXIgY2lyY2xlX21hcmtlcl84OGMxOGJlOTJmYzY0YTM1Yjg1NzJjOTgyN2E0MWY3ZSA9IEwuY2lyY2xlTWFya2VyKAogICAgICAgICAgICAgICAgWzE5LjE2ODc5NjUwMjkyNjIsIDcyLjg1NzE1NjIxMTg2NjldLAogICAgICAgICAgICAgICAgewogICJidWJibGluZ01vdXNlRXZlbnRzIjogdHJ1ZSwKICAiY29sb3IiOiAiYmx1ZSIsCiAgImRhc2hBcnJheSI6IG51bGwsCiAgImRhc2hPZmZzZXQiOiBudWxsLAogICJmaWxsIjogdHJ1ZSwKICAiZmlsbENvbG9yIjogdHJ1ZSwKICAiZmlsbE9wYWNpdHkiOiAwLjIsCiAgImZpbGxSdWxlIjogImV2ZW5vZGQiLAogICJsaW5lQ2FwIjogInJvdW5kIiwKICAibGluZUpvaW4iOiAicm91bmQiLAogICJvcGFjaXR5IjogMS4wLAogICJyYWRpdXMiOiA1LAogICJzdHJva2UiOiB0cnVlLAogICJ3ZWlnaHQiOiAzCn0KICAgICAgICAgICAgICAgICkKICAgICAgICAgICAgICAgIC5hZGRUbyhtYXBfMWE4MTNjNDljMGU1NDg0Nzg2Yjg4OTkxYzc1ZjEzMjIpOwogICAgICAgICAgICAKICAgIAogICAgICAgICAgICB2YXIgcG9wdXBfMDk3MzljYzRmNzNjNGQwYjlmMDg2MGY1MDZmY2VhM2IgPSBMLnBvcHVwKHttYXhXaWR0aDogJzEwMCUnCiAgICAgICAgICAgIAogICAgICAgICAgICB9KTsKCiAgICAgICAgICAgIAogICAgICAgICAgICAgICAgdmFyIGh0bWxfNTJhOWU3MGE4NDMyNGIzNDljNDNjODQ2ZDg5YzE5NzAgPSAkKGA8ZGl2IGlkPSJodG1sXzUyYTllNzBhODQzMjRiMzQ5YzQzYzg0NmQ4OWMxOTcwIiBzdHlsZT0id2lkdGg6IDEwMC4wJTsgaGVpZ2h0OiAxMDAuMCU7Ij5Hb3JlZ2FvbiBFYXN0LCBTaGFybWEgRXN0YXRlPC9kaXY+YClbMF07CiAgICAgICAgICAgICAgICBwb3B1cF8wOTczOWNjNGY3M2M0ZDBiOWYwODYwZjUwNmZjZWEzYi5zZXRDb250ZW50KGh0bWxfNTJhOWU3MGE4NDMyNGIzNDljNDNjODQ2ZDg5YzE5NzApOwogICAgICAgICAgICAKCiAgICAgICAgICAgIGNpcmNsZV9tYXJrZXJfODhjMThiZTkyZmM2NGEzNWI4NTcyYzk4MjdhNDFmN2UuYmluZFBvcHVwKHBvcHVwXzA5NzM5Y2M0ZjczYzRkMGI5ZjA4NjBmNTA2ZmNlYTNiKQogICAgICAgICAgICA7CgogICAgICAgICAgICAKICAgICAgICAKICAgIAogICAgICAgICAgICB2YXIgY2lyY2xlX21hcmtlcl9kMmQ1OTMwY2FiYTU0YzVhOTgzNjQ4YWZmZGZlYWFjYiA9IEwuY2lyY2xlTWFya2VyKAogICAgICAgICAgICAgICAgWzE5LjE2NjU0MTI3MTM5NzUsIDcyLjg0NjMyNjk3NTQxOTRdLAogICAgICAgICAgICAgICAgewogICJidWJibGluZ01vdXNlRXZlbnRzIjogdHJ1ZSwKICAiY29sb3IiOiAiYmx1ZSIsCiAgImRhc2hBcnJheSI6IG51bGwsCiAgImRhc2hPZmZzZXQiOiBudWxsLAogICJmaWxsIjogdHJ1ZSwKICAiZmlsbENvbG9yIjogdHJ1ZSwKICAiZmlsbE9wYWNpdHkiOiAwLjIsCiAgImZpbGxSdWxlIjogImV2ZW5vZGQiLAogICJsaW5lQ2FwIjogInJvdW5kIiwKICAibGluZUpvaW4iOiAicm91bmQiLAogICJvcGFjaXR5IjogMS4wLAogICJyYWRpdXMiOiA1LAogICJzdHJva2UiOiB0cnVlLAogICJ3ZWlnaHQiOiAzCn0KICAgICAgICAgICAgICAgICkKICAgICAgICAgICAgICAgIC5hZGRUbyhtYXBfMWE4MTNjNDljMGU1NDg0Nzg2Yjg4OTkxYzc1ZjEzMjIpOwogICAgICAgICAgICAKICAgIAogICAgICAgICAgICB2YXIgcG9wdXBfYjdmOWI5ZDZiMTFiNDI1MDkzOGNiNzMzZWJkZWJmN2MgPSBMLnBvcHVwKHttYXhXaWR0aDogJzEwMCUnCiAgICAgICAgICAgIAogICAgICAgICAgICB9KTsKCiAgICAgICAgICAgIAogICAgICAgICAgICAgICAgdmFyIGh0bWxfOTdkYTAxOTUwZDg4NDI4M2E2ZTk1YTJlZTFlNTc4NGYgPSAkKGA8ZGl2IGlkPSJodG1sXzk3ZGEwMTk1MGQ4ODQyODNhNmU5NWEyZWUxZTU3ODRmIiBzdHlsZT0id2lkdGg6IDEwMC4wJTsgaGVpZ2h0OiAxMDAuMCU7Ij5Hb3JlZ2FvbiwgR29yZWdhb24gUnM8L2Rpdj5gKVswXTsKICAgICAgICAgICAgICAgIHBvcHVwX2I3ZjliOWQ2YjExYjQyNTA5MzhjYjczM2ViZGViZjdjLnNldENvbnRlbnQoaHRtbF85N2RhMDE5NTBkODg0MjgzYTZlOTVhMmVlMWU1Nzg0Zik7CiAgICAgICAgICAgIAoKICAgICAgICAgICAgY2lyY2xlX21hcmtlcl9kMmQ1OTMwY2FiYTU0YzVhOTgzNjQ4YWZmZGZlYWFjYi5iaW5kUG9wdXAocG9wdXBfYjdmOWI5ZDZiMTFiNDI1MDkzOGNiNzMzZWJkZWJmN2MpCiAgICAgICAgICAgIDsKCiAgICAgICAgICAgIAogICAgICAgIAogICAgCiAgICAgICAgICAgIHZhciBjaXJjbGVfbWFya2VyX2U0M2IwYWVmODA2ZjRkYjBiZjU5MzcxZTk4ODZjY2ZmID0gTC5jaXJjbGVNYXJrZXIoCiAgICAgICAgICAgICAgICBbMTkuMTAzMzY5MzY4ODg0OSwgNzIuODQ5Nzc5NTQ5OTAwOV0sCiAgICAgICAgICAgICAgICB7CiAgImJ1YmJsaW5nTW91c2VFdmVudHMiOiB0cnVlLAogICJjb2xvciI6ICJibHVlIiwKICAiZGFzaEFycmF5IjogbnVsbCwKICAiZGFzaE9mZnNldCI6IG51bGwsCiAgImZpbGwiOiB0cnVlLAogICJmaWxsQ29sb3IiOiB0cnVlLAogICJmaWxsT3BhY2l0eSI6IDAuMiwKICAiZmlsbFJ1bGUiOiAiZXZlbm9kZCIsCiAgImxpbmVDYXAiOiAicm91bmQiLAogICJsaW5lSm9pbiI6ICJyb3VuZCIsCiAgIm9wYWNpdHkiOiAxLjAsCiAgInJhZGl1cyI6IDUsCiAgInN0cm9rZSI6IHRydWUsCiAgIndlaWdodCI6IDMKfQogICAgICAgICAgICAgICAgKQogICAgICAgICAgICAgICAgLmFkZFRvKG1hcF8xYTgxM2M0OWMwZTU0ODQ3ODZiODg5OTFjNzVmMTMyMik7CiAgICAgICAgICAgIAogICAgCiAgICAgICAgICAgIHZhciBwb3B1cF9kZjk0M2NhMDAyMDk0ODZhYjUyZWU1ZWJmZGQ5NDhkZiA9IEwucG9wdXAoe21heFdpZHRoOiAnMTAwJScKICAgICAgICAgICAgCiAgICAgICAgICAgIH0pOwoKICAgICAgICAgICAgCiAgICAgICAgICAgICAgICB2YXIgaHRtbF8yNzY3M2Q3ZTRhMGQ0MGMzYWY3ZmFiZjYzOGRjYWYyMCA9ICQoYDxkaXYgaWQ9Imh0bWxfMjc2NzNkN2U0YTBkNDBjM2FmN2ZhYmY2MzhkY2FmMjAiIHN0eWxlPSJ3aWR0aDogMTAwLjAlOyBoZWlnaHQ6IDEwMC4wJTsiPkhhbnVtYW4gUm9hZCwgVmlsZWVwYXJsZSAoZWFzdCksIFZpbGVwYXJsZSBSYWlsd2F5IHN0YXRpb248L2Rpdj5gKVswXTsKICAgICAgICAgICAgICAgIHBvcHVwX2RmOTQzY2EwMDIwOTQ4NmFiNTJlZTVlYmZkZDk0OGRmLnNldENvbnRlbnQoaHRtbF8yNzY3M2Q3ZTRhMGQ0MGMzYWY3ZmFiZjYzOGRjYWYyMCk7CiAgICAgICAgICAgIAoKICAgICAgICAgICAgY2lyY2xlX21hcmtlcl9lNDNiMGFlZjgwNmY0ZGIwYmY1OTM3MWU5ODg2Y2NmZi5iaW5kUG9wdXAocG9wdXBfZGY5NDNjYTAwMjA5NDg2YWI1MmVlNWViZmRkOTQ4ZGYpCiAgICAgICAgICAgIDsKCiAgICAgICAgICAgIAogICAgICAgIAogICAgCiAgICAgICAgICAgIHZhciBjaXJjbGVfbWFya2VyXzk0YTJkNjExZjljMzRmYzI4OGZjZmE1NzZjMmI0YzYxID0gTC5jaXJjbGVNYXJrZXIoCiAgICAgICAgICAgICAgICBbMTkuMTEyNjU4MTU2MTM2NCwgNzIuODcxMzg3NDMyNDM1M10sCiAgICAgICAgICAgICAgICB7CiAgImJ1YmJsaW5nTW91c2VFdmVudHMiOiB0cnVlLAogICJjb2xvciI6ICJibHVlIiwKICAiZGFzaEFycmF5IjogbnVsbCwKICAiZGFzaE9mZnNldCI6IG51bGwsCiAgImZpbGwiOiB0cnVlLAogICJmaWxsQ29sb3IiOiB0cnVlLAogICJmaWxsT3BhY2l0eSI6IDAuMiwKICAiZmlsbFJ1bGUiOiAiZXZlbm9kZCIsCiAgImxpbmVDYXAiOiAicm91bmQiLAogICJsaW5lSm9pbiI6ICJyb3VuZCIsCiAgIm9wYWNpdHkiOiAxLjAsCiAgInJhZGl1cyI6IDUsCiAgInN0cm9rZSI6IHRydWUsCiAgIndlaWdodCI6IDMKfQogICAgICAgICAgICAgICAgKQogICAgICAgICAgICAgICAgLmFkZFRvKG1hcF8xYTgxM2M0OWMwZTU0ODQ3ODZiODg5OTFjNzVmMTMyMik7CiAgICAgICAgICAgIAogICAgCiAgICAgICAgICAgIHZhciBwb3B1cF9lN2VhNGU2MmMyMTA0NjU5OGIyZTNhYjQxMWU0OWUzMSA9IEwucG9wdXAoe21heFdpZHRoOiAnMTAwJScKICAgICAgICAgICAgCiAgICAgICAgICAgIH0pOwoKICAgICAgICAgICAgCiAgICAgICAgICAgICAgICB2YXIgaHRtbF9hMWQ1ZDcyN2JkZTc0NWNmYTFjYzc2YjI3YWM1NWRkMCA9ICQoYDxkaXYgaWQ9Imh0bWxfYTFkNWQ3MjdiZGU3NDVjZmExY2M3NmIyN2FjNTVkZDAiIHN0eWxlPSJ3aWR0aDogMTAwLjAlOyBoZWlnaHQ6IDEwMC4wJTsiPkouQi4gbmFnYXIsIE1hcm9sIEJhemFyLCBNYXJvbCBOYWthPC9kaXY+YClbMF07CiAgICAgICAgICAgICAgICBwb3B1cF9lN2VhNGU2MmMyMTA0NjU5OGIyZTNhYjQxMWU0OWUzMS5zZXRDb250ZW50KGh0bWxfYTFkNWQ3MjdiZGU3NDVjZmExY2M3NmIyN2FjNTVkZDApOwogICAgICAgICAgICAKCiAgICAgICAgICAgIGNpcmNsZV9tYXJrZXJfOTRhMmQ2MTFmOWMzNGZjMjg4ZmNmYTU3NmMyYjRjNjEuYmluZFBvcHVwKHBvcHVwX2U3ZWE0ZTYyYzIxMDQ2NTk4YjJlM2FiNDExZTQ5ZTMxKQogICAgICAgICAgICA7CgogICAgICAgICAgICAKICAgICAgICAKICAgIAogICAgICAgICAgICB2YXIgY2lyY2xlX21hcmtlcl9lODk4ODY4Mzg2YmM0M2UzYTQzYTlmMzkwNzI5ZmQ0MSA9IEwuY2lyY2xlTWFya2VyKAogICAgICAgICAgICAgICAgWzE5LjEzNjA2OTIyNDA3NjksIDcyLjg1OTI5NzQyNjY2NjJdLAogICAgICAgICAgICAgICAgewogICJidWJibGluZ01vdXNlRXZlbnRzIjogdHJ1ZSwKICAiY29sb3IiOiAieWVsbG93IiwKICAiZGFzaEFycmF5IjogbnVsbCwKICAiZGFzaE9mZnNldCI6IG51bGwsCiAgImZpbGwiOiB0cnVlLAogICJmaWxsQ29sb3IiOiB0cnVlLAogICJmaWxsT3BhY2l0eSI6IDAuMiwKICAiZmlsbFJ1bGUiOiAiZXZlbm9kZCIsCiAgImxpbmVDYXAiOiAicm91bmQiLAogICJsaW5lSm9pbiI6ICJyb3VuZCIsCiAgIm9wYWNpdHkiOiAxLjAsCiAgInJhZGl1cyI6IDUsCiAgInN0cm9rZSI6IHRydWUsCiAgIndlaWdodCI6IDMKfQogICAgICAgICAgICAgICAgKQogICAgICAgICAgICAgICAgLmFkZFRvKG1hcF8xYTgxM2M0OWMwZTU0ODQ3ODZiODg5OTFjNzVmMTMyMik7CiAgICAgICAgICAgIAogICAgCiAgICAgICAgICAgIHZhciBwb3B1cF9mYzI5MzMxMDliYjY0NDZkOWE0NTgwYjA4N2YxNjkxMSA9IEwucG9wdXAoe21heFdpZHRoOiAnMTAwJScKICAgICAgICAgICAgCiAgICAgICAgICAgIH0pOwoKICAgICAgICAgICAgCiAgICAgICAgICAgICAgICB2YXIgaHRtbF8xYzJiM2I3NjhjNzU0NDJmYmUxMmUwNjgyNDRhZGU0MyA9ICQoYDxkaXYgaWQ9Imh0bWxfMWMyYjNiNzY4Yzc1NDQyZmJlMTJlMDY4MjQ0YWRlNDMiIHN0eWxlPSJ3aWR0aDogMTAwLjAlOyBoZWlnaHQ6IDEwMC4wJTsiPkpvZ2VzaHdhcmkgRWFzdCwgUyBSIHAgZiBjYW1wPC9kaXY+YClbMF07CiAgICAgICAgICAgICAgICBwb3B1cF9mYzI5MzMxMDliYjY0NDZkOWE0NTgwYjA4N2YxNjkxMS5zZXRDb250ZW50KGh0bWxfMWMyYjNiNzY4Yzc1NDQyZmJlMTJlMDY4MjQ0YWRlNDMpOwogICAgICAgICAgICAKCiAgICAgICAgICAgIGNpcmNsZV9tYXJrZXJfZTg5ODg2ODM4NmJjNDNlM2E0M2E5ZjM5MDcyOWZkNDEuYmluZFBvcHVwKHBvcHVwX2ZjMjkzMzEwOWJiNjQ0NmQ5YTQ1ODBiMDg3ZjE2OTExKQogICAgICAgICAgICA7CgogICAgICAgICAgICAKICAgICAgICAKICAgIAogICAgICAgICAgICB2YXIgY2lyY2xlX21hcmtlcl82Y2E4MDJmYWJjZDQ0ZTA4OTgyZGY2ZmIxMjQyOTE2ZSA9IEwuY2lyY2xlTWFya2VyKAogICAgICAgICAgICAgICAgWzE5LjE0MTUzODYwMzc4NDIsIDcyLjgzODg0NDM2MDY0NDZdLAogICAgICAgICAgICAgICAgewogICJidWJibGluZ01vdXNlRXZlbnRzIjogdHJ1ZSwKICAiY29sb3IiOiAieWVsbG93IiwKICAiZGFzaEFycmF5IjogbnVsbCwKICAiZGFzaE9mZnNldCI6IG51bGwsCiAgImZpbGwiOiB0cnVlLAogICJmaWxsQ29sb3IiOiB0cnVlLAogICJmaWxsT3BhY2l0eSI6IDAuMiwKICAiZmlsbFJ1bGUiOiAiZXZlbm9kZCIsCiAgImxpbmVDYXAiOiAicm91bmQiLAogICJsaW5lSm9pbiI6ICJyb3VuZCIsCiAgIm9wYWNpdHkiOiAxLjAsCiAgInJhZGl1cyI6IDUsCiAgInN0cm9rZSI6IHRydWUsCiAgIndlaWdodCI6IDMKfQogICAgICAgICAgICAgICAgKQogICAgICAgICAgICAgICAgLmFkZFRvKG1hcF8xYTgxM2M0OWMwZTU0ODQ3ODZiODg5OTFjNzVmMTMyMik7CiAgICAgICAgICAgIAogICAgCiAgICAgICAgICAgIHZhciBwb3B1cF8xOWI0NThjNDUwZGU0ZTJiOWJlODc4MDIzMzE1YzEyOCA9IEwucG9wdXAoe21heFdpZHRoOiAnMTAwJScKICAgICAgICAgICAgCiAgICAgICAgICAgIH0pOwoKICAgICAgICAgICAgCiAgICAgICAgICAgICAgICB2YXIgaHRtbF9kMWU1OWZhZmUyYmY0OTI5YjM4N2Y0NGM1OGUyMzM3NyA9ICQoYDxkaXYgaWQ9Imh0bWxfZDFlNTlmYWZlMmJmNDkyOWIzODdmNDRjNThlMjMzNzciIHN0eWxlPSJ3aWR0aDogMTAwLjAlOyBoZWlnaHQ6IDEwMC4wJTsiPkpvZ2VzaHdhcmkgV2VzdCwgT3NoaXdhcmE8L2Rpdj5gKVswXTsKICAgICAgICAgICAgICAgIHBvcHVwXzE5YjQ1OGM0NTBkZTRlMmI5YmU4NzgwMjMzMTVjMTI4LnNldENvbnRlbnQoaHRtbF9kMWU1OWZhZmUyYmY0OTI5YjM4N2Y0NGM1OGUyMzM3Nyk7CiAgICAgICAgICAgIAoKICAgICAgICAgICAgY2lyY2xlX21hcmtlcl82Y2E4MDJmYWJjZDQ0ZTA4OTgyZGY2ZmIxMjQyOTE2ZS5iaW5kUG9wdXAocG9wdXBfMTliNDU4YzQ1MGRlNGUyYjliZTg3ODAyMzMxNWMxMjgpCiAgICAgICAgICAgIDsKCiAgICAgICAgICAgIAogICAgICAgIAogICAgCiAgICAgICAgICAgIHZhciBjaXJjbGVfbWFya2VyXzRmMmJmNWI5MTk0ZjRkNTI4YzgzMWI1ZGZiNjRmNTM0ID0gTC5jaXJjbGVNYXJrZXIoCiAgICAgICAgICAgICAgICBbMTkuMTA5NjQyNDA4MjYwNCwgNzIuODM0MDMxMTEwMTkwNF0sCiAgICAgICAgICAgICAgICB7CiAgImJ1YmJsaW5nTW91c2VFdmVudHMiOiB0cnVlLAogICJjb2xvciI6ICJ5ZWxsb3ciLAogICJkYXNoQXJyYXkiOiBudWxsLAogICJkYXNoT2Zmc2V0IjogbnVsbCwKICAiZmlsbCI6IHRydWUsCiAgImZpbGxDb2xvciI6IHRydWUsCiAgImZpbGxPcGFjaXR5IjogMC4yLAogICJmaWxsUnVsZSI6ICJldmVub2RkIiwKICAibGluZUNhcCI6ICJyb3VuZCIsCiAgImxpbmVKb2luIjogInJvdW5kIiwKICAib3BhY2l0eSI6IDEuMCwKICAicmFkaXVzIjogNSwKICAic3Ryb2tlIjogdHJ1ZSwKICAid2VpZ2h0IjogMwp9CiAgICAgICAgICAgICAgICApCiAgICAgICAgICAgICAgICAuYWRkVG8obWFwXzFhODEzYzQ5YzBlNTQ4NDc4NmI4ODk5MWM3NWYxMzIyKTsKICAgICAgICAgICAgCiAgICAKICAgICAgICAgICAgdmFyIHBvcHVwX2ViMGYyMTljYjM5ZDQ2OTM5ZmQxMWY4OTkzOGI5M2NkID0gTC5wb3B1cCh7bWF4V2lkdGg6ICcxMDAlJwogICAgICAgICAgICAKICAgICAgICAgICAgfSk7CgogICAgICAgICAgICAKICAgICAgICAgICAgICAgIHZhciBodG1sXzEzNjI5MzNmYWJhMDQ0YmRiNzZiMjBjOGZiNWQwZWQxID0gJChgPGRpdiBpZD0iaHRtbF8xMzYyOTMzZmFiYTA0NGJkYjc2YjIwYzhmYjVkMGVkMSIgc3R5bGU9IndpZHRoOiAxMDAuMCU7IGhlaWdodDogMTAwLjAlOyI+SnVodTwvZGl2PmApWzBdOwogICAgICAgICAgICAgICAgcG9wdXBfZWIwZjIxOWNiMzlkNDY5MzlmZDExZjg5OTM4YjkzY2Quc2V0Q29udGVudChodG1sXzEzNjI5MzNmYWJhMDQ0YmRiNzZiMjBjOGZiNWQwZWQxKTsKICAgICAgICAgICAgCgogICAgICAgICAgICBjaXJjbGVfbWFya2VyXzRmMmJmNWI5MTk0ZjRkNTI4YzgzMWI1ZGZiNjRmNTM0LmJpbmRQb3B1cChwb3B1cF9lYjBmMjE5Y2IzOWQ0NjkzOWZkMTFmODk5MzhiOTNjZCkKICAgICAgICAgICAgOwoKICAgICAgICAgICAgCiAgICAgICAgCiAgICAKICAgICAgICAgICAgdmFyIGNpcmNsZV9tYXJrZXJfMWQzNTczZGIzOTk2NDUxZmI2NmEyNzc3MmVkMTA1YmUgPSBMLmNpcmNsZU1hcmtlcigKICAgICAgICAgICAgICAgIFsxOS4yMDY5NTk1OTc3NTY0LCA3Mi44NjkwNTc3NDM5ODQ4XSwKICAgICAgICAgICAgICAgIHsKICAiYnViYmxpbmdNb3VzZUV2ZW50cyI6IHRydWUsCiAgImNvbG9yIjogInllbGxvdyIsCiAgImRhc2hBcnJheSI6IG51bGwsCiAgImRhc2hPZmZzZXQiOiBudWxsLAogICJmaWxsIjogdHJ1ZSwKICAiZmlsbENvbG9yIjogdHJ1ZSwKICAiZmlsbE9wYWNpdHkiOiAwLjIsCiAgImZpbGxSdWxlIjogImV2ZW5vZGQiLAogICJsaW5lQ2FwIjogInJvdW5kIiwKICAibGluZUpvaW4iOiAicm91bmQiLAogICJvcGFjaXR5IjogMS4wLAogICJyYWRpdXMiOiA1LAogICJzdHJva2UiOiB0cnVlLAogICJ3ZWlnaHQiOiAzCn0KICAgICAgICAgICAgICAgICkKICAgICAgICAgICAgICAgIC5hZGRUbyhtYXBfMWE4MTNjNDljMGU1NDg0Nzg2Yjg4OTkxYzc1ZjEzMjIpOwogICAgICAgICAgICAKICAgIAogICAgICAgICAgICB2YXIgcG9wdXBfN2UzODA0ZDg3NWUxNDA5OTg0OGE5NGZmNzQzZmQxMGYgPSBMLnBvcHVwKHttYXhXaWR0aDogJzEwMCUnCiAgICAgICAgICAgIAogICAgICAgICAgICB9KTsKCiAgICAgICAgICAgIAogICAgICAgICAgICAgICAgdmFyIGh0bWxfMzU4ZDUwZDZlNmU0NGFkOGI1ZWE2ZjQ3NWM5NzBjOTQgPSAkKGA8ZGl2IGlkPSJodG1sXzM1OGQ1MGQ2ZTZlNDRhZDhiNWVhNmY0NzVjOTcwYzk0IiBzdHlsZT0id2lkdGg6IDEwMC4wJTsgaGVpZ2h0OiAxMDAuMCU7Ij5LYW5kaXZhbGkgRWFzdDwvZGl2PmApWzBdOwogICAgICAgICAgICAgICAgcG9wdXBfN2UzODA0ZDg3NWUxNDA5OTg0OGE5NGZmNzQzZmQxMGYuc2V0Q29udGVudChodG1sXzM1OGQ1MGQ2ZTZlNDRhZDhiNWVhNmY0NzVjOTcwYzk0KTsKICAgICAgICAgICAgCgogICAgICAgICAgICBjaXJjbGVfbWFya2VyXzFkMzU3M2RiMzk5NjQ1MWZiNjZhMjc3NzJlZDEwNWJlLmJpbmRQb3B1cChwb3B1cF83ZTM4MDRkODc1ZTE0MDk5ODQ4YTk0ZmY3NDNmZDEwZikKICAgICAgICAgICAgOwoKICAgICAgICAgICAgCiAgICAgICAgCiAgICAKICAgICAgICAgICAgdmFyIGNpcmNsZV9tYXJrZXJfYTYyMmZkNzFkMjQzNDcyOTgyZDExMmExODdiYzRiN2EgPSBMLmNpcmNsZU1hcmtlcigKICAgICAgICAgICAgICAgIFsxOS4xOTA3NDY0MDkwMDUxLCA3Mi44NDE2OTk4MTc3MjE3XSwKICAgICAgICAgICAgICAgIHsKICAiYnViYmxpbmdNb3VzZUV2ZW50cyI6IHRydWUsCiAgImNvbG9yIjogInllbGxvdyIsCiAgImRhc2hBcnJheSI6IG51bGwsCiAgImRhc2hPZmZzZXQiOiBudWxsLAogICJmaWxsIjogdHJ1ZSwKICAiZmlsbENvbG9yIjogdHJ1ZSwKICAiZmlsbE9wYWNpdHkiOiAwLjIsCiAgImZpbGxSdWxlIjogImV2ZW5vZGQiLAogICJsaW5lQ2FwIjogInJvdW5kIiwKICAibGluZUpvaW4iOiAicm91bmQiLAogICJvcGFjaXR5IjogMS4wLAogICJyYWRpdXMiOiA1LAogICJzdHJva2UiOiB0cnVlLAogICJ3ZWlnaHQiOiAzCn0KICAgICAgICAgICAgICAgICkKICAgICAgICAgICAgICAgIC5hZGRUbyhtYXBfMWE4MTNjNDljMGU1NDg0Nzg2Yjg4OTkxYzc1ZjEzMjIpOwogICAgICAgICAgICAKICAgIAogICAgICAgICAgICB2YXIgcG9wdXBfOGQ4NzlkNTViOGM4NDQ2ZThhNTI3MGQ5NDAzN2I2MzUgPSBMLnBvcHVwKHttYXhXaWR0aDogJzEwMCUnCiAgICAgICAgICAgIAogICAgICAgICAgICB9KTsKCiAgICAgICAgICAgIAogICAgICAgICAgICAgICAgdmFyIGh0bWxfMzI1NTdjMzRkZWEzNGQ2M2E5NDJiODMxYzRlZGJlZWEgPSAkKGA8ZGl2IGlkPSJodG1sXzMyNTU3YzM0ZGVhMzRkNjNhOTQyYjgzMWM0ZWRiZWVhIiBzdHlsZT0id2lkdGg6IDEwMC4wJTsgaGVpZ2h0OiAxMDAuMCU7Ij5MaWJlcnR5IEdhcmRlbiwgTWFsYWQsIE1hbGFkIFdlc3QgZGVseSwgT3JsZW08L2Rpdj5gKVswXTsKICAgICAgICAgICAgICAgIHBvcHVwXzhkODc5ZDU1YjhjODQ0NmU4YTUyNzBkOTQwMzdiNjM1LnNldENvbnRlbnQoaHRtbF8zMjU1N2MzNGRlYTM0ZDYzYTk0MmI4MzFjNGVkYmVlYSk7CiAgICAgICAgICAgIAoKICAgICAgICAgICAgY2lyY2xlX21hcmtlcl9hNjIyZmQ3MWQyNDM0NzI5ODJkMTEyYTE4N2JjNGI3YS5iaW5kUG9wdXAocG9wdXBfOGQ4NzlkNTViOGM4NDQ2ZThhNTI3MGQ5NDAzN2I2MzUpCiAgICAgICAgICAgIDsKCiAgICAgICAgICAgIAogICAgICAgIAogICAgCiAgICAgICAgICAgIHZhciBjaXJjbGVfbWFya2VyXzM3MjE1MTk4MzQ4OTRkMjlhYzYyZTExZjk5MTJlMmY5ID0gTC5jaXJjbGVNYXJrZXIoCiAgICAgICAgICAgICAgICBbMTkuMTMzNzM2NDYwNTMyMywgNzIuODE0ODc3MTE1ODE0MV0sCiAgICAgICAgICAgICAgICB7CiAgImJ1YmJsaW5nTW91c2VFdmVudHMiOiB0cnVlLAogICJjb2xvciI6ICJ5ZWxsb3ciLAogICJkYXNoQXJyYXkiOiBudWxsLAogICJkYXNoT2Zmc2V0IjogbnVsbCwKICAiZmlsbCI6IHRydWUsCiAgImZpbGxDb2xvciI6IHRydWUsCiAgImZpbGxPcGFjaXR5IjogMC4yLAogICJmaWxsUnVsZSI6ICJldmVub2RkIiwKICAibGluZUNhcCI6ICJyb3VuZCIsCiAgImxpbmVKb2luIjogInJvdW5kIiwKICAib3BhY2l0eSI6IDEuMCwKICAicmFkaXVzIjogNSwKICAic3Ryb2tlIjogdHJ1ZSwKICAid2VpZ2h0IjogMwp9CiAgICAgICAgICAgICAgICApCiAgICAgICAgICAgICAgICAuYWRkVG8obWFwXzFhODEzYzQ5YzBlNTQ4NDc4NmI4ODk5MWM3NWYxMzIyKTsKICAgICAgICAgICAgCiAgICAKICAgICAgICAgICAgdmFyIHBvcHVwXzhjNDgwOTI1NWQzMTQ2NjZhMDU2YTA1YzQ0ZGY3MzJjID0gTC5wb3B1cCh7bWF4V2lkdGg6ICcxMDAlJwogICAgICAgICAgICAKICAgICAgICAgICAgfSk7CgogICAgICAgICAgICAKICAgICAgICAgICAgICAgIHZhciBodG1sXzQ0NDJkYWNmNDQ1NDQwZTVhNmZmMGJiM2QzNWIxMWMxID0gJChgPGRpdiBpZD0iaHRtbF80NDQyZGFjZjQ0NTQ0MGU1YTZmZjBiYjNkMzViMTFjMSIgc3R5bGU9IndpZHRoOiAxMDAuMCU7IGhlaWdodDogMTAwLjAlOyI+TWFkaCwgVmVzYXZhPC9kaXY+YClbMF07CiAgICAgICAgICAgICAgICBwb3B1cF84YzQ4MDkyNTVkMzE0NjY2YTA1NmEwNWM0NGRmNzMyYy5zZXRDb250ZW50KGh0bWxfNDQ0MmRhY2Y0NDU0NDBlNWE2ZmYwYmIzZDM1YjExYzEpOwogICAgICAgICAgICAKCiAgICAgICAgICAgIGNpcmNsZV9tYXJrZXJfMzcyMTUxOTgzNDg5NGQyOWFjNjJlMTFmOTkxMmUyZjkuYmluZFBvcHVwKHBvcHVwXzhjNDgwOTI1NWQzMTQ2NjZhMDU2YTA1YzQ0ZGY3MzJjKQogICAgICAgICAgICA7CgogICAgICAgICAgICAKICAgICAgICAKICAgIAogICAgICAgICAgICB2YXIgY2lyY2xlX21hcmtlcl84NzVjY2IwN2U4MWE0YTVmYjEwNWI0MjU4Nzk2Yjk0ZSA9IEwuY2lyY2xlTWFya2VyKAogICAgICAgICAgICAgICAgWzE5LjE4Mzk1ODk4MTMxMTYsIDcyLjg1NjI0NjQ0MTYxMzJdLAogICAgICAgICAgICAgICAgewogICJidWJibGluZ01vdXNlRXZlbnRzIjogdHJ1ZSwKICAiY29sb3IiOiAieWVsbG93IiwKICAiZGFzaEFycmF5IjogbnVsbCwKICAiZGFzaE9mZnNldCI6IG51bGwsCiAgImZpbGwiOiB0cnVlLAogICJmaWxsQ29sb3IiOiB0cnVlLAogICJmaWxsT3BhY2l0eSI6IDAuMiwKICAiZmlsbFJ1bGUiOiAiZXZlbm9kZCIsCiAgImxpbmVDYXAiOiAicm91bmQiLAogICJsaW5lSm9pbiI6ICJyb3VuZCIsCiAgIm9wYWNpdHkiOiAxLjAsCiAgInJhZGl1cyI6IDUsCiAgInN0cm9rZSI6IHRydWUsCiAgIndlaWdodCI6IDMKfQogICAgICAgICAgICAgICAgKQogICAgICAgICAgICAgICAgLmFkZFRvKG1hcF8xYTgxM2M0OWMwZTU0ODQ3ODZiODg5OTFjNzVmMTMyMik7CiAgICAgICAgICAgIAogICAgCiAgICAgICAgICAgIHZhciBwb3B1cF9jZGMxNzA0M2Q2NTc0ODQ0YTNmMTdjOWRkYzFmYTk1OCA9IEwucG9wdXAoe21heFdpZHRoOiAnMTAwJScKICAgICAgICAgICAgCiAgICAgICAgICAgIH0pOwoKICAgICAgICAgICAgCiAgICAgICAgICAgICAgICB2YXIgaHRtbF83NmI4ZWRkMTUyYTI0MTYyYjQ3ZGIwNGRhMDQ4ODNmMCA9ICQoYDxkaXYgaWQ9Imh0bWxfNzZiOGVkZDE1MmEyNDE2MmI0N2RiMDRkYTA0ODgzZjAiIHN0eWxlPSJ3aWR0aDogMTAwLjAlOyBoZWlnaHQ6IDEwMC4wJTsiPk1hbGFkIEVhc3QsIFJhbmkgU2F0aSBtYXJnPC9kaXY+YClbMF07CiAgICAgICAgICAgICAgICBwb3B1cF9jZGMxNzA0M2Q2NTc0ODQ0YTNmMTdjOWRkYzFmYTk1OC5zZXRDb250ZW50KGh0bWxfNzZiOGVkZDE1MmEyNDE2MmI0N2RiMDRkYTA0ODgzZjApOwogICAgICAgICAgICAKCiAgICAgICAgICAgIGNpcmNsZV9tYXJrZXJfODc1Y2NiMDdlODFhNGE1ZmIxMDViNDI1ODc5NmI5NGUuYmluZFBvcHVwKHBvcHVwX2NkYzE3MDQzZDY1NzQ4NDRhM2YxN2M5ZGRjMWZhOTU4KQogICAgICAgICAgICA7CgogICAgICAgICAgICAKICAgICAgICAKICAgIAogICAgICAgICAgICB2YXIgY2lyY2xlX21hcmtlcl9hYjFiNThiMTJiMzA0YWQ1YmQ4Y2Y3NjgyYjVmZDFhNSA9IEwuY2lyY2xlTWFya2VyKAogICAgICAgICAgICAgICAgWzE5LjIzMzM4ODI4ODg0NTIsIDcyLjg0NzYxNTQ2MzYyMjJdLAogICAgICAgICAgICAgICAgewogICJidWJibGluZ01vdXNlRXZlbnRzIjogdHJ1ZSwKICAiY29sb3IiOiAieWVsbG93IiwKICAiZGFzaEFycmF5IjogbnVsbCwKICAiZGFzaE9mZnNldCI6IG51bGwsCiAgImZpbGwiOiB0cnVlLAogICJmaWxsQ29sb3IiOiB0cnVlLAogICJmaWxsT3BhY2l0eSI6IDAuMiwKICAiZmlsbFJ1bGUiOiAiZXZlbm9kZCIsCiAgImxpbmVDYXAiOiAicm91bmQiLAogICJsaW5lSm9pbiI6ICJyb3VuZCIsCiAgIm9wYWNpdHkiOiAxLjAsCiAgInJhZGl1cyI6IDUsCiAgInN0cm9rZSI6IHRydWUsCiAgIndlaWdodCI6IDMKfQogICAgICAgICAgICAgICAgKQogICAgICAgICAgICAgICAgLmFkZFRvKG1hcF8xYTgxM2M0OWMwZTU0ODQ3ODZiODg5OTFjNzVmMTMyMik7CiAgICAgICAgICAgIAogICAgCiAgICAgICAgICAgIHZhciBwb3B1cF9iMGFhMGI4N2VlMDc0NjQyYjJjZDEzOTI5NTIwZTRjZSA9IEwucG9wdXAoe21heFdpZHRoOiAnMTAwJScKICAgICAgICAgICAgCiAgICAgICAgICAgIH0pOwoKICAgICAgICAgICAgCiAgICAgICAgICAgICAgICB2YXIgaHRtbF84YzE0MTllMzYyN2Q0N2E0ODAzZmQ2MDNmNDllNGMzNiA9ICQoYDxkaXYgaWQ9Imh0bWxfOGMxNDE5ZTM2MjdkNDdhNDgwM2ZkNjAzZjQ5ZTRjMzYiIHN0eWxlPSJ3aWR0aDogMTAwLjAlOyBoZWlnaHQ6IDEwMC4wJTsiPk1hbmRhcGVzaHdhcjwvZGl2PmApWzBdOwogICAgICAgICAgICAgICAgcG9wdXBfYjBhYTBiODdlZTA3NDY0MmIyY2QxMzkyOTUyMGU0Y2Uuc2V0Q29udGVudChodG1sXzhjMTQxOWUzNjI3ZDQ3YTQ4MDNmZDYwM2Y0OWU0YzM2KTsKICAgICAgICAgICAgCgogICAgICAgICAgICBjaXJjbGVfbWFya2VyX2FiMWI1OGIxMmIzMDRhZDViZDhjZjc2ODJiNWZkMWE1LmJpbmRQb3B1cChwb3B1cF9iMGFhMGI4N2VlMDc0NjQyYjJjZDEzOTI5NTIwZTRjZSkKICAgICAgICAgICAgOwoKICAgICAgICAgICAgCiAgICAgICAgCiAgICAKICAgICAgICAgICAgdmFyIGNpcmNsZV9tYXJrZXJfNGNiYWJmMzkwNWJlNDA4NThiNWQ4OTMzMGU3YjgxOTggPSBMLmNpcmNsZU1hcmtlcigKICAgICAgICAgICAgICAgIFsxOS4xNTkwNDk4MjY4ODQ2LCA3Mi44NDEzNzA4NTAwMTZdLAogICAgICAgICAgICAgICAgewogICJidWJibGluZ01vdXNlRXZlbnRzIjogdHJ1ZSwKICAiY29sb3IiOiAieWVsbG93IiwKICAiZGFzaEFycmF5IjogbnVsbCwKICAiZGFzaE9mZnNldCI6IG51bGwsCiAgImZpbGwiOiB0cnVlLAogICJmaWxsQ29sb3IiOiB0cnVlLAogICJmaWxsT3BhY2l0eSI6IDAuMiwKICAiZmlsbFJ1bGUiOiAiZXZlbm9kZCIsCiAgImxpbmVDYXAiOiAicm91bmQiLAogICJsaW5lSm9pbiI6ICJyb3VuZCIsCiAgIm9wYWNpdHkiOiAxLjAsCiAgInJhZGl1cyI6IDUsCiAgInN0cm9rZSI6IHRydWUsCiAgIndlaWdodCI6IDMKfQogICAgICAgICAgICAgICAgKQogICAgICAgICAgICAgICAgLmFkZFRvKG1hcF8xYTgxM2M0OWMwZTU0ODQ3ODZiODg5OTFjNzVmMTMyMik7CiAgICAgICAgICAgIAogICAgCiAgICAgICAgICAgIHZhciBwb3B1cF8zYjhlNWFmMzdhMjk0MTFkYTNlNjBiNThiYjBjOTEzNCA9IEwucG9wdXAoe21heFdpZHRoOiAnMTAwJScKICAgICAgICAgICAgCiAgICAgICAgICAgIH0pOwoKICAgICAgICAgICAgCiAgICAgICAgICAgICAgICB2YXIgaHRtbF9lMTU2YWRjMjdjZjk0ZDIyYTIxOGM5ZmYyMzI4NDgwYyA9ICQoYDxkaXYgaWQ9Imh0bWxfZTE1NmFkYzI3Y2Y5NGQyMmEyMThjOWZmMjMyODQ4MGMiIHN0eWxlPSJ3aWR0aDogMTAwLjAlOyBoZWlnaHQ6IDEwMC4wJTsiPk1vdGlsYWwgTmFnYXI8L2Rpdj5gKVswXTsKICAgICAgICAgICAgICAgIHBvcHVwXzNiOGU1YWYzN2EyOTQxMWRhM2U2MGI1OGJiMGM5MTM0LnNldENvbnRlbnQoaHRtbF9lMTU2YWRjMjdjZjk0ZDIyYTIxOGM5ZmYyMzI4NDgwYyk7CiAgICAgICAgICAgIAoKICAgICAgICAgICAgY2lyY2xlX21hcmtlcl80Y2JhYmYzOTA1YmU0MDg1OGI1ZDg5MzMwZTdiODE5OC5iaW5kUG9wdXAocG9wdXBfM2I4ZTVhZjM3YTI5NDExZGEzZTYwYjU4YmIwYzkxMzQpCiAgICAgICAgICAgIDsKCiAgICAgICAgICAgIAogICAgICAgIAogICAgCiAgICAgICAgICAgIHZhciBjaXJjbGVfbWFya2VyX2NmOTllOTUyZDQ3ZDQ2MmQ5NmY4OTE4MGI3NDVlMTcwID0gTC5jaXJjbGVNYXJrZXIoCiAgICAgICAgICAgICAgICBbMTkuMDgyMDQwNTU4NDUwOSwgNzIuODM3NDk4NDY2ODY3N10sCiAgICAgICAgICAgICAgICB7CiAgImJ1YmJsaW5nTW91c2VFdmVudHMiOiB0cnVlLAogICJjb2xvciI6ICJ5ZWxsb3ciLAogICJkYXNoQXJyYXkiOiBudWxsLAogICJkYXNoT2Zmc2V0IjogbnVsbCwKICAiZmlsbCI6IHRydWUsCiAgImZpbGxDb2xvciI6IHRydWUsCiAgImZpbGxPcGFjaXR5IjogMC4yLAogICJmaWxsUnVsZSI6ICJldmVub2RkIiwKICAibGluZUNhcCI6ICJyb3VuZCIsCiAgImxpbmVKb2luIjogInJvdW5kIiwKICAib3BhY2l0eSI6IDEuMCwKICAicmFkaXVzIjogNSwKICAic3Ryb2tlIjogdHJ1ZSwKICAid2VpZ2h0IjogMwp9CiAgICAgICAgICAgICAgICApCiAgICAgICAgICAgICAgICAuYWRkVG8obWFwXzFhODEzYzQ5YzBlNTQ4NDc4NmI4ODk5MWM3NWYxMzIyKTsKICAgICAgICAgICAgCiAgICAKICAgICAgICAgICAgdmFyIHBvcHVwXzNmZGFjMzliZDc1ZTRhMDlhNTU1YmY4MTAxZjJiMDEyID0gTC5wb3B1cCh7bWF4V2lkdGg6ICcxMDAlJwogICAgICAgICAgICAKICAgICAgICAgICAgfSk7CgogICAgICAgICAgICAKICAgICAgICAgICAgICAgIHZhciBodG1sXzFkZmIwNTViNDBiNjRkZGE5Mzg0NWMxYjk1ZTVlMDQ4ID0gJChgPGRpdiBpZD0iaHRtbF8xZGZiMDU1YjQwYjY0ZGRhOTM4NDVjMWI5NWU1ZTA0OCIgc3R5bGU9IndpZHRoOiAxMDAuMCU7IGhlaWdodDogMTAwLjAlOyI+U2FudGFjcnV6IENlbnRyYWwsIFNhbnRhY3J1eih3ZXN0KTwvZGl2PmApWzBdOwogICAgICAgICAgICAgICAgcG9wdXBfM2ZkYWMzOWJkNzVlNGEwOWE1NTViZjgxMDFmMmIwMTIuc2V0Q29udGVudChodG1sXzFkZmIwNTViNDBiNjRkZGE5Mzg0NWMxYjk1ZTVlMDQ4KTsKICAgICAgICAgICAgCgogICAgICAgICAgICBjaXJjbGVfbWFya2VyX2NmOTllOTUyZDQ3ZDQ2MmQ5NmY4OTE4MGI3NDVlMTcwLmJpbmRQb3B1cChwb3B1cF8zZmRhYzM5YmQ3NWU0YTA5YTU1NWJmODEwMWYyYjAxMikKICAgICAgICAgICAgOwoKICAgICAgICAgICAgCiAgICAgICAgCiAgICAKICAgICAgICAgICAgdmFyIGNpcmNsZV9tYXJrZXJfZDUyNjhjN2RlMDMyNGJiMDk3NWY3ZmI4YzVlZGMzNGMgPSBMLmNpcmNsZU1hcmtlcigKICAgICAgICAgICAgICAgIFsxOS4wODEzMTQ5OTQ5NzIyLCA3Mi44NDY2MTE0ODM1MjUxXSwKICAgICAgICAgICAgICAgIHsKICAiYnViYmxpbmdNb3VzZUV2ZW50cyI6IHRydWUsCiAgImNvbG9yIjogImJsdWUiLAogICJkYXNoQXJyYXkiOiBudWxsLAogICJkYXNoT2Zmc2V0IjogbnVsbCwKICAiZmlsbCI6IHRydWUsCiAgImZpbGxDb2xvciI6IHRydWUsCiAgImZpbGxPcGFjaXR5IjogMC4yLAogICJmaWxsUnVsZSI6ICJldmVub2RkIiwKICAibGluZUNhcCI6ICJyb3VuZCIsCiAgImxpbmVKb2luIjogInJvdW5kIiwKICAib3BhY2l0eSI6IDEuMCwKICAicmFkaXVzIjogNSwKICAic3Ryb2tlIjogdHJ1ZSwKICAid2VpZ2h0IjogMwp9CiAgICAgICAgICAgICAgICApCiAgICAgICAgICAgICAgICAuYWRkVG8obWFwXzFhODEzYzQ5YzBlNTQ4NDc4NmI4ODk5MWM3NWYxMzIyKTsKICAgICAgICAgICAgCiAgICAKICAgICAgICAgICAgdmFyIHBvcHVwXzA3YTE4MmY1YjJhMTRkMDRhM2VlMWMyZjEyZTBkNTEzID0gTC5wb3B1cCh7bWF4V2lkdGg6ICcxMDAlJwogICAgICAgICAgICAKICAgICAgICAgICAgfSk7CgogICAgICAgICAgICAKICAgICAgICAgICAgICAgIHZhciBodG1sXzkwOTBkMWM1OTFmNjRhZGNhODVlYWQzY2I2ZjkzZDQ3ID0gJChgPGRpdiBpZD0iaHRtbF85MDkwZDFjNTkxZjY0YWRjYTg1ZWFkM2NiNmY5M2Q0NyIgc3R5bGU9IndpZHRoOiAxMDAuMCU7IGhlaWdodDogMTAwLjAlOyI+U2FudGFjcnV6KGVhc3QpLCBWYWtvbGE8L2Rpdj5gKVswXTsKICAgICAgICAgICAgICAgIHBvcHVwXzA3YTE4MmY1YjJhMTRkMDRhM2VlMWMyZjEyZTBkNTEzLnNldENvbnRlbnQoaHRtbF85MDkwZDFjNTkxZjY0YWRjYTg1ZWFkM2NiNmY5M2Q0Nyk7CiAgICAgICAgICAgIAoKICAgICAgICAgICAgY2lyY2xlX21hcmtlcl9kNTI2OGM3ZGUwMzI0YmIwOTc1ZjdmYjhjNWVkYzM0Yy5iaW5kUG9wdXAocG9wdXBfMDdhMTgyZjViMmExNGQwNGEzZWUxYzJmMTJlMGQ1MTMpCiAgICAgICAgICAgIDsKCiAgICAgICAgICAgIAogICAgICAgIAogICAgCiAgICAgICAgICAgIHZhciBjaXJjbGVfbWFya2VyXzg4OGE1NzQxMGEzZDQ4OWRiNjMxZGJhMGU3OGY5YmQ5ID0gTC5jaXJjbGVNYXJrZXIoCiAgICAgICAgICAgICAgICBbMTkuMTIzMzI1MTY4NzU1NiwgNzIuODcwNDUxMzczMTUxXSwKICAgICAgICAgICAgICAgIHsKICAiYnViYmxpbmdNb3VzZUV2ZW50cyI6IHRydWUsCiAgImNvbG9yIjogInllbGxvdyIsCiAgImRhc2hBcnJheSI6IG51bGwsCiAgImRhc2hPZmZzZXQiOiBudWxsLAogICJmaWxsIjogdHJ1ZSwKICAiZmlsbENvbG9yIjogdHJ1ZSwKICAiZmlsbE9wYWNpdHkiOiAwLjIsCiAgImZpbGxSdWxlIjogImV2ZW5vZGQiLAogICJsaW5lQ2FwIjogInJvdW5kIiwKICAibGluZUpvaW4iOiAicm91bmQiLAogICJvcGFjaXR5IjogMS4wLAogICJyYWRpdXMiOiA1LAogICJzdHJva2UiOiB0cnVlLAogICJ3ZWlnaHQiOiAzCn0KICAgICAgICAgICAgICAgICkKICAgICAgICAgICAgICAgIC5hZGRUbyhtYXBfMWE4MTNjNDljMGU1NDg0Nzg2Yjg4OTkxYzc1ZjEzMjIpOwogICAgICAgICAgICAKICAgIAogICAgICAgICAgICB2YXIgcG9wdXBfMDNiYThlYjdmMzY4NDRjMWFhOWMyNDY0OWMwMzU1MzYgPSBMLnBvcHVwKHttYXhXaWR0aDogJzEwMCUnCiAgICAgICAgICAgIAogICAgICAgICAgICB9KTsKCiAgICAgICAgICAgIAogICAgICAgICAgICAgICAgdmFyIGh0bWxfMDU2OWRhYTI3Y2M3NGI4Y2FhOGVhYTJhMDcwNWViY2YgPSAkKGA8ZGl2IGlkPSJodG1sXzA1NjlkYWEyN2NjNzRiOGNhYThlYWEyYTA3MDVlYmNmIiBzdHlsZT0id2lkdGg6IDEwMC4wJTsgaGVpZ2h0OiAxMDAuMCU7Ij5TZWVwejwvZGl2PmApWzBdOwogICAgICAgICAgICAgICAgcG9wdXBfMDNiYThlYjdmMzY4NDRjMWFhOWMyNDY0OWMwMzU1MzYuc2V0Q29udGVudChodG1sXzA1NjlkYWEyN2NjNzRiOGNhYThlYWEyYTA3MDVlYmNmKTsKICAgICAgICAgICAgCgogICAgICAgICAgICBjaXJjbGVfbWFya2VyXzg4OGE1NzQxMGEzZDQ4OWRiNjMxZGJhMGU3OGY5YmQ5LmJpbmRQb3B1cChwb3B1cF8wM2JhOGViN2YzNjg0NGMxYWE5YzI0NjQ5YzAzNTUzNikKICAgICAgICAgICAgOwoKICAgICAgICAgICAgCiAgICAgICAgCiAgICAKICAgICAgICAgICAgdmFyIGNpcmNsZV9tYXJrZXJfYTc2YjY2MTFkOTlmNGZlMGJkZWU3YTg1MTJkYjcyNzIgPSBMLmNpcmNsZU1hcmtlcigKICAgICAgICAgICAgICAgIFsxOS4wNzYxMzYyNTUwMjA1LCA3Mi44NjAzNzg1ODAxOTI3XSwKICAgICAgICAgICAgICAgIHsKICAiYnViYmxpbmdNb3VzZUV2ZW50cyI6IHRydWUsCiAgImNvbG9yIjogImJsdWUiLAogICJkYXNoQXJyYXkiOiBudWxsLAogICJkYXNoT2Zmc2V0IjogbnVsbCwKICAiZmlsbCI6IHRydWUsCiAgImZpbGxDb2xvciI6IHRydWUsCiAgImZpbGxPcGFjaXR5IjogMC4yLAogICJmaWxsUnVsZSI6ICJldmVub2RkIiwKICAibGluZUNhcCI6ICJyb3VuZCIsCiAgImxpbmVKb2luIjogInJvdW5kIiwKICAib3BhY2l0eSI6IDEuMCwKICAicmFkaXVzIjogNSwKICAic3Ryb2tlIjogdHJ1ZSwKICAid2VpZ2h0IjogMwp9CiAgICAgICAgICAgICAgICApCiAgICAgICAgICAgICAgICAuYWRkVG8obWFwXzFhODEzYzQ5YzBlNTQ4NDc4NmI4ODk5MWM3NWYxMzIyKTsKICAgICAgICAgICAgCiAgICAKICAgICAgICAgICAgdmFyIHBvcHVwX2ZhZTIxMDUwOGFlZTRmZTE5NWJiODkxNjc0NWU2ZjJjID0gTC5wb3B1cCh7bWF4V2lkdGg6ICcxMDAlJwogICAgICAgICAgICAKICAgICAgICAgICAgfSk7CgogICAgICAgICAgICAKICAgICAgICAgICAgICAgIHZhciBodG1sXzk3NGQ2ZjE3NzNkZjQxZjI4MDRjOTQ1Zjk2ODVmYzlkID0gJChgPGRpdiBpZD0iaHRtbF85NzRkNmYxNzczZGY0MWYyODA0Yzk0NWY5Njg1ZmM5ZCIgc3R5bGU9IndpZHRoOiAxMDAuMCU7IGhlaWdodDogMTAwLjAlOyI+VmlkeWFuYWdhcmk8L2Rpdj5gKVswXTsKICAgICAgICAgICAgICAgIHBvcHVwX2ZhZTIxMDUwOGFlZTRmZTE5NWJiODkxNjc0NWU2ZjJjLnNldENvbnRlbnQoaHRtbF85NzRkNmYxNzczZGY0MWYyODA0Yzk0NWY5Njg1ZmM5ZCk7CiAgICAgICAgICAgIAoKICAgICAgICAgICAgY2lyY2xlX21hcmtlcl9hNzZiNjYxMWQ5OWY0ZmUwYmRlZTdhODUxMmRiNzI3Mi5iaW5kUG9wdXAocG9wdXBfZmFlMjEwNTA4YWVlNGZlMTk1YmI4OTE2NzQ1ZTZmMmMpCiAgICAgICAgICAgIDsKCiAgICAgICAgICAgIAogICAgICAgIAo8L3NjcmlwdD4=\" style=\"position:absolute;width:100%;height:100%;left:0;top:0;border:none !important;\" allowfullscreen webkitallowfullscreen mozallowfullscreen></iframe></div></div>"
            ],
            "text/plain": [
              "<folium.folium.Map at 0x7f07ec908dd8>"
            ]
          },
          "metadata": {
            "tags": []
          },
          "execution_count": 74
        }
      ]
    },
    {
      "cell_type": "code",
      "metadata": {
        "id": "v1vBeLI-kriN",
        "colab_type": "code",
        "colab": {}
      },
      "source": [
        ""
      ],
      "execution_count": 0,
      "outputs": []
    },
    {
      "cell_type": "code",
      "metadata": {
        "id": "fhB0PnMfkrWi",
        "colab_type": "code",
        "colab": {}
      },
      "source": [
        ""
      ],
      "execution_count": 0,
      "outputs": []
    },
    {
      "cell_type": "code",
      "metadata": {
        "id": "dlt_uFbskrTm",
        "colab_type": "code",
        "colab": {}
      },
      "source": [
        ""
      ],
      "execution_count": 0,
      "outputs": []
    },
    {
      "cell_type": "markdown",
      "metadata": {
        "id": "hqOizN35f-ni",
        "colab_type": "text"
      },
      "source": [
        "## Result"
      ]
    },
    {
      "cell_type": "code",
      "metadata": {
        "id": "kMgbIfNQf_2N",
        "colab_type": "code",
        "colab": {}
      },
      "source": [
        ""
      ],
      "execution_count": 0,
      "outputs": []
    },
    {
      "cell_type": "markdown",
      "metadata": {
        "id": "dZid5yRCgGZr",
        "colab_type": "text"
      },
      "source": [
        "### It could be concluded from the above map that the localities of Mumbai are not much different from each other, two types of clusters are there. It could be seen that localities lying along the coast are similar, which also aligns with our intuition.\n"
      ]
    },
    {
      "cell_type": "code",
      "metadata": {
        "id": "mwvqQhorN17j",
        "colab_type": "code",
        "colab": {}
      },
      "source": [
        ""
      ],
      "execution_count": 0,
      "outputs": []
    }
  ]
}