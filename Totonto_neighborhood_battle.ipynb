{
  "nbformat": 4,
  "nbformat_minor": 0,
  "metadata": {
    "colab": {
      "name": "Totonto neighborhood battle.ipynb",
      "provenance": [],
      "collapsed_sections": [],
      "include_colab_link": true
    },
    "kernelspec": {
      "name": "python3",
      "display_name": "Python 3"
    }
  },
  "cells": [
    {
      "cell_type": "markdown",
      "metadata": {
        "id": "view-in-github",
        "colab_type": "text"
      },
      "source": [
        "<a href=\"https://colab.research.google.com/github/aditya-saurabh/Coursera_Capstone/blob/master/Totonto_neighborhood_battle.ipynb\" target=\"_parent\"><img src=\"https://colab.research.google.com/assets/colab-badge.svg\" alt=\"Open In Colab\"/></a>"
      ]
    },
    {
      "cell_type": "code",
      "metadata": {
        "id": "-Nj7yLr01l2h",
        "colab_type": "code",
        "colab": {}
      },
      "source": [
        "import numpy as np\n",
        "import pandas as pd\n",
        "import requests\n",
        "import lxml.html as lh"
      ],
      "execution_count": 0,
      "outputs": []
    },
    {
      "cell_type": "code",
      "metadata": {
        "id": "aKeeKw_H-p8V",
        "colab_type": "code",
        "colab": {}
      },
      "source": [
        "url='https://en.wikipedia.org/wiki/List_of_postal_codes_of_Canada:_M'"
      ],
      "execution_count": 0,
      "outputs": []
    },
    {
      "cell_type": "code",
      "metadata": {
        "id": "02oA5oGB-0W9",
        "colab_type": "code",
        "colab": {}
      },
      "source": [
        "page = requests.get(url)"
      ],
      "execution_count": 0,
      "outputs": []
    },
    {
      "cell_type": "code",
      "metadata": {
        "id": "U17AEu-i-77B",
        "colab_type": "code",
        "colab": {}
      },
      "source": [
        "doc = lh.fromstring(page.content)"
      ],
      "execution_count": 0,
      "outputs": []
    },
    {
      "cell_type": "code",
      "metadata": {
        "id": "F3ePL3jZ--hO",
        "colab_type": "code",
        "colab": {}
      },
      "source": [
        "tr_elements = doc.xpath('//tr')"
      ],
      "execution_count": 0,
      "outputs": []
    },
    {
      "cell_type": "code",
      "metadata": {
        "id": "uSvJSrsT_2Xy",
        "colab_type": "code",
        "colab": {
          "base_uri": "https://localhost:8080/",
          "height": 68
        },
        "outputId": "dd78aa35-3823-4a8f-b9b9-322aad427dd0"
      },
      "source": [
        "#Create empty list\n",
        "col=[]\n",
        "i=0\n",
        "#For each row, store each first element (header) and an empty list\n",
        "for t in tr_elements[0]:\n",
        "    i+=1\n",
        "    name=t.text_content().split(\"\\n\")[0]\n",
        "    print (i,name)\n",
        "    col.append((name,[]))"
      ],
      "execution_count": 6,
      "outputs": [
        {
          "output_type": "stream",
          "text": [
            "1 Postcode\n",
            "2 Borough\n",
            "3 Neighbourhood\n"
          ],
          "name": "stdout"
        }
      ]
    },
    {
      "cell_type": "code",
      "metadata": {
        "id": "fvoCNYw1Ar1w",
        "colab_type": "code",
        "colab": {}
      },
      "source": [
        "for j in range(1,len(tr_elements)):\n",
        "    #T is our j'th row\n",
        "    T=tr_elements[j]\n",
        "    \n",
        "    #If row is not of size 10, the //tr data is not from our table \n",
        "    if len(T)!=3:\n",
        "        break\n",
        "    \n",
        "    #i is the index of our column\n",
        "    i=0\n",
        "    \n",
        "    #Iterate through each element of the row\n",
        "    for t in T.iterchildren():\n",
        "        data=t.text_content()\n",
        "        #Check if row is empty\n",
        "        if i>0:\n",
        "        #Convert any numerical value to integers\n",
        "            try:\n",
        "                data=int(data)\n",
        "            except:\n",
        "                pass\n",
        "        #Append the data to the empty list of the i'th column\n",
        "        col[i][1].append(data)\n",
        "        #Increment i for the next column\n",
        "        i+=1"
      ],
      "execution_count": 0,
      "outputs": []
    },
    {
      "cell_type": "code",
      "metadata": {
        "id": "2W3OU0YcA6tM",
        "colab_type": "code",
        "colab": {}
      },
      "source": [
        "Dict={title:column for (title,column) in col}\n",
        "df=pd.DataFrame(Dict)\n",
        "df['Neighbourhood'] = df['Neighbourhood'].str.rstrip(\"\\n\")"
      ],
      "execution_count": 0,
      "outputs": []
    },
    {
      "cell_type": "code",
      "metadata": {
        "id": "9A-WyDMqDaDp",
        "colab_type": "code",
        "outputId": "615a746c-7e22-4621-a7d5-f4c35461ec02",
        "colab": {
          "base_uri": "https://localhost:8080/",
          "height": 204
        }
      },
      "source": [
        "df.head()"
      ],
      "execution_count": 9,
      "outputs": [
        {
          "output_type": "execute_result",
          "data": {
            "text/html": [
              "<div>\n",
              "<style scoped>\n",
              "    .dataframe tbody tr th:only-of-type {\n",
              "        vertical-align: middle;\n",
              "    }\n",
              "\n",
              "    .dataframe tbody tr th {\n",
              "        vertical-align: top;\n",
              "    }\n",
              "\n",
              "    .dataframe thead th {\n",
              "        text-align: right;\n",
              "    }\n",
              "</style>\n",
              "<table border=\"1\" class=\"dataframe\">\n",
              "  <thead>\n",
              "    <tr style=\"text-align: right;\">\n",
              "      <th></th>\n",
              "      <th>Postcode</th>\n",
              "      <th>Borough</th>\n",
              "      <th>Neighbourhood</th>\n",
              "    </tr>\n",
              "  </thead>\n",
              "  <tbody>\n",
              "    <tr>\n",
              "      <th>0</th>\n",
              "      <td>M1A</td>\n",
              "      <td>Not assigned</td>\n",
              "      <td>Not assigned</td>\n",
              "    </tr>\n",
              "    <tr>\n",
              "      <th>1</th>\n",
              "      <td>M2A</td>\n",
              "      <td>Not assigned</td>\n",
              "      <td>Not assigned</td>\n",
              "    </tr>\n",
              "    <tr>\n",
              "      <th>2</th>\n",
              "      <td>M3A</td>\n",
              "      <td>North York</td>\n",
              "      <td>Parkwoods</td>\n",
              "    </tr>\n",
              "    <tr>\n",
              "      <th>3</th>\n",
              "      <td>M4A</td>\n",
              "      <td>North York</td>\n",
              "      <td>Victoria Village</td>\n",
              "    </tr>\n",
              "    <tr>\n",
              "      <th>4</th>\n",
              "      <td>M5A</td>\n",
              "      <td>Downtown Toronto</td>\n",
              "      <td>Harbourfront</td>\n",
              "    </tr>\n",
              "  </tbody>\n",
              "</table>\n",
              "</div>"
            ],
            "text/plain": [
              "  Postcode           Borough     Neighbourhood\n",
              "0      M1A      Not assigned      Not assigned\n",
              "1      M2A      Not assigned      Not assigned\n",
              "2      M3A        North York         Parkwoods\n",
              "3      M4A        North York  Victoria Village\n",
              "4      M5A  Downtown Toronto      Harbourfront"
            ]
          },
          "metadata": {
            "tags": []
          },
          "execution_count": 9
        }
      ]
    },
    {
      "cell_type": "code",
      "metadata": {
        "id": "2ZPz_ovOcUL4",
        "colab_type": "code",
        "colab": {}
      },
      "source": [
        "# Filtering neighbourhood\n",
        "for i in range(df.shape[0]):\n",
        "  if df.iloc[i]['Neighbourhood'] == 'Not assigned':\n",
        "    df.iloc[i]['Neighbourhood'] = df.iloc[i]['Borough']"
      ],
      "execution_count": 0,
      "outputs": []
    },
    {
      "cell_type": "markdown",
      "metadata": {
        "id": "tTmYQLgQdVe-",
        "colab_type": "text"
      },
      "source": [
        "### This has been done to assign neighbourhood the same borough if it is 'Not assigned' ###"
      ]
    },
    {
      "cell_type": "markdown",
      "metadata": {
        "id": "DtEOUGtZD4gd",
        "colab_type": "text"
      },
      "source": [
        "### Now rows where Boroughs are not assigned are dropped ###"
      ]
    },
    {
      "cell_type": "code",
      "metadata": {
        "id": "4wqCcNkYJFal",
        "colab_type": "code",
        "colab": {}
      },
      "source": [
        "df = df[df['Borough'] != 'Not assigned']\n",
        "df.reset_index(inplace = True, drop = True)"
      ],
      "execution_count": 0,
      "outputs": []
    },
    {
      "cell_type": "code",
      "metadata": {
        "id": "XJhN_3UVL3if",
        "colab_type": "code",
        "colab": {
          "base_uri": "https://localhost:8080/",
          "height": 204
        },
        "outputId": "50a3727a-4be3-42e7-bfe5-6d67523032bf"
      },
      "source": [
        "df.head()"
      ],
      "execution_count": 12,
      "outputs": [
        {
          "output_type": "execute_result",
          "data": {
            "text/html": [
              "<div>\n",
              "<style scoped>\n",
              "    .dataframe tbody tr th:only-of-type {\n",
              "        vertical-align: middle;\n",
              "    }\n",
              "\n",
              "    .dataframe tbody tr th {\n",
              "        vertical-align: top;\n",
              "    }\n",
              "\n",
              "    .dataframe thead th {\n",
              "        text-align: right;\n",
              "    }\n",
              "</style>\n",
              "<table border=\"1\" class=\"dataframe\">\n",
              "  <thead>\n",
              "    <tr style=\"text-align: right;\">\n",
              "      <th></th>\n",
              "      <th>Postcode</th>\n",
              "      <th>Borough</th>\n",
              "      <th>Neighbourhood</th>\n",
              "    </tr>\n",
              "  </thead>\n",
              "  <tbody>\n",
              "    <tr>\n",
              "      <th>0</th>\n",
              "      <td>M3A</td>\n",
              "      <td>North York</td>\n",
              "      <td>Parkwoods</td>\n",
              "    </tr>\n",
              "    <tr>\n",
              "      <th>1</th>\n",
              "      <td>M4A</td>\n",
              "      <td>North York</td>\n",
              "      <td>Victoria Village</td>\n",
              "    </tr>\n",
              "    <tr>\n",
              "      <th>2</th>\n",
              "      <td>M5A</td>\n",
              "      <td>Downtown Toronto</td>\n",
              "      <td>Harbourfront</td>\n",
              "    </tr>\n",
              "    <tr>\n",
              "      <th>3</th>\n",
              "      <td>M6A</td>\n",
              "      <td>North York</td>\n",
              "      <td>Lawrence Heights</td>\n",
              "    </tr>\n",
              "    <tr>\n",
              "      <th>4</th>\n",
              "      <td>M6A</td>\n",
              "      <td>North York</td>\n",
              "      <td>Lawrence Manor</td>\n",
              "    </tr>\n",
              "  </tbody>\n",
              "</table>\n",
              "</div>"
            ],
            "text/plain": [
              "  Postcode           Borough     Neighbourhood\n",
              "0      M3A        North York         Parkwoods\n",
              "1      M4A        North York  Victoria Village\n",
              "2      M5A  Downtown Toronto      Harbourfront\n",
              "3      M6A        North York  Lawrence Heights\n",
              "4      M6A        North York    Lawrence Manor"
            ]
          },
          "metadata": {
            "tags": []
          },
          "execution_count": 12
        }
      ]
    },
    {
      "cell_type": "code",
      "metadata": {
        "id": "r_dic2quPNKC",
        "colab_type": "code",
        "colab": {
          "base_uri": "https://localhost:8080/",
          "height": 204
        },
        "outputId": "e0c2ad6b-e591-4bf7-874e-02321df63160"
      },
      "source": [
        "df_filtered = df\n",
        "df_filtered.head()"
      ],
      "execution_count": 13,
      "outputs": [
        {
          "output_type": "execute_result",
          "data": {
            "text/html": [
              "<div>\n",
              "<style scoped>\n",
              "    .dataframe tbody tr th:only-of-type {\n",
              "        vertical-align: middle;\n",
              "    }\n",
              "\n",
              "    .dataframe tbody tr th {\n",
              "        vertical-align: top;\n",
              "    }\n",
              "\n",
              "    .dataframe thead th {\n",
              "        text-align: right;\n",
              "    }\n",
              "</style>\n",
              "<table border=\"1\" class=\"dataframe\">\n",
              "  <thead>\n",
              "    <tr style=\"text-align: right;\">\n",
              "      <th></th>\n",
              "      <th>Postcode</th>\n",
              "      <th>Borough</th>\n",
              "      <th>Neighbourhood</th>\n",
              "    </tr>\n",
              "  </thead>\n",
              "  <tbody>\n",
              "    <tr>\n",
              "      <th>0</th>\n",
              "      <td>M3A</td>\n",
              "      <td>North York</td>\n",
              "      <td>Parkwoods</td>\n",
              "    </tr>\n",
              "    <tr>\n",
              "      <th>1</th>\n",
              "      <td>M4A</td>\n",
              "      <td>North York</td>\n",
              "      <td>Victoria Village</td>\n",
              "    </tr>\n",
              "    <tr>\n",
              "      <th>2</th>\n",
              "      <td>M5A</td>\n",
              "      <td>Downtown Toronto</td>\n",
              "      <td>Harbourfront</td>\n",
              "    </tr>\n",
              "    <tr>\n",
              "      <th>3</th>\n",
              "      <td>M6A</td>\n",
              "      <td>North York</td>\n",
              "      <td>Lawrence Heights</td>\n",
              "    </tr>\n",
              "    <tr>\n",
              "      <th>4</th>\n",
              "      <td>M6A</td>\n",
              "      <td>North York</td>\n",
              "      <td>Lawrence Manor</td>\n",
              "    </tr>\n",
              "  </tbody>\n",
              "</table>\n",
              "</div>"
            ],
            "text/plain": [
              "  Postcode           Borough     Neighbourhood\n",
              "0      M3A        North York         Parkwoods\n",
              "1      M4A        North York  Victoria Village\n",
              "2      M5A  Downtown Toronto      Harbourfront\n",
              "3      M6A        North York  Lawrence Heights\n",
              "4      M6A        North York    Lawrence Manor"
            ]
          },
          "metadata": {
            "tags": []
          },
          "execution_count": 13
        }
      ]
    },
    {
      "cell_type": "code",
      "metadata": {
        "id": "eSkrGcU-b7jl",
        "colab_type": "code",
        "colab": {
          "base_uri": "https://localhost:8080/",
          "height": 102
        },
        "outputId": "3a59ebdb-a154-48bc-a0c9-ca4724199fc5"
      },
      "source": [
        "df_filtered['Neighbourhood'].describe()"
      ],
      "execution_count": 14,
      "outputs": [
        {
          "output_type": "execute_result",
          "data": {
            "text/plain": [
              "count           210\n",
              "unique          207\n",
              "top       Runnymede\n",
              "freq              2\n",
              "Name: Neighbourhood, dtype: object"
            ]
          },
          "metadata": {
            "tags": []
          },
          "execution_count": 14
        }
      ]
    },
    {
      "cell_type": "code",
      "metadata": {
        "id": "j01694STPTSd",
        "colab_type": "code",
        "colab": {}
      },
      "source": [
        "df_filtered['Neighbourhood'] = df_filtered['Neighbourhood'] + ', '"
      ],
      "execution_count": 0,
      "outputs": []
    },
    {
      "cell_type": "code",
      "metadata": {
        "id": "o0REeI7zL48H",
        "colab_type": "code",
        "colab": {
          "base_uri": "https://localhost:8080/",
          "height": 450
        },
        "outputId": "515ff77d-0da5-42f9-db08-468f06a35398"
      },
      "source": [
        "df_grouped = df_filtered[['Postcode','Neighbourhood']].groupby(by='Postcode').sum()\n",
        "df_grouped"
      ],
      "execution_count": 16,
      "outputs": [
        {
          "output_type": "execute_result",
          "data": {
            "text/html": [
              "<div>\n",
              "<style scoped>\n",
              "    .dataframe tbody tr th:only-of-type {\n",
              "        vertical-align: middle;\n",
              "    }\n",
              "\n",
              "    .dataframe tbody tr th {\n",
              "        vertical-align: top;\n",
              "    }\n",
              "\n",
              "    .dataframe thead th {\n",
              "        text-align: right;\n",
              "    }\n",
              "</style>\n",
              "<table border=\"1\" class=\"dataframe\">\n",
              "  <thead>\n",
              "    <tr style=\"text-align: right;\">\n",
              "      <th></th>\n",
              "      <th>Neighbourhood</th>\n",
              "    </tr>\n",
              "    <tr>\n",
              "      <th>Postcode</th>\n",
              "      <th></th>\n",
              "    </tr>\n",
              "  </thead>\n",
              "  <tbody>\n",
              "    <tr>\n",
              "      <th>M1B</th>\n",
              "      <td>Rouge, Malvern,</td>\n",
              "    </tr>\n",
              "    <tr>\n",
              "      <th>M1C</th>\n",
              "      <td>Highland Creek, Rouge Hill, Port Union,</td>\n",
              "    </tr>\n",
              "    <tr>\n",
              "      <th>M1E</th>\n",
              "      <td>Guildwood, Morningside, West Hill,</td>\n",
              "    </tr>\n",
              "    <tr>\n",
              "      <th>M1G</th>\n",
              "      <td>Woburn,</td>\n",
              "    </tr>\n",
              "    <tr>\n",
              "      <th>M1H</th>\n",
              "      <td>Cedarbrae,</td>\n",
              "    </tr>\n",
              "    <tr>\n",
              "      <th>...</th>\n",
              "      <td>...</td>\n",
              "    </tr>\n",
              "    <tr>\n",
              "      <th>M9N</th>\n",
              "      <td>Weston,</td>\n",
              "    </tr>\n",
              "    <tr>\n",
              "      <th>M9P</th>\n",
              "      <td>Westmount,</td>\n",
              "    </tr>\n",
              "    <tr>\n",
              "      <th>M9R</th>\n",
              "      <td>Kingsview Village, Martin Grove Gardens, Richv...</td>\n",
              "    </tr>\n",
              "    <tr>\n",
              "      <th>M9V</th>\n",
              "      <td>Albion Gardens, Beaumond Heights, Humbergate, ...</td>\n",
              "    </tr>\n",
              "    <tr>\n",
              "      <th>M9W</th>\n",
              "      <td>Northwest,</td>\n",
              "    </tr>\n",
              "  </tbody>\n",
              "</table>\n",
              "<p>103 rows × 1 columns</p>\n",
              "</div>"
            ],
            "text/plain": [
              "                                              Neighbourhood\n",
              "Postcode                                                   \n",
              "M1B                                        Rouge, Malvern, \n",
              "M1C                Highland Creek, Rouge Hill, Port Union, \n",
              "M1E                     Guildwood, Morningside, West Hill, \n",
              "M1G                                                Woburn, \n",
              "M1H                                             Cedarbrae, \n",
              "...                                                     ...\n",
              "M9N                                                Weston, \n",
              "M9P                                             Westmount, \n",
              "M9R       Kingsview Village, Martin Grove Gardens, Richv...\n",
              "M9V       Albion Gardens, Beaumond Heights, Humbergate, ...\n",
              "M9W                                             Northwest, \n",
              "\n",
              "[103 rows x 1 columns]"
            ]
          },
          "metadata": {
            "tags": []
          },
          "execution_count": 16
        }
      ]
    },
    {
      "cell_type": "markdown",
      "metadata": {
        "id": "-SHfck4BLz1I",
        "colab_type": "text"
      },
      "source": [
        ""
      ]
    },
    {
      "cell_type": "code",
      "metadata": {
        "id": "2s1A-AXTQQm5",
        "colab_type": "code",
        "colab": {}
      },
      "source": [
        "df_grouped['Neighbourhood'] = df_grouped['Neighbourhood'].str.rstrip(', ')"
      ],
      "execution_count": 0,
      "outputs": []
    },
    {
      "cell_type": "code",
      "metadata": {
        "id": "IrrPskKeLxBX",
        "colab_type": "code",
        "colab": {}
      },
      "source": [
        "df_grouped.reset_index(inplace=True, drop = False)"
      ],
      "execution_count": 0,
      "outputs": []
    },
    {
      "cell_type": "code",
      "metadata": {
        "id": "uMyhohIuQiY0",
        "colab_type": "code",
        "colab": {
          "base_uri": "https://localhost:8080/",
          "height": 204
        },
        "outputId": "256c5959-1113-4488-97d9-180029176cb3"
      },
      "source": [
        "df_grouped.head()"
      ],
      "execution_count": 19,
      "outputs": [
        {
          "output_type": "execute_result",
          "data": {
            "text/html": [
              "<div>\n",
              "<style scoped>\n",
              "    .dataframe tbody tr th:only-of-type {\n",
              "        vertical-align: middle;\n",
              "    }\n",
              "\n",
              "    .dataframe tbody tr th {\n",
              "        vertical-align: top;\n",
              "    }\n",
              "\n",
              "    .dataframe thead th {\n",
              "        text-align: right;\n",
              "    }\n",
              "</style>\n",
              "<table border=\"1\" class=\"dataframe\">\n",
              "  <thead>\n",
              "    <tr style=\"text-align: right;\">\n",
              "      <th></th>\n",
              "      <th>Postcode</th>\n",
              "      <th>Neighbourhood</th>\n",
              "    </tr>\n",
              "  </thead>\n",
              "  <tbody>\n",
              "    <tr>\n",
              "      <th>0</th>\n",
              "      <td>M1B</td>\n",
              "      <td>Rouge, Malvern</td>\n",
              "    </tr>\n",
              "    <tr>\n",
              "      <th>1</th>\n",
              "      <td>M1C</td>\n",
              "      <td>Highland Creek, Rouge Hill, Port Union</td>\n",
              "    </tr>\n",
              "    <tr>\n",
              "      <th>2</th>\n",
              "      <td>M1E</td>\n",
              "      <td>Guildwood, Morningside, West Hill</td>\n",
              "    </tr>\n",
              "    <tr>\n",
              "      <th>3</th>\n",
              "      <td>M1G</td>\n",
              "      <td>Woburn</td>\n",
              "    </tr>\n",
              "    <tr>\n",
              "      <th>4</th>\n",
              "      <td>M1H</td>\n",
              "      <td>Cedarbrae</td>\n",
              "    </tr>\n",
              "  </tbody>\n",
              "</table>\n",
              "</div>"
            ],
            "text/plain": [
              "  Postcode                           Neighbourhood\n",
              "0      M1B                          Rouge, Malvern\n",
              "1      M1C  Highland Creek, Rouge Hill, Port Union\n",
              "2      M1E       Guildwood, Morningside, West Hill\n",
              "3      M1G                                  Woburn\n",
              "4      M1H                               Cedarbrae"
            ]
          },
          "metadata": {
            "tags": []
          },
          "execution_count": 19
        }
      ]
    },
    {
      "cell_type": "code",
      "metadata": {
        "id": "Lxg1RDPHULFi",
        "colab_type": "code",
        "colab": {}
      },
      "source": [
        "df_test = df_grouped"
      ],
      "execution_count": 0,
      "outputs": []
    },
    {
      "cell_type": "code",
      "metadata": {
        "id": "rlxWm5TJXsrH",
        "colab_type": "code",
        "colab": {}
      },
      "source": [
        "d = {}\n",
        "for key, value in zip(df['Postcode'], df['Borough']):\n",
        "  d[key] = value"
      ],
      "execution_count": 0,
      "outputs": []
    },
    {
      "cell_type": "code",
      "metadata": {
        "id": "bLi_RsSCiYiH",
        "colab_type": "code",
        "colab": {}
      },
      "source": [
        "d"
      ],
      "execution_count": 0,
      "outputs": []
    },
    {
      "cell_type": "code",
      "metadata": {
        "id": "Cp05mgZphJbg",
        "colab_type": "code",
        "colab": {}
      },
      "source": [
        "df_test['Borough'] = df_test['Postcode'].map(d)"
      ],
      "execution_count": 0,
      "outputs": []
    },
    {
      "cell_type": "markdown",
      "metadata": {
        "id": "Uoebsb_latlu",
        "colab_type": "text"
      },
      "source": [
        "# This is the final dataset #"
      ]
    },
    {
      "cell_type": "code",
      "metadata": {
        "id": "a4tCup5Makhx",
        "colab_type": "code",
        "colab": {
          "base_uri": "https://localhost:8080/",
          "height": 204
        },
        "outputId": "eb19c8d8-1239-4288-dc21-a2143fcfcac0"
      },
      "source": [
        "df_test.head()"
      ],
      "execution_count": 24,
      "outputs": [
        {
          "output_type": "execute_result",
          "data": {
            "text/html": [
              "<div>\n",
              "<style scoped>\n",
              "    .dataframe tbody tr th:only-of-type {\n",
              "        vertical-align: middle;\n",
              "    }\n",
              "\n",
              "    .dataframe tbody tr th {\n",
              "        vertical-align: top;\n",
              "    }\n",
              "\n",
              "    .dataframe thead th {\n",
              "        text-align: right;\n",
              "    }\n",
              "</style>\n",
              "<table border=\"1\" class=\"dataframe\">\n",
              "  <thead>\n",
              "    <tr style=\"text-align: right;\">\n",
              "      <th></th>\n",
              "      <th>Postcode</th>\n",
              "      <th>Neighbourhood</th>\n",
              "      <th>Borough</th>\n",
              "    </tr>\n",
              "  </thead>\n",
              "  <tbody>\n",
              "    <tr>\n",
              "      <th>0</th>\n",
              "      <td>M1B</td>\n",
              "      <td>Rouge, Malvern</td>\n",
              "      <td>Scarborough</td>\n",
              "    </tr>\n",
              "    <tr>\n",
              "      <th>1</th>\n",
              "      <td>M1C</td>\n",
              "      <td>Highland Creek, Rouge Hill, Port Union</td>\n",
              "      <td>Scarborough</td>\n",
              "    </tr>\n",
              "    <tr>\n",
              "      <th>2</th>\n",
              "      <td>M1E</td>\n",
              "      <td>Guildwood, Morningside, West Hill</td>\n",
              "      <td>Scarborough</td>\n",
              "    </tr>\n",
              "    <tr>\n",
              "      <th>3</th>\n",
              "      <td>M1G</td>\n",
              "      <td>Woburn</td>\n",
              "      <td>Scarborough</td>\n",
              "    </tr>\n",
              "    <tr>\n",
              "      <th>4</th>\n",
              "      <td>M1H</td>\n",
              "      <td>Cedarbrae</td>\n",
              "      <td>Scarborough</td>\n",
              "    </tr>\n",
              "  </tbody>\n",
              "</table>\n",
              "</div>"
            ],
            "text/plain": [
              "  Postcode                           Neighbourhood      Borough\n",
              "0      M1B                          Rouge, Malvern  Scarborough\n",
              "1      M1C  Highland Creek, Rouge Hill, Port Union  Scarborough\n",
              "2      M1E       Guildwood, Morningside, West Hill  Scarborough\n",
              "3      M1G                                  Woburn  Scarborough\n",
              "4      M1H                               Cedarbrae  Scarborough"
            ]
          },
          "metadata": {
            "tags": []
          },
          "execution_count": 24
        }
      ]
    },
    {
      "cell_type": "code",
      "metadata": {
        "id": "cFXDfBULa-gl",
        "colab_type": "code",
        "colab": {
          "base_uri": "https://localhost:8080/",
          "height": 173
        },
        "outputId": "4403fecc-a952-4f5b-949e-2c1f3ef1d494"
      },
      "source": [
        "df_test.describe()"
      ],
      "execution_count": 25,
      "outputs": [
        {
          "output_type": "execute_result",
          "data": {
            "text/html": [
              "<div>\n",
              "<style scoped>\n",
              "    .dataframe tbody tr th:only-of-type {\n",
              "        vertical-align: middle;\n",
              "    }\n",
              "\n",
              "    .dataframe tbody tr th {\n",
              "        vertical-align: top;\n",
              "    }\n",
              "\n",
              "    .dataframe thead th {\n",
              "        text-align: right;\n",
              "    }\n",
              "</style>\n",
              "<table border=\"1\" class=\"dataframe\">\n",
              "  <thead>\n",
              "    <tr style=\"text-align: right;\">\n",
              "      <th></th>\n",
              "      <th>Postcode</th>\n",
              "      <th>Neighbourhood</th>\n",
              "      <th>Borough</th>\n",
              "    </tr>\n",
              "  </thead>\n",
              "  <tbody>\n",
              "    <tr>\n",
              "      <th>count</th>\n",
              "      <td>103</td>\n",
              "      <td>103</td>\n",
              "      <td>103</td>\n",
              "    </tr>\n",
              "    <tr>\n",
              "      <th>unique</th>\n",
              "      <td>103</td>\n",
              "      <td>102</td>\n",
              "      <td>11</td>\n",
              "    </tr>\n",
              "    <tr>\n",
              "      <th>top</th>\n",
              "      <td>M5M</td>\n",
              "      <td>Queen's Park</td>\n",
              "      <td>North York</td>\n",
              "    </tr>\n",
              "    <tr>\n",
              "      <th>freq</th>\n",
              "      <td>1</td>\n",
              "      <td>2</td>\n",
              "      <td>24</td>\n",
              "    </tr>\n",
              "  </tbody>\n",
              "</table>\n",
              "</div>"
            ],
            "text/plain": [
              "       Postcode Neighbourhood     Borough\n",
              "count       103           103         103\n",
              "unique      103           102          11\n",
              "top         M5M  Queen's Park  North York\n",
              "freq          1             2          24"
            ]
          },
          "metadata": {
            "tags": []
          },
          "execution_count": 25
        }
      ]
    },
    {
      "cell_type": "code",
      "metadata": {
        "id": "ZGBMOROdip9j",
        "colab_type": "code",
        "colab": {
          "base_uri": "https://localhost:8080/",
          "height": 34
        },
        "outputId": "c0e5e2d8-9cab-45eb-bf15-e4b890f2350b"
      },
      "source": [
        "df_test.shape"
      ],
      "execution_count": 26,
      "outputs": [
        {
          "output_type": "execute_result",
          "data": {
            "text/plain": [
              "(103, 3)"
            ]
          },
          "metadata": {
            "tags": []
          },
          "execution_count": 26
        }
      ]
    },
    {
      "cell_type": "markdown",
      "metadata": {
        "id": "-NW6ftqelhkO",
        "colab_type": "text"
      },
      "source": [
        "# Now geting co-ordinates #"
      ]
    },
    {
      "cell_type": "code",
      "metadata": {
        "id": "ypIP6YBOi1eO",
        "colab_type": "code",
        "colab": {}
      },
      "source": [
        "!wget -q -O 'geo.csv' https://cocl.us/Geospatial_data"
      ],
      "execution_count": 0,
      "outputs": []
    },
    {
      "cell_type": "code",
      "metadata": {
        "id": "Vi_T192zlaPJ",
        "colab_type": "code",
        "colab": {}
      },
      "source": [
        "loc = pd.read_csv('geo.csv')"
      ],
      "execution_count": 0,
      "outputs": []
    },
    {
      "cell_type": "code",
      "metadata": {
        "id": "P1JZUq43mFhg",
        "colab_type": "code",
        "colab": {
          "base_uri": "https://localhost:8080/",
          "height": 204
        },
        "outputId": "71227bbf-042c-4262-a5a7-539bade81647"
      },
      "source": [
        "loc.head()"
      ],
      "execution_count": 31,
      "outputs": [
        {
          "output_type": "execute_result",
          "data": {
            "text/html": [
              "<div>\n",
              "<style scoped>\n",
              "    .dataframe tbody tr th:only-of-type {\n",
              "        vertical-align: middle;\n",
              "    }\n",
              "\n",
              "    .dataframe tbody tr th {\n",
              "        vertical-align: top;\n",
              "    }\n",
              "\n",
              "    .dataframe thead th {\n",
              "        text-align: right;\n",
              "    }\n",
              "</style>\n",
              "<table border=\"1\" class=\"dataframe\">\n",
              "  <thead>\n",
              "    <tr style=\"text-align: right;\">\n",
              "      <th></th>\n",
              "      <th>Postal Code</th>\n",
              "      <th>Latitude</th>\n",
              "      <th>Longitude</th>\n",
              "    </tr>\n",
              "  </thead>\n",
              "  <tbody>\n",
              "    <tr>\n",
              "      <th>0</th>\n",
              "      <td>M1B</td>\n",
              "      <td>43.806686</td>\n",
              "      <td>-79.194353</td>\n",
              "    </tr>\n",
              "    <tr>\n",
              "      <th>1</th>\n",
              "      <td>M1C</td>\n",
              "      <td>43.784535</td>\n",
              "      <td>-79.160497</td>\n",
              "    </tr>\n",
              "    <tr>\n",
              "      <th>2</th>\n",
              "      <td>M1E</td>\n",
              "      <td>43.763573</td>\n",
              "      <td>-79.188711</td>\n",
              "    </tr>\n",
              "    <tr>\n",
              "      <th>3</th>\n",
              "      <td>M1G</td>\n",
              "      <td>43.770992</td>\n",
              "      <td>-79.216917</td>\n",
              "    </tr>\n",
              "    <tr>\n",
              "      <th>4</th>\n",
              "      <td>M1H</td>\n",
              "      <td>43.773136</td>\n",
              "      <td>-79.239476</td>\n",
              "    </tr>\n",
              "  </tbody>\n",
              "</table>\n",
              "</div>"
            ],
            "text/plain": [
              "  Postal Code   Latitude  Longitude\n",
              "0         M1B  43.806686 -79.194353\n",
              "1         M1C  43.784535 -79.160497\n",
              "2         M1E  43.763573 -79.188711\n",
              "3         M1G  43.770992 -79.216917\n",
              "4         M1H  43.773136 -79.239476"
            ]
          },
          "metadata": {
            "tags": []
          },
          "execution_count": 31
        }
      ]
    },
    {
      "cell_type": "code",
      "metadata": {
        "id": "IJSDKOigmMXX",
        "colab_type": "code",
        "colab": {
          "base_uri": "https://localhost:8080/",
          "height": 85
        },
        "outputId": "7a76fe8a-f379-47a3-82e5-06dfebd93417"
      },
      "source": [
        "loc.dtypes"
      ],
      "execution_count": 32,
      "outputs": [
        {
          "output_type": "execute_result",
          "data": {
            "text/plain": [
              "Postal Code     object\n",
              "Latitude       float64\n",
              "Longitude      float64\n",
              "dtype: object"
            ]
          },
          "metadata": {
            "tags": []
          },
          "execution_count": 32
        }
      ]
    },
    {
      "cell_type": "code",
      "metadata": {
        "id": "ufpJeCL3mPSY",
        "colab_type": "code",
        "colab": {}
      },
      "source": [
        "result = pd.concat([df_test, loc], axis = 1, sort=False)"
      ],
      "execution_count": 0,
      "outputs": []
    },
    {
      "cell_type": "code",
      "metadata": {
        "id": "od0F-yRDnOYG",
        "colab_type": "code",
        "colab": {
          "base_uri": "https://localhost:8080/",
          "height": 204
        },
        "outputId": "1bad4308-7107-4d0d-938e-881eb2fc6db1"
      },
      "source": [
        "result.head()"
      ],
      "execution_count": 34,
      "outputs": [
        {
          "output_type": "execute_result",
          "data": {
            "text/html": [
              "<div>\n",
              "<style scoped>\n",
              "    .dataframe tbody tr th:only-of-type {\n",
              "        vertical-align: middle;\n",
              "    }\n",
              "\n",
              "    .dataframe tbody tr th {\n",
              "        vertical-align: top;\n",
              "    }\n",
              "\n",
              "    .dataframe thead th {\n",
              "        text-align: right;\n",
              "    }\n",
              "</style>\n",
              "<table border=\"1\" class=\"dataframe\">\n",
              "  <thead>\n",
              "    <tr style=\"text-align: right;\">\n",
              "      <th></th>\n",
              "      <th>Postcode</th>\n",
              "      <th>Neighbourhood</th>\n",
              "      <th>Borough</th>\n",
              "      <th>Postal Code</th>\n",
              "      <th>Latitude</th>\n",
              "      <th>Longitude</th>\n",
              "    </tr>\n",
              "  </thead>\n",
              "  <tbody>\n",
              "    <tr>\n",
              "      <th>0</th>\n",
              "      <td>M1B</td>\n",
              "      <td>Rouge, Malvern</td>\n",
              "      <td>Scarborough</td>\n",
              "      <td>M1B</td>\n",
              "      <td>43.806686</td>\n",
              "      <td>-79.194353</td>\n",
              "    </tr>\n",
              "    <tr>\n",
              "      <th>1</th>\n",
              "      <td>M1C</td>\n",
              "      <td>Highland Creek, Rouge Hill, Port Union</td>\n",
              "      <td>Scarborough</td>\n",
              "      <td>M1C</td>\n",
              "      <td>43.784535</td>\n",
              "      <td>-79.160497</td>\n",
              "    </tr>\n",
              "    <tr>\n",
              "      <th>2</th>\n",
              "      <td>M1E</td>\n",
              "      <td>Guildwood, Morningside, West Hill</td>\n",
              "      <td>Scarborough</td>\n",
              "      <td>M1E</td>\n",
              "      <td>43.763573</td>\n",
              "      <td>-79.188711</td>\n",
              "    </tr>\n",
              "    <tr>\n",
              "      <th>3</th>\n",
              "      <td>M1G</td>\n",
              "      <td>Woburn</td>\n",
              "      <td>Scarborough</td>\n",
              "      <td>M1G</td>\n",
              "      <td>43.770992</td>\n",
              "      <td>-79.216917</td>\n",
              "    </tr>\n",
              "    <tr>\n",
              "      <th>4</th>\n",
              "      <td>M1H</td>\n",
              "      <td>Cedarbrae</td>\n",
              "      <td>Scarborough</td>\n",
              "      <td>M1H</td>\n",
              "      <td>43.773136</td>\n",
              "      <td>-79.239476</td>\n",
              "    </tr>\n",
              "  </tbody>\n",
              "</table>\n",
              "</div>"
            ],
            "text/plain": [
              "  Postcode                           Neighbourhood  ...   Latitude  Longitude\n",
              "0      M1B                          Rouge, Malvern  ...  43.806686 -79.194353\n",
              "1      M1C  Highland Creek, Rouge Hill, Port Union  ...  43.784535 -79.160497\n",
              "2      M1E       Guildwood, Morningside, West Hill  ...  43.763573 -79.188711\n",
              "3      M1G                                  Woburn  ...  43.770992 -79.216917\n",
              "4      M1H                               Cedarbrae  ...  43.773136 -79.239476\n",
              "\n",
              "[5 rows x 6 columns]"
            ]
          },
          "metadata": {
            "tags": []
          },
          "execution_count": 34
        }
      ]
    },
    {
      "cell_type": "code",
      "metadata": {
        "id": "7wbk8xO8nQLJ",
        "colab_type": "code",
        "colab": {}
      },
      "source": [
        "result.drop('Postal Code', axis = 1, inplace=True)"
      ],
      "execution_count": 0,
      "outputs": []
    },
    {
      "cell_type": "code",
      "metadata": {
        "id": "s9Db9Vw2nfcC",
        "colab_type": "code",
        "colab": {
          "base_uri": "https://localhost:8080/",
          "height": 204
        },
        "outputId": "61293013-48c7-421a-9aa2-82ff7d3d1f96"
      },
      "source": [
        "result.head()"
      ],
      "execution_count": 36,
      "outputs": [
        {
          "output_type": "execute_result",
          "data": {
            "text/html": [
              "<div>\n",
              "<style scoped>\n",
              "    .dataframe tbody tr th:only-of-type {\n",
              "        vertical-align: middle;\n",
              "    }\n",
              "\n",
              "    .dataframe tbody tr th {\n",
              "        vertical-align: top;\n",
              "    }\n",
              "\n",
              "    .dataframe thead th {\n",
              "        text-align: right;\n",
              "    }\n",
              "</style>\n",
              "<table border=\"1\" class=\"dataframe\">\n",
              "  <thead>\n",
              "    <tr style=\"text-align: right;\">\n",
              "      <th></th>\n",
              "      <th>Postcode</th>\n",
              "      <th>Neighbourhood</th>\n",
              "      <th>Borough</th>\n",
              "      <th>Latitude</th>\n",
              "      <th>Longitude</th>\n",
              "    </tr>\n",
              "  </thead>\n",
              "  <tbody>\n",
              "    <tr>\n",
              "      <th>0</th>\n",
              "      <td>M1B</td>\n",
              "      <td>Rouge, Malvern</td>\n",
              "      <td>Scarborough</td>\n",
              "      <td>43.806686</td>\n",
              "      <td>-79.194353</td>\n",
              "    </tr>\n",
              "    <tr>\n",
              "      <th>1</th>\n",
              "      <td>M1C</td>\n",
              "      <td>Highland Creek, Rouge Hill, Port Union</td>\n",
              "      <td>Scarborough</td>\n",
              "      <td>43.784535</td>\n",
              "      <td>-79.160497</td>\n",
              "    </tr>\n",
              "    <tr>\n",
              "      <th>2</th>\n",
              "      <td>M1E</td>\n",
              "      <td>Guildwood, Morningside, West Hill</td>\n",
              "      <td>Scarborough</td>\n",
              "      <td>43.763573</td>\n",
              "      <td>-79.188711</td>\n",
              "    </tr>\n",
              "    <tr>\n",
              "      <th>3</th>\n",
              "      <td>M1G</td>\n",
              "      <td>Woburn</td>\n",
              "      <td>Scarborough</td>\n",
              "      <td>43.770992</td>\n",
              "      <td>-79.216917</td>\n",
              "    </tr>\n",
              "    <tr>\n",
              "      <th>4</th>\n",
              "      <td>M1H</td>\n",
              "      <td>Cedarbrae</td>\n",
              "      <td>Scarborough</td>\n",
              "      <td>43.773136</td>\n",
              "      <td>-79.239476</td>\n",
              "    </tr>\n",
              "  </tbody>\n",
              "</table>\n",
              "</div>"
            ],
            "text/plain": [
              "  Postcode                           Neighbourhood  ...   Latitude  Longitude\n",
              "0      M1B                          Rouge, Malvern  ...  43.806686 -79.194353\n",
              "1      M1C  Highland Creek, Rouge Hill, Port Union  ...  43.784535 -79.160497\n",
              "2      M1E       Guildwood, Morningside, West Hill  ...  43.763573 -79.188711\n",
              "3      M1G                                  Woburn  ...  43.770992 -79.216917\n",
              "4      M1H                               Cedarbrae  ...  43.773136 -79.239476\n",
              "\n",
              "[5 rows x 5 columns]"
            ]
          },
          "metadata": {
            "tags": []
          },
          "execution_count": 36
        }
      ]
    },
    {
      "cell_type": "markdown",
      "metadata": {
        "id": "78IEbEcwnoFB",
        "colab_type": "text"
      },
      "source": [
        "# Final data frame #"
      ]
    },
    {
      "cell_type": "code",
      "metadata": {
        "id": "OggwOFzVnhOE",
        "colab_type": "code",
        "colab": {}
      },
      "source": [
        ""
      ],
      "execution_count": 0,
      "outputs": []
    },
    {
      "cell_type": "code",
      "metadata": {
        "id": "jMbTPbKpnj2H",
        "colab_type": "code",
        "colab": {}
      },
      "source": [
        ""
      ],
      "execution_count": 0,
      "outputs": []
    },
    {
      "cell_type": "code",
      "metadata": {
        "id": "_8OuQ7Uhpu1Q",
        "colab_type": "code",
        "colab": {}
      },
      "source": [
        ""
      ],
      "execution_count": 0,
      "outputs": []
    },
    {
      "cell_type": "markdown",
      "metadata": {
        "id": "hV3wQG1epwFE",
        "colab_type": "text"
      },
      "source": [
        "# CLUSTER ANALYSIS #"
      ]
    },
    {
      "cell_type": "code",
      "metadata": {
        "id": "TPsHkj-vpu96",
        "colab_type": "code",
        "colab": {}
      },
      "source": [
        "from geopy.geocoders import Nominatim\n",
        "import folium"
      ],
      "execution_count": 0,
      "outputs": []
    },
    {
      "cell_type": "code",
      "metadata": {
        "id": "mVXi3f-ap9h1",
        "colab_type": "code",
        "colab": {}
      },
      "source": [
        "address = 'Toronto'\n",
        "geolocator = Nominatim(user_agent = 'four-square')\n",
        "location = geolocator.geocode(address)"
      ],
      "execution_count": 0,
      "outputs": []
    },
    {
      "cell_type": "code",
      "metadata": {
        "id": "T3Zina7yqjJf",
        "colab_type": "code",
        "colab": {}
      },
      "source": [
        "latitude = location.latitude\n",
        "longitude = location.longitude"
      ],
      "execution_count": 0,
      "outputs": []
    },
    {
      "cell_type": "code",
      "metadata": {
        "id": "-Ug84NDAqrYd",
        "colab_type": "code",
        "colab": {
          "base_uri": "https://localhost:8080/",
          "height": 755
        },
        "outputId": "8f544763-6018-4478-f5bc-c141dedc50af"
      },
      "source": [
        "# create map of Toronto using latitude and longitude values\n",
        "map_toronto = folium.Map(location=[latitude, longitude], zoom_start=10)\n",
        "\n",
        "# add markers to map\n",
        "for lat, lng, borough, neighborhood in zip(result['Latitude'], result['Longitude'], result['Borough'], result['Neighbourhood']):\n",
        "    label = '{}, {}'.format(neighborhood, borough)\n",
        "    label = folium.Popup(label, parse_html=True)\n",
        "    folium.CircleMarker(\n",
        "        [lat, lng],\n",
        "        radius=5,\n",
        "        popup=label,\n",
        "        color='blue',\n",
        "        fill=True,\n",
        "        fill_color='#3186cc',\n",
        "        fill_opacity=0.7,\n",
        "        parse_html=False).add_to(map_toronto)  \n",
        "    \n",
        "map_toronto"
      ],
      "execution_count": 44,
      "outputs": [
        {
          "output_type": "execute_result",
          "data": {
            "text/html": [
              "<div style=\"width:100%;\"><div style=\"position:relative;width:100%;height:0;padding-bottom:60%;\"><iframe src=\"data:text/html;charset=utf-8;base64,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\" style=\"position:absolute;width:100%;height:100%;left:0;top:0;border:none !important;\" allowfullscreen webkitallowfullscreen mozallowfullscreen></iframe></div></div>"
            ],
            "text/plain": [
              "<folium.folium.Map at 0x7f9c844415f8>"
            ]
          },
          "metadata": {
            "tags": []
          },
          "execution_count": 44
        }
      ]
    },
    {
      "cell_type": "code",
      "metadata": {
        "id": "Q5j8Sz2QrYJO",
        "colab_type": "code",
        "colab": {}
      },
      "source": [
        ""
      ],
      "execution_count": 0,
      "outputs": []
    }
  ]
}