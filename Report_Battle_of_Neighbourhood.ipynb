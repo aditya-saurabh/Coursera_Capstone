{
  "nbformat": 4,
  "nbformat_minor": 0,
  "metadata": {
    "colab": {
      "name": "Report_Battle_of_Neighbourhood",
      "provenance": [],
      "collapsed_sections": [],
      "include_colab_link": true
    },
    "kernelspec": {
      "name": "python3",
      "display_name": "Python 3"
    }
  },
  "cells": [
    {
      "cell_type": "markdown",
      "metadata": {
        "id": "view-in-github",
        "colab_type": "text"
      },
      "source": [
        "<a href=\"https://colab.research.google.com/github/aditya-saurabh/Coursera_Capstone/blob/master/Report_Battle_of_Neighbourhood.ipynb\" target=\"_parent\"><img src=\"https://colab.research.google.com/assets/colab-badge.svg\" alt=\"Open In Colab\"/></a>"
      ]
    },
    {
      "cell_type": "markdown",
      "metadata": {
        "id": "X_KSe0GEPmip",
        "colab_type": "text"
      },
      "source": [
        "# **Report** #"
      ]
    },
    {
      "cell_type": "markdown",
      "metadata": {
        "id": "u_SxC9o8PwDU",
        "colab_type": "text"
      },
      "source": [
        "## Introduction / Business Problem ##\n",
        "### In my project an attempt has been made to cluster the neighbourhood of city Mumbai (India). Mumbai is the heart of the country and millions of people come there every year for job opportunities and to make their dreams come true. Rightly quoted by many, it is the *Dream Capital of the Country*.<br><br> People travel many miles to commute to work and for various other activities, people tend to change their neighbourhood quite often, and who wants to leave their comfort zone. So, here a novel approach has been provided. <br><br> I have tried to cluster the various localities of the city, based on the different amenities in the close vicinity of the locality."
      ]
    },
    {
      "cell_type": "code",
      "metadata": {
        "id": "kZCssJzYPvYn",
        "colab_type": "code",
        "colab": {}
      },
      "source": [
        ""
      ],
      "execution_count": 0,
      "outputs": []
    },
    {
      "cell_type": "code",
      "metadata": {
        "id": "hjekphvXPsC1",
        "colab_type": "code",
        "colab": {}
      },
      "source": [
        ""
      ],
      "execution_count": 0,
      "outputs": []
    },
    {
      "cell_type": "markdown",
      "metadata": {
        "id": "CIRUHbJeRxNQ",
        "colab_type": "text"
      },
      "source": [
        "## Description of Data ##\n",
        "### Key techniques and data that has been used in the project is listed below:\n",
        "### <ul><li> Neighbourhood data is collected from mapsofindia.com ( <a href = https://www.mapsofindia.com/pincode/india/maharashtra/mumbai/>here</a> ), and put into pandas dataframe. read_table attribute of padas has been used.<li> Foursquare API has been used to explore the nearby venue, limit on venues has been put to 100 and radius of interest has been se to 500metres. <li>Folium library has been used to generate interactive maps of the city, folium is an open source libraby to create visually appealing maps of the world with a lot of customisation.<li>K Means clustering algorithm has been used to cluster data, the number of clusters has been set to 4, and sklearn library has been used."
      ]
    },
    {
      "cell_type": "code",
      "metadata": {
        "id": "Co6YUzkYSYfE",
        "colab_type": "code",
        "colab": {}
      },
      "source": [
        ""
      ],
      "execution_count": 0,
      "outputs": []
    }
  ]
}